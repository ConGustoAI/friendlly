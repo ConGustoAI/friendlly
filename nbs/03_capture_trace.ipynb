{
 "cells": [
  {
   "cell_type": "markdown",
   "metadata": {},
   "source": [
    "## Capture tracebacks in IPython/Jupyter"
   ]
  },
  {
   "cell_type": "code",
   "execution_count": null,
   "metadata": {},
   "outputs": [],
   "source": [
    "#| default_exp capture_trace"
   ]
  },
  {
   "cell_type": "code",
   "execution_count": null,
   "metadata": {},
   "outputs": [],
   "source": [
    "#| export\n",
    "import re\n",
    "from IPython import get_ipython\n",
    "from friendlly.utils import nict"
   ]
  },
  {
   "cell_type": "code",
   "execution_count": null,
   "metadata": {},
   "outputs": [],
   "source": [
    "#| export\n",
    "class SaveTraceback:\n",
    "    def __init__(self, saved):\n",
    "        self._saved_showtraceback = saved\n",
    "        self.tracebacks = []\n",
    "\n",
    "    def _showtraceback(self, etype, value, stb):\n",
    "        self.tracebacks.append( nict(\n",
    "            ename=etype,\n",
    "            evalue=\", \".join(value.args),\n",
    "            traceback= stb # [\"\\n\".join([ strip_junk(s) for s in stb]) if isinstance(stb, list) else stb]\n",
    "        ))\n",
    "        self._saved_showtraceback(etype, value, stb)\n",
    "\n",
    "    def register(self):\n",
    "        get_ipython()._showtraceback = self._showtraceback\n",
    "\n",
    "    def unregister(self):\n",
    "        get_ipython()._showtraceback = self._saved_showtraceback\n"
   ]
  },
  {
   "cell_type": "code",
   "execution_count": null,
   "metadata": {},
   "outputs": [],
   "source": [
    "ip = get_ipython()\n",
    "saver = SaveTraceback(ip._showtraceback)\n",
    "ip._showtraceback = saver._showtraceback"
   ]
  },
  {
   "cell_type": "code",
   "execution_count": null,
   "metadata": {},
   "outputs": [
    {
     "ename": "ValueError",
     "evalue": "This is a nested exception",
     "output_type": "error",
     "traceback": [
      "\u001b[0;31m---------------------------------------------------------------------------\u001b[0m",
      "\u001b[0;31mZeroDivisionError\u001b[0m                         Traceback (most recent call last)",
      "Cell \u001b[0;32mIn[14], line 4\u001b[0m, in \u001b[0;36mouter_exception\u001b[0;34m()\u001b[0m\n\u001b[1;32m      3\u001b[0m \u001b[38;5;28;01mtry\u001b[39;00m:\n\u001b[0;32m----> 4\u001b[0m     \u001b[38;5;241;43m1\u001b[39;49m\u001b[43m \u001b[49m\u001b[38;5;241;43m/\u001b[39;49m\u001b[43m \u001b[49m\u001b[38;5;241;43m0\u001b[39;49m  \u001b[38;5;66;03m# Raises ZeroDivisionError\u001b[39;00m\n\u001b[1;32m      5\u001b[0m \u001b[38;5;28;01mexcept\u001b[39;00m \u001b[38;5;167;01mZeroDivisionError\u001b[39;00m:\n",
      "\u001b[0;31mZeroDivisionError\u001b[0m: division by zero",
      "\nDuring handling of the above exception, another exception occurred:\n",
      "\u001b[0;31mValueError\u001b[0m                                Traceback (most recent call last)",
      "Cell \u001b[0;32mIn[14], line 8\u001b[0m\n\u001b[1;32m      5\u001b[0m     \u001b[38;5;28;01mexcept\u001b[39;00m \u001b[38;5;167;01mZeroDivisionError\u001b[39;00m:\n\u001b[1;32m      6\u001b[0m         \u001b[38;5;28;01mraise\u001b[39;00m \u001b[38;5;167;01mValueError\u001b[39;00m(\u001b[38;5;124m\"\u001b[39m\u001b[38;5;124mThis is a nested exception\u001b[39m\u001b[38;5;124m\"\u001b[39m)\n\u001b[0;32m----> 8\u001b[0m \u001b[43mouter_exception\u001b[49m\u001b[43m(\u001b[49m\u001b[43m)\u001b[49m\n",
      "Cell \u001b[0;32mIn[14], line 6\u001b[0m, in \u001b[0;36mouter_exception\u001b[0;34m()\u001b[0m\n\u001b[1;32m      4\u001b[0m     \u001b[38;5;241m1\u001b[39m \u001b[38;5;241m/\u001b[39m \u001b[38;5;241m0\u001b[39m  \u001b[38;5;66;03m# Raises ZeroDivisionError\u001b[39;00m\n\u001b[1;32m      5\u001b[0m \u001b[38;5;28;01mexcept\u001b[39;00m \u001b[38;5;167;01mZeroDivisionError\u001b[39;00m:\n\u001b[0;32m----> 6\u001b[0m     \u001b[38;5;28;01mraise\u001b[39;00m \u001b[38;5;167;01mValueError\u001b[39;00m(\u001b[38;5;124m\"\u001b[39m\u001b[38;5;124mThis is a nested exception\u001b[39m\u001b[38;5;124m\"\u001b[39m)\n",
      "\u001b[0;31mValueError\u001b[0m: This is a nested exception"
     ]
    }
   ],
   "source": [
    "#| eval: false\n",
    "def outer_exception():\n",
    "    try:\n",
    "        1 / 0  # Raises ZeroDivisionError\n",
    "    except ZeroDivisionError:\n",
    "        raise ValueError(\"This is a nested exception\")\n",
    "\n",
    "outer_exception()"
   ]
  },
  {
   "cell_type": "code",
   "execution_count": null,
   "metadata": {},
   "outputs": [
    {
     "data": {
      "text/plain": [
       "[{'ename': ValueError,\n",
       "  'evalue': 'This is a nested exception',\n",
       "  'traceback': ['\\x1b[0;31m---------------------------------------------------------------------------\\x1b[0m',\n",
       "   '\\x1b[0;31mZeroDivisionError\\x1b[0m                         Traceback (most recent call last)',\n",
       "   'Cell \\x1b[0;32mIn[8], line 4\\x1b[0m, in \\x1b[0;36mouter_exception\\x1b[0;34m()\\x1b[0m\\n\\x1b[1;32m      3\\x1b[0m \\x1b[38;5;28;01mtry\\x1b[39;00m:\\n\\x1b[0;32m----> 4\\x1b[0m     \\x1b[38;5;241;43m1\\x1b[39;49m\\x1b[43m \\x1b[49m\\x1b[38;5;241;43m/\\x1b[39;49m\\x1b[43m \\x1b[49m\\x1b[38;5;241;43m0\\x1b[39;49m  \\x1b[38;5;66;03m# Raises ZeroDivisionError\\x1b[39;00m\\n\\x1b[1;32m      5\\x1b[0m \\x1b[38;5;28;01mexcept\\x1b[39;00m \\x1b[38;5;167;01mZeroDivisionError\\x1b[39;00m:\\n',\n",
       "   '\\x1b[0;31mZeroDivisionError\\x1b[0m: division by zero',\n",
       "   '\\nDuring handling of the above exception, another exception occurred:\\n',\n",
       "   '\\x1b[0;31mValueError\\x1b[0m                                Traceback (most recent call last)',\n",
       "   'Cell \\x1b[0;32mIn[8], line 8\\x1b[0m\\n\\x1b[1;32m      5\\x1b[0m     \\x1b[38;5;28;01mexcept\\x1b[39;00m \\x1b[38;5;167;01mZeroDivisionError\\x1b[39;00m:\\n\\x1b[1;32m      6\\x1b[0m         \\x1b[38;5;28;01mraise\\x1b[39;00m \\x1b[38;5;167;01mValueError\\x1b[39;00m(\\x1b[38;5;124m\"\\x1b[39m\\x1b[38;5;124mThis is a nested exception\\x1b[39m\\x1b[38;5;124m\"\\x1b[39m)\\n\\x1b[0;32m----> 8\\x1b[0m \\x1b[43mouter_exception\\x1b[49m\\x1b[43m(\\x1b[49m\\x1b[43m)\\x1b[49m\\n',\n",
       "   'Cell \\x1b[0;32mIn[8], line 6\\x1b[0m, in \\x1b[0;36mouter_exception\\x1b[0;34m()\\x1b[0m\\n\\x1b[1;32m      4\\x1b[0m     \\x1b[38;5;241m1\\x1b[39m \\x1b[38;5;241m/\\x1b[39m \\x1b[38;5;241m0\\x1b[39m  \\x1b[38;5;66;03m# Raises ZeroDivisionError\\x1b[39;00m\\n\\x1b[1;32m      5\\x1b[0m \\x1b[38;5;28;01mexcept\\x1b[39;00m \\x1b[38;5;167;01mZeroDivisionError\\x1b[39;00m:\\n\\x1b[0;32m----> 6\\x1b[0m     \\x1b[38;5;28;01mraise\\x1b[39;00m \\x1b[38;5;167;01mValueError\\x1b[39;00m(\\x1b[38;5;124m\"\\x1b[39m\\x1b[38;5;124mThis is a nested exception\\x1b[39m\\x1b[38;5;124m\"\\x1b[39m)\\n',\n",
       "   '\\x1b[0;31mValueError\\x1b[0m: This is a nested exception']}]"
      ]
     },
     "execution_count": null,
     "metadata": {},
     "output_type": "execute_result"
    }
   ],
   "source": [
    "saver.tracebacks"
   ]
  }
 ],
 "metadata": {
  "kernelspec": {
   "display_name": "python3",
   "language": "python",
   "name": "python3"
  }
 },
 "nbformat": 4,
 "nbformat_minor": 2
}
