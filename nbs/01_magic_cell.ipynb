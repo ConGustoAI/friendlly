{
 "cells": [
  {
   "cell_type": "markdown",
   "metadata": {},
   "source": [
    "## Core"
   ]
  },
  {
   "cell_type": "code",
   "execution_count": null,
   "metadata": {},
   "outputs": [],
   "source": [
    "#| default_exp magic_cell"
   ]
  },
  {
   "cell_type": "code",
   "execution_count": null,
   "metadata": {},
   "outputs": [],
   "source": [
    "#| hide\n",
    "%load_ext autoreload\n",
    "%autoreload 2"
   ]
  },
  {
   "cell_type": "code",
   "execution_count": null,
   "metadata": {},
   "outputs": [],
   "source": [
    "#| hide\n",
    "from dotenv import load_dotenv\n",
    "import os"
   ]
  },
  {
   "cell_type": "code",
   "execution_count": null,
   "metadata": {},
   "outputs": [],
   "source": [
    "#| hide\n",
    "load_dotenv();"
   ]
  },
  {
   "cell_type": "markdown",
   "metadata": {},
   "source": [
    "## Friend**LL**y"
   ]
  },
  {
   "cell_type": "code",
   "execution_count": null,
   "metadata": {},
   "outputs": [],
   "source": [
    "#| export\n",
    "\n",
    "system_prompt=\"\"\"\n",
    "You are ConGusto, a very knowledgeable and intelligent research assistant.\n",
    "Fulfill simple requests right away.\n",
    "Use <thought>, it's not shown to the user. You can use <thought> multiple times.\n",
    "\n",
    "When appropriate, use Jupyter notebook. It has python 3.10+ and many packages installed.\n",
    "Use <code> to add a new code cell.\n",
    "Use <run> to execute the added cell. You will receive all its output on the next turn.\n",
    "\n",
    "Avoid putting too much in one cell. Prefer short cells that can be tested quickly.\n",
    "This way you will be able to check that the cell works as intended and continue.\n",
    "\n",
    "You can use the usual display(), print(), or just place the value on the last line of the cell.\n",
    "Make sure to not add anything after that value, as it won't be retuerned if it's not on the last line.\n",
    "Only output a result once with one method.\n",
    "Avid using .show() and close matplot figures before the end of the cell - use an explicit display().\n",
    "\n",
    "After code execution, if the request has been fullfilled, reply only with <done>, do not explain the obvious.\n",
    "The user will ask follow-up questions if needed. They want you to do only what they asked for.\n",
    "You should also end your text with <done> if there is no need to run code.\n",
    "\n",
    "To show an example in python without running the code, use\n",
    "```python\n",
    "python code here\n",
    "```\n",
    "\n",
    "For example:\n",
    "User: Calculate square root of pi\n",
    "Assistant: <code>\n",
    "import math\n",
    "math.sqrt(math.pi)\n",
    "</code><run>\n",
    "User: <stdio>1.7724538509055159<stdio>\n",
    "Assistant: <done>\n",
    "\n",
    "User: Display cat.jpg\n",
    "Assistant: <thought>I can use the PIL library for this.</thought><code>\n",
    "from PIL import Image\n",
    "Image.open(\"cat.jpg\")\n",
    "</code><run>\n",
    "User: <PIL.PngImagePlugin.PngImageFile image mode=RGBA size=128x127>\n",
    "User: <image message>\n",
    "Assistant: <done>\n",
    "\n",
    "When writing code, use advanced python features.\n",
    "Assume all packages are instlled.\n",
    "Don't forget to import modules before using them.\n",
    "If you realize that you need to use a module that is not imported, import in in place.\n",
    "\"\"\"\n"
   ]
  },
  {
   "cell_type": "code",
   "execution_count": null,
   "metadata": {},
   "outputs": [
    {
     "data": {
      "application/javascript": [],
      "text/plain": [
       "<IPython.core.display.Javascript object>"
      ]
     },
     "metadata": {},
     "output_type": "display_data"
    }
   ],
   "source": [
    "#| export\n",
    "\n",
    "import sys\n",
    "import base64\n",
    "import json\n",
    "from typing import List, Dict, Tuple\n",
    "import textwrap\n",
    "\n",
    "\n",
    "from friendlly.utils.nbclassic import (\n",
    "    patch_kernel,\n",
    "    add_cell,\n",
    "    update_cell,\n",
    "    render_cell,\n",
    "    execute_cell,\n",
    "    delete_cell,\n",
    "    get_index)\n",
    "patch_kernel()\n",
    "\n",
    "from friendlly.utils.misc import nict, safe_int\n",
    "from friendlly.utils.capture_trace import strip_junk, SaveTraceback\n",
    "from friendlly.utils.capture_display import PassthroughCapturer\n",
    "from friendlly.utils.capture_io import TeeIO\n",
    "import claudette\n",
    "from claudette import text_msg, img_msg, mk_msg\n",
    "\n",
    "\n",
    "from IPython import get_ipython\n",
    "from IPython.display import display, clear_output, Markdown, Javascript"
   ]
  },
  {
   "cell_type": "code",
   "execution_count": null,
   "metadata": {},
   "outputs": [],
   "source": [
    "#| export\n",
    "\n",
    "def display_data_to_messages(dsp):\n",
    "    plain_text = dsp.get(\"text/plain\")\n",
    "    text = list(filter(lambda x:x[1], [\n",
    "        (\"text-html\", dsp.get(\"text/html\")),\n",
    "        (\"latex\", dsp.get(\"text/latex\")),\n",
    "        (\"markdown\", dsp.get(\"text/markdown\")),\n",
    "        (\"json\", dsp.get(\"application/json\")),\n",
    "        (\"js\", dsp.get(\"application/javascript\"))\n",
    "    ]))\n",
    "\n",
    "    images = list(filter(lambda x:x, [ dsp.get(\"image/png\"), dsp.get(\"image/jpeg\") ]))\n",
    "    svg = dsp.get(\"image/svg+xml\")\n",
    "    if svg: images.append(svg_to_png(svg, 256))\n",
    "\n",
    "    messages = [f\"<{t[0]}>{t[1]}</{t[0]}>\" for t in text]\n",
    "\n",
    "    if not len(messages):\n",
    "        messages = [plain_text]\n",
    "\n",
    "    claudette_msgs = [text_msg(m) for m in messages]\n",
    "    if images:\n",
    "        claudette_msgs.append(img_msg(images[0])) # Grab only one image\n",
    "\n",
    "    return claudette_msgs\n",
    "\n",
    "def parse_cell_line(line):\n",
    "    num_cells, is_reply, is_friendlly = 0, False, False\n",
    "    if line.lstrip('# \\t').rstrip().startswith(\"%%fr\"):\n",
    "        is_friendlly = True\n",
    "        args = line.split()\n",
    "        for arg in args[1:]:\n",
    "            if \"+\" in arg: num_cells = safe_int(arg[1:])\n",
    "            if arg == \"reply\": is_reply = True\n",
    "\n",
    "    return num_cells, is_friendlly, is_reply\n",
    "\n",
    "def parse_above_cell(cell):\n",
    "    assert \"source\" in cell\n",
    "    if cell.cell_type != \"code\":\n",
    "        assert not \"outputs\" in cell or not len(cell.outputs), \"Got a non-code cell with outputs??\"\n",
    "        return False, False, text_msg(cell.source), []\n",
    "\n",
    "    num_cells = 0\n",
    "    is_reply = False\n",
    "    is_friendlly = False\n",
    "    code_blk = None\n",
    "    output_blks = []\n",
    "\n",
    "    lines = cell.source.strip().splitlines()\n",
    "    if lines:\n",
    "        num_cells, is_friendlly, is_reply = parse_cell_line(lines[0])\n",
    "\n",
    "        # Remove the cell magic\n",
    "        if is_friendlly:\n",
    "            lines = lines[1:]\n",
    "        code_text = \"\\n\".join(lines)\n",
    "\n",
    "        outputs = cell.get(\"outputs\", [])\n",
    "        for o in outputs:\n",
    "            if o.output_type == \"stream\":\n",
    "                output_blks.append(text_msg(f\"<{o.name}>{o.text}</{o.name}>\"))\n",
    "            if o.output_type in (\"display_data\", \"execute_result\"):\n",
    "                # We produce a lot of empty JS outputs when running the chat, and they don't get\n",
    "                # cleaned up in time. Let's just ignore empty js objects.\n",
    "                if \"application/javascript\" not in o.data or o.data[\"application/javascript\"]:\n",
    "                    output_blks += display_data_to_messages(o.data)\n",
    "            if o.output_type == \"error\":\n",
    "                output_blks.append(text_msg(\"<error>\" + strip_junk(\"\\n\".join(o.traceback)) + \"</error>\"))\n",
    "\n",
    "\n",
    "\n",
    "        return is_friendlly, is_reply, code_text, output_blks\n",
    "    return False, False, None, []"
   ]
  },
  {
   "cell_type": "code",
   "execution_count": null,
   "metadata": {},
   "outputs": [],
   "source": [
    "#| export\n",
    "\n",
    "def cells_to_messages(cells):\n",
    "    messages = []\n",
    "\n",
    "\n",
    "    # We found the first %%fr message (request from user).\n",
    "    # This means that we treat further cells (markdown and code without %%fr) as assistant-generated.\n",
    "    user_message_found = False\n",
    "    for cell in cells:\n",
    "        cell_friendlly, cell_reply, code_text, output_blks = parse_above_cell(cell)\n",
    "\n",
    "        if code_text:\n",
    "            # If the cell is marked with %%fr reply, or we found the user request above.\n",
    "            if cell_reply:       role=\"assistant\"  # Messages has '%%fr reply'\n",
    "            elif cell_friendlly: role=\"user\" # Message has %%fr without 'reply'\n",
    "            else:                role=\"assistant\" if user_message_found else \"user\" # It's not an %%fr cell.\n",
    "\n",
    "            # We found an %%fr cell that is not a reply - means it's a user message!\n",
    "            if cell_friendlly and not cell_reply: user_message_found=True\n",
    "\n",
    "            # Assistant code gets wrapped into tags, user code gets wrapped into ```\n",
    "            # Markdown is passed as is.\n",
    "            if role == \"assistant\" and cell.cell_type == \"code\":\n",
    "                code_text = f\"<code>{code_text}</code>\"\n",
    "            elif role == \"user\":\n",
    "                code_text = f\"```\\n{code_text}\\n```\"\n",
    "\n",
    "            messages.append(mk_msg([code_text], role=role))\n",
    "\n",
    "        # Outputs for both user and assistant code cells are always user messages.\n",
    "        if output_blks:\n",
    "            messages.append(mk_msg(output_blks, role=\"user\"))\n",
    "\n",
    "    return [nict(m) for m in messages]"
   ]
  },
  {
   "cell_type": "code",
   "execution_count": null,
   "metadata": {},
   "outputs": [],
   "source": [
    "#| export\n",
    "\n",
    "def merge_messages(msgs):\n",
    "\n",
    "    # first, merge by role\n",
    "    role_messages = []\n",
    "    prev_role = None\n",
    "\n",
    "    for m in msgs:\n",
    "        if prev_role == m.role: role_messages[-1].content += m.content\n",
    "        else:                   role_messages.append(m)\n",
    "        prev_role = m.role\n",
    "\n",
    "    # Then, for assistant, also coalesce text messages together\n",
    "    for m in role_messages:\n",
    "        merged_content = []\n",
    "        for c in m.content:\n",
    "            if c.type == \"text\" and merged_content and merged_content[-1].type == \"text\":\n",
    "                merged_content[-1].text += (\"\\n\" + c.text)\n",
    "            else: merged_content.append(c)\n",
    "        m.content = merged_content\n",
    "    return role_messages\n"
   ]
  },
  {
   "cell_type": "code",
   "execution_count": null,
   "metadata": {},
   "outputs": [],
   "source": [
    "#| export\n",
    "\n",
    "def make_cell_from_captured(source:str, res, stdout:str, stderr:str, displays, tracebacks):\n",
    "    ip = get_ipython()\n",
    "    cell = nict()\n",
    "    cell.metadata  = {}\n",
    "    cell.cell_type = \"code\"\n",
    "    cell.source    = source\n",
    "    cell.outputs   = []\n",
    "    if stdout: cell.outputs.append(nict(output_type=\"stream\", name=\"stdout\", text=stdout))\n",
    "    if stderr: cell.outputs.append(nict(output_type=\"stream\", name=\"stderr\", text=stderr))\n",
    "    for d in displays:\n",
    "        cell.outputs.append(nict(output_type=\"display_data\", data=d))\n",
    "    if res.result:\n",
    "        formatted, _ = ip.display_formatter.format(res.result)\n",
    "        cell.outputs.append(nict(output_type=\"execute_result\", data=formatted))\n",
    "    for t in tracebacks:\n",
    "        cell.outputs.append(nict(t, output_type=\"error\"))\n",
    "\n",
    "    return cell             "
   ]
  },
  {
   "cell_type": "code",
   "execution_count": null,
   "metadata": {},
   "outputs": [],
   "source": [
    "#| export\n",
    "\n",
    "class CellChat():\n",
    "    def __init__(self, model=\"claude-3-5-sonnet-20240620\", sp=None):\n",
    "        if sp is not None: self.sp = sp\n",
    "        self.history = []\n",
    "        self.client = claudette.Client(model=model)\n",
    "\n",
    "    def update_markdown(self, text):\n",
    "        if self.md_idx is None:\n",
    "            self.md_idx = self.idx+1\n",
    "            add_cell(self.md_idx, \"markdown\")\n",
    "        update_cell(self.md_idx, text)\n",
    "        render_cell(self.md_idx)\n",
    "\n",
    "    def delete_markdown(self):\n",
    "        if self.md_idx:\n",
    "            if self.code_idx: self.code_idx -= 1\n",
    "            delete_cell(self.md_idx)\n",
    "            self.md_idx = None       \n",
    "        \n",
    "    def update_code(self, code):\n",
    "        if self.code_idx is None:\n",
    "            self.code_idx = self.md_idx+1 if (self.md_idx is not None) else self.idx+1\n",
    "            add_cell(self.code_idx, \"code\")\n",
    "        update_cell(self.code_idx, code)\n",
    "\n",
    "    def go(self, num_above, messages):\n",
    "        idx = get_index()\n",
    "        \n",
    "        assert idx >= 0\n",
    "        self.idx = idx\n",
    "        self.md_idx = self.code_idx = None\n",
    "        self.thought_display_id = None\n",
    "        self.history.append(messages)\n",
    "\n",
    "        tokens = []\n",
    "        try:\n",
    "            md_reply = \"\"\n",
    "            md_updated = False\n",
    "            code_reply = \"\"\n",
    "            code_updated = False\n",
    "            thought = \"\"\n",
    "            thought_updated = False\n",
    "            \n",
    "            state = \"md\"\n",
    "            \n",
    "            r = self.client(messages,\n",
    "                            sp=self.sp,\n",
    "                            stream=True,\n",
    "                            stop=[\"</code>\", \"<done>\"])\n",
    "            for token in r:\n",
    "                tokens.append(token)\n",
    "#                 print(state, f\"'{token}'\", f\"'{code_reply}'\", f\"'{md_reply}'\")\n",
    "\n",
    "                if state == \"md\":\n",
    "                    md_reply += token\n",
    "                    md_updated = True\n",
    "                            \n",
    "                    if \"<code>\" in md_reply:\n",
    "                        md_reply, code_reply = md_reply.split(\"<code>\")\n",
    "                        code_updated = True\n",
    "                        state = \"code\"\n",
    "\n",
    "                    if \"<thought>\" in md_reply:\n",
    "                        md_reply_body, thought = md_reply.split(\"<thought>\")\n",
    "                        state = \"thought\"\n",
    "                    \n",
    "                elif state == \"thought\":\n",
    "                    thought += token\n",
    "                    md_tail = \"\"\n",
    "                    md_updated = True\n",
    "\n",
    "                    def combine_md_reply(body, thought, tail=\"\"):\n",
    "                        return f'{body}<details><summary style=\"display: list-item\">🧠</summary>{thought}</details>{tail}'\n",
    "\n",
    "                    if \"</thought>\" in thought:\n",
    "                        thought, md_tail = thought.split(\"</thought>\")\n",
    "                        state = \"md\"\n",
    "                    md_reply = combine_md_reply(md_reply_body, thought, md_tail)                            \n",
    "                \n",
    "                else: #code\n",
    "                    code_reply += token\n",
    "                    code_updated = True\n",
    "\n",
    "                if md_updated:\n",
    "                    md_updated = False\n",
    "                    if md_reply.strip():\n",
    "                        self.update_markdown(md_reply.strip())\n",
    "                    else:\n",
    "                        self.delete_markdown()\n",
    "                   \n",
    "                if code_updated:\n",
    "                    code_updated = False\n",
    "                    prefix = f\"%%fr +{num_above + (self.code_idx - self.idx)} reply\\n\" if self.code_idx else \"%%fr reply\"\n",
    "                    self.update_code(prefix + code_reply.strip())\n",
    "                    \n",
    "                    \n",
    "#             if code_reply is not None:\n",
    "#                 for token in r:\n",
    "#                     tokens.append(token)\n",
    "#                     code_reply += token\n",
    "#                     prefix = f\"%%fr +{num_above + (self.code_idx - self.idx)} reply\\n\" if self.code_idx else \"%%fr reply\"\n",
    "#                     self.update_code(prefix + code_reply.strip())\n",
    "\n",
    "            if self.client.stop_reason == \"stop_sequence\":\n",
    "                tokens += self.client.stop_sequence\n",
    "            self.history.append(claudette.mk_msg(\"\".join(tokens), role=\"assistant\"))\n",
    "\n",
    "            return self.md_idx, self.code_idx\n",
    "            \n",
    "        except BaseException as e:\n",
    "            raise e\n",
    "#             display(Markdown(f\"🚫 {repr(e)}\"))\n",
    "#             get_ipython().showtraceback()\n",
    "\n"
   ]
  },
  {
   "cell_type": "code",
   "execution_count": null,
   "metadata": {},
   "outputs": [],
   "source": [
    "#| export\n",
    "\n",
    "chat = None\n",
    "def fr_cell(line=None, cell=None):\n",
    "    global chat\n",
    "    chat = CellChat(sp=system_prompt)\n",
    "    \n",
    "    num_cells, is_friendlly, is_reply = 0, False, False\n",
    "\n",
    "    ip = get_ipython()\n",
    "    header = nict(ip.parent_header)\n",
    "\n",
    "    prev_messages = []\n",
    "    if line:\n",
    "        # line comes with magic already stripped.\n",
    "        num_cells, is_friendlly, is_reply = parse_cell_line(\"%%fr \" + line)\n",
    "        if num_cells:\n",
    "            assert is_friendlly, \"Called on a cell without %%fr?\"\n",
    "            assert \"cells_above\" in header.content, \"Jupyter did not send any of the above cells\"\n",
    "            assert num_cells == len(header.content.cells_above), f\"Jupyter only sent {header.content.cells_above} cells instead of {cells_above}\"\n",
    "\n",
    "            prev_messages = cells_to_messages(header.content.cells_above)\n",
    "        \n",
    "    # If it's a folllow-up message, we should first run the current cell and collect its outputs,\n",
    "    # then pass the outputs to the chat as user messages for further generation.\n",
    "\n",
    "    if is_reply:\n",
    "        disp_capturer = PassthroughCapturer()\n",
    "        disp_capturer.start()\n",
    "\n",
    "        sys.stdout = stdout = TeeIO(sys.stdout)\n",
    "        sys.stderr = stderr = TeeIO(sys.stderr)\n",
    "\n",
    "        traceback = SaveTraceback(ip._showtraceback)\n",
    "        traceback.register()\n",
    "        \n",
    "        # This runs the current cell, and we should capture all its outputs.\n",
    "        res = ip.run_cell(cell)\n",
    "               \n",
    "        traceback.unregister()\n",
    "        disp_capturer.stop()\n",
    "        sys.stdout = stdout._stream\n",
    "        sys.stderr = stderr._stream\n",
    "        \n",
    "        new_cell = make_cell_from_captured(source=\"%%fr \" + line + \" \" + cell,\n",
    "                                           res=res,\n",
    "                                           stdout=stdout.getvalue(),\n",
    "                                           stderr=stderr.getvalue(),\n",
    "                                           displays=disp_capturer.get_outputs(),\n",
    "                                           tracebacks=traceback.tracebacks)\n",
    "        prev_messages += cells_to_messages([new_cell])     \n",
    "        \n",
    "    else:\n",
    "        prev_messages.append(nict(mk_msg(cell, role=\"user\")))\n",
    "    \n",
    "    prev_messages = merge_messages(prev_messages)\n",
    "    # Assistant message can't be the first in the conversation, nor can it be the last.\n",
    "    if prev_messages:\n",
    "        if prev_messages[0].role == \"assistant\":\n",
    "            prev_messages.insert(0, nict(mk_msg(\"(Beginning of the conversation truncated)\", role=\"user\")))\n",
    "        if prev_messages[-1].role == \"assistant\":\n",
    "            prev_messages.append(nict(mk_msg(\"Continue\", role=\"user\")))\n",
    "        \n",
    "    md_idx, code_idx = chat.go(num_cells, prev_messages)\n",
    "\n",
    "    idx = get_index()\n",
    "    \n",
    "    \n",
    "    # If it's a reply cell, comment out the magic. Otherwise, comment out the\n",
    "    # whole cell, as it's likely plain text, and not valid Python.\n",
    "    # This makes it easy to re-run the ai-generated notebook manually without triggering the ai.\n",
    "    cell_text = f\"%%fr {line}\\n{cell.strip()}\".splitlines()\n",
    "    if is_reply:\n",
    "        cell_text[0] = \"# \" + cell_text[0]\n",
    "    else:\n",
    "        cell_text = [\"# \" + l for l in cell_text]\n",
    "        \n",
    "    update_cell(idx, \"\\n\".join(cell_text))\n",
    "\n",
    "    # This schedules the execution of the next cell.\n",
    "    if code_idx:\n",
    "        execute_cell(code_idx)\n",
    "    \n",
    "    if is_reply:\n",
    "        # We've created a lot of invisible JS display outputs. Unfortunaely I don't think there is a way\n",
    "        # to clear them without removing everying.\n",
    "        clear_output()\n",
    "        # Re-display the outputs.\n",
    "\n",
    "        \n",
    "        for d in disp_capturer.raw_outputs:\n",
    "            ip.display_pub.publish(**d)\n",
    "        if stdout.getvalue(): print(stdout.getvalue())\n",
    "        if stderr.getvalue(): print(stderr.getvalue(), file=sys.stderr)\n",
    "        for tb in traceback.tracebacks:\n",
    "            ip._showtraceback(tb.ename, tb.evalue, tb.traceback)        \n",
    "        return res.result\n",
    "    "
   ]
  },
  {
   "cell_type": "code",
   "execution_count": null,
   "metadata": {},
   "outputs": [
    {
     "data": {
      "application/javascript": [],
      "text/plain": [
       "<IPython.core.display.Javascript object>"
      ]
     },
     "metadata": {},
     "output_type": "display_data"
    }
   ],
   "source": [
    "#| eval: false\n",
    "get_ipython().register_magic_function(fr_cell, 'cell', magic_name='fr')\n",
    "patch_kernel()"
   ]
  },
  {
   "cell_type": "code",
   "execution_count": null,
   "metadata": {},
   "outputs": [
    {
     "data": {
      "application/javascript": [],
      "text/plain": [
       "<IPython.core.display.Javascript object>"
      ]
     },
     "metadata": {},
     "output_type": "display_data"
    },
    {
     "data": {
      "application/javascript": [],
      "text/plain": [
       "<IPython.core.display.Javascript object>"
      ]
     },
     "metadata": {},
     "output_type": "display_data"
    },
    {
     "data": {
      "application/javascript": [],
      "text/plain": [
       "<IPython.core.display.Javascript object>"
      ]
     },
     "metadata": {},
     "output_type": "display_data"
    },
    {
     "data": {
      "application/javascript": [],
      "text/plain": [
       "<IPython.core.display.Javascript object>"
      ]
     },
     "metadata": {},
     "output_type": "display_data"
    },
    {
     "data": {
      "application/javascript": [],
      "text/plain": [
       "<IPython.core.display.Javascript object>"
      ]
     },
     "metadata": {},
     "output_type": "display_data"
    },
    {
     "data": {
      "application/javascript": [],
      "text/plain": [
       "<IPython.core.display.Javascript object>"
      ]
     },
     "metadata": {},
     "output_type": "display_data"
    },
    {
     "data": {
      "application/javascript": [],
      "text/plain": [
       "<IPython.core.display.Javascript object>"
      ]
     },
     "metadata": {},
     "output_type": "display_data"
    },
    {
     "data": {
      "application/javascript": [],
      "text/plain": [
       "<IPython.core.display.Javascript object>"
      ]
     },
     "metadata": {},
     "output_type": "display_data"
    },
    {
     "data": {
      "application/javascript": [],
      "text/plain": [
       "<IPython.core.display.Javascript object>"
      ]
     },
     "metadata": {},
     "output_type": "display_data"
    },
    {
     "data": {
      "application/javascript": [],
      "text/plain": [
       "<IPython.core.display.Javascript object>"
      ]
     },
     "metadata": {},
     "output_type": "display_data"
    },
    {
     "data": {
      "application/javascript": [],
      "text/plain": [
       "<IPython.core.display.Javascript object>"
      ]
     },
     "metadata": {},
     "output_type": "display_data"
    },
    {
     "data": {
      "application/javascript": [],
      "text/plain": [
       "<IPython.core.display.Javascript object>"
      ]
     },
     "metadata": {},
     "output_type": "display_data"
    },
    {
     "data": {
      "application/javascript": [],
      "text/plain": [
       "<IPython.core.display.Javascript object>"
      ]
     },
     "metadata": {},
     "output_type": "display_data"
    },
    {
     "data": {
      "application/javascript": [],
      "text/plain": [
       "<IPython.core.display.Javascript object>"
      ]
     },
     "metadata": {},
     "output_type": "display_data"
    },
    {
     "data": {
      "application/javascript": [],
      "text/plain": [
       "<IPython.core.display.Javascript object>"
      ]
     },
     "metadata": {},
     "output_type": "display_data"
    },
    {
     "data": {
      "application/javascript": [],
      "text/plain": [
       "<IPython.core.display.Javascript object>"
      ]
     },
     "metadata": {},
     "output_type": "display_data"
    },
    {
     "data": {
      "application/javascript": [],
      "text/plain": [
       "<IPython.core.display.Javascript object>"
      ]
     },
     "metadata": {},
     "output_type": "display_data"
    },
    {
     "data": {
      "application/javascript": [],
      "text/plain": [
       "<IPython.core.display.Javascript object>"
      ]
     },
     "metadata": {},
     "output_type": "display_data"
    },
    {
     "data": {
      "application/javascript": [],
      "text/plain": [
       "<IPython.core.display.Javascript object>"
      ]
     },
     "metadata": {},
     "output_type": "display_data"
    },
    {
     "data": {
      "application/javascript": [],
      "text/plain": [
       "<IPython.core.display.Javascript object>"
      ]
     },
     "metadata": {},
     "output_type": "display_data"
    },
    {
     "data": {
      "application/javascript": [],
      "text/plain": [
       "<IPython.core.display.Javascript object>"
      ]
     },
     "metadata": {},
     "output_type": "display_data"
    },
    {
     "data": {
      "application/javascript": [],
      "text/plain": [
       "<IPython.core.display.Javascript object>"
      ]
     },
     "metadata": {},
     "output_type": "display_data"
    },
    {
     "data": {
      "application/javascript": [],
      "text/plain": [
       "<IPython.core.display.Javascript object>"
      ]
     },
     "metadata": {},
     "output_type": "display_data"
    },
    {
     "data": {
      "application/javascript": [],
      "text/plain": [
       "<IPython.core.display.Javascript object>"
      ]
     },
     "metadata": {},
     "output_type": "display_data"
    },
    {
     "data": {
      "application/javascript": [],
      "text/plain": [
       "<IPython.core.display.Javascript object>"
      ]
     },
     "metadata": {},
     "output_type": "display_data"
    },
    {
     "data": {
      "application/javascript": [],
      "text/plain": [
       "<IPython.core.display.Javascript object>"
      ]
     },
     "metadata": {},
     "output_type": "display_data"
    },
    {
     "data": {
      "application/javascript": [],
      "text/plain": [
       "<IPython.core.display.Javascript object>"
      ]
     },
     "metadata": {},
     "output_type": "display_data"
    },
    {
     "data": {
      "application/javascript": [],
      "text/plain": [
       "<IPython.core.display.Javascript object>"
      ]
     },
     "metadata": {},
     "output_type": "display_data"
    },
    {
     "data": {
      "application/javascript": [],
      "text/plain": [
       "<IPython.core.display.Javascript object>"
      ]
     },
     "metadata": {},
     "output_type": "display_data"
    },
    {
     "data": {
      "application/javascript": [],
      "text/plain": [
       "<IPython.core.display.Javascript object>"
      ]
     },
     "metadata": {},
     "output_type": "display_data"
    },
    {
     "data": {
      "application/javascript": [],
      "text/plain": [
       "<IPython.core.display.Javascript object>"
      ]
     },
     "metadata": {},
     "output_type": "display_data"
    },
    {
     "data": {
      "application/javascript": [],
      "text/plain": [
       "<IPython.core.display.Javascript object>"
      ]
     },
     "metadata": {},
     "output_type": "display_data"
    },
    {
     "data": {
      "application/javascript": [],
      "text/plain": [
       "<IPython.core.display.Javascript object>"
      ]
     },
     "metadata": {},
     "output_type": "display_data"
    },
    {
     "data": {
      "application/javascript": [],
      "text/plain": [
       "<IPython.core.display.Javascript object>"
      ]
     },
     "metadata": {},
     "output_type": "display_data"
    },
    {
     "data": {
      "application/javascript": [],
      "text/plain": [
       "<IPython.core.display.Javascript object>"
      ]
     },
     "metadata": {},
     "output_type": "display_data"
    },
    {
     "data": {
      "application/javascript": [],
      "text/plain": [
       "<IPython.core.display.Javascript object>"
      ]
     },
     "metadata": {},
     "output_type": "display_data"
    },
    {
     "data": {
      "application/javascript": [],
      "text/plain": [
       "<IPython.core.display.Javascript object>"
      ]
     },
     "metadata": {},
     "output_type": "display_data"
    },
    {
     "data": {
      "application/javascript": [],
      "text/plain": [
       "<IPython.core.display.Javascript object>"
      ]
     },
     "metadata": {},
     "output_type": "display_data"
    },
    {
     "data": {
      "application/javascript": [],
      "text/plain": [
       "<IPython.core.display.Javascript object>"
      ]
     },
     "metadata": {},
     "output_type": "display_data"
    },
    {
     "data": {
      "application/javascript": [],
      "text/plain": [
       "<IPython.core.display.Javascript object>"
      ]
     },
     "metadata": {},
     "output_type": "display_data"
    },
    {
     "data": {
      "application/javascript": [],
      "text/plain": [
       "<IPython.core.display.Javascript object>"
      ]
     },
     "metadata": {},
     "output_type": "display_data"
    },
    {
     "data": {
      "application/javascript": [],
      "text/plain": [
       "<IPython.core.display.Javascript object>"
      ]
     },
     "metadata": {},
     "output_type": "display_data"
    },
    {
     "data": {
      "application/javascript": [],
      "text/plain": [
       "<IPython.core.display.Javascript object>"
      ]
     },
     "metadata": {},
     "output_type": "display_data"
    },
    {
     "data": {
      "application/javascript": [],
      "text/plain": [
       "<IPython.core.display.Javascript object>"
      ]
     },
     "metadata": {},
     "output_type": "display_data"
    },
    {
     "data": {
      "application/javascript": [],
      "text/plain": [
       "<IPython.core.display.Javascript object>"
      ]
     },
     "metadata": {},
     "output_type": "display_data"
    },
    {
     "data": {
      "application/javascript": [],
      "text/plain": [
       "<IPython.core.display.Javascript object>"
      ]
     },
     "metadata": {},
     "output_type": "display_data"
    },
    {
     "data": {
      "application/javascript": [],
      "text/plain": [
       "<IPython.core.display.Javascript object>"
      ]
     },
     "metadata": {},
     "output_type": "display_data"
    },
    {
     "data": {
      "application/javascript": [],
      "text/plain": [
       "<IPython.core.display.Javascript object>"
      ]
     },
     "metadata": {},
     "output_type": "display_data"
    },
    {
     "data": {
      "application/javascript": [],
      "text/plain": [
       "<IPython.core.display.Javascript object>"
      ]
     },
     "metadata": {},
     "output_type": "display_data"
    },
    {
     "data": {
      "application/javascript": [],
      "text/plain": [
       "<IPython.core.display.Javascript object>"
      ]
     },
     "metadata": {},
     "output_type": "display_data"
    },
    {
     "data": {
      "application/javascript": [],
      "text/plain": [
       "<IPython.core.display.Javascript object>"
      ]
     },
     "metadata": {},
     "output_type": "display_data"
    },
    {
     "data": {
      "application/javascript": [],
      "text/plain": [
       "<IPython.core.display.Javascript object>"
      ]
     },
     "metadata": {},
     "output_type": "display_data"
    },
    {
     "data": {
      "application/javascript": [],
      "text/plain": [
       "<IPython.core.display.Javascript object>"
      ]
     },
     "metadata": {},
     "output_type": "display_data"
    },
    {
     "data": {
      "application/javascript": [],
      "text/plain": [
       "<IPython.core.display.Javascript object>"
      ]
     },
     "metadata": {},
     "output_type": "display_data"
    },
    {
     "data": {
      "application/javascript": [],
      "text/plain": [
       "<IPython.core.display.Javascript object>"
      ]
     },
     "metadata": {},
     "output_type": "display_data"
    },
    {
     "data": {
      "application/javascript": [],
      "text/plain": [
       "<IPython.core.display.Javascript object>"
      ]
     },
     "metadata": {},
     "output_type": "display_data"
    },
    {
     "data": {
      "application/javascript": [],
      "text/plain": [
       "<IPython.core.display.Javascript object>"
      ]
     },
     "metadata": {},
     "output_type": "display_data"
    },
    {
     "data": {
      "application/javascript": [],
      "text/plain": [
       "<IPython.core.display.Javascript object>"
      ]
     },
     "metadata": {},
     "output_type": "display_data"
    },
    {
     "data": {
      "application/javascript": [],
      "text/plain": [
       "<IPython.core.display.Javascript object>"
      ]
     },
     "metadata": {},
     "output_type": "display_data"
    },
    {
     "data": {
      "application/javascript": [],
      "text/plain": [
       "<IPython.core.display.Javascript object>"
      ]
     },
     "metadata": {},
     "output_type": "display_data"
    },
    {
     "data": {
      "application/javascript": [],
      "text/plain": [
       "<IPython.core.display.Javascript object>"
      ]
     },
     "metadata": {},
     "output_type": "display_data"
    },
    {
     "data": {
      "application/javascript": [],
      "text/plain": [
       "<IPython.core.display.Javascript object>"
      ]
     },
     "metadata": {},
     "output_type": "display_data"
    },
    {
     "data": {
      "application/javascript": [],
      "text/plain": [
       "<IPython.core.display.Javascript object>"
      ]
     },
     "metadata": {},
     "output_type": "display_data"
    },
    {
     "data": {
      "application/javascript": [],
      "text/plain": [
       "<IPython.core.display.Javascript object>"
      ]
     },
     "metadata": {},
     "output_type": "display_data"
    },
    {
     "data": {
      "application/javascript": [],
      "text/plain": [
       "<IPython.core.display.Javascript object>"
      ]
     },
     "metadata": {},
     "output_type": "display_data"
    },
    {
     "data": {
      "application/javascript": [],
      "text/plain": [
       "<IPython.core.display.Javascript object>"
      ]
     },
     "metadata": {},
     "output_type": "display_data"
    },
    {
     "data": {
      "application/javascript": [],
      "text/plain": [
       "<IPython.core.display.Javascript object>"
      ]
     },
     "metadata": {},
     "output_type": "display_data"
    },
    {
     "data": {
      "application/javascript": [],
      "text/plain": [
       "<IPython.core.display.Javascript object>"
      ]
     },
     "metadata": {},
     "output_type": "display_data"
    },
    {
     "data": {
      "application/javascript": [],
      "text/plain": [
       "<IPython.core.display.Javascript object>"
      ]
     },
     "metadata": {},
     "output_type": "display_data"
    },
    {
     "data": {
      "application/javascript": [],
      "text/plain": [
       "<IPython.core.display.Javascript object>"
      ]
     },
     "metadata": {},
     "output_type": "display_data"
    },
    {
     "data": {
      "application/javascript": [],
      "text/plain": [
       "<IPython.core.display.Javascript object>"
      ]
     },
     "metadata": {},
     "output_type": "display_data"
    },
    {
     "data": {
      "application/javascript": [],
      "text/plain": [
       "<IPython.core.display.Javascript object>"
      ]
     },
     "metadata": {},
     "output_type": "display_data"
    },
    {
     "data": {
      "application/javascript": [],
      "text/plain": [
       "<IPython.core.display.Javascript object>"
      ]
     },
     "metadata": {},
     "output_type": "display_data"
    },
    {
     "data": {
      "application/javascript": [],
      "text/plain": [
       "<IPython.core.display.Javascript object>"
      ]
     },
     "metadata": {},
     "output_type": "display_data"
    },
    {
     "data": {
      "application/javascript": [],
      "text/plain": [
       "<IPython.core.display.Javascript object>"
      ]
     },
     "metadata": {},
     "output_type": "display_data"
    },
    {
     "data": {
      "application/javascript": [],
      "text/plain": [
       "<IPython.core.display.Javascript object>"
      ]
     },
     "metadata": {},
     "output_type": "display_data"
    },
    {
     "data": {
      "application/javascript": [],
      "text/plain": [
       "<IPython.core.display.Javascript object>"
      ]
     },
     "metadata": {},
     "output_type": "display_data"
    },
    {
     "data": {
      "application/javascript": [],
      "text/plain": [
       "<IPython.core.display.Javascript object>"
      ]
     },
     "metadata": {},
     "output_type": "display_data"
    },
    {
     "data": {
      "application/javascript": [],
      "text/plain": [
       "<IPython.core.display.Javascript object>"
      ]
     },
     "metadata": {},
     "output_type": "display_data"
    },
    {
     "data": {
      "application/javascript": [],
      "text/plain": [
       "<IPython.core.display.Javascript object>"
      ]
     },
     "metadata": {},
     "output_type": "display_data"
    },
    {
     "data": {
      "application/javascript": [],
      "text/plain": [
       "<IPython.core.display.Javascript object>"
      ]
     },
     "metadata": {},
     "output_type": "display_data"
    },
    {
     "data": {
      "application/javascript": [],
      "text/plain": [
       "<IPython.core.display.Javascript object>"
      ]
     },
     "metadata": {},
     "output_type": "display_data"
    },
    {
     "data": {
      "application/javascript": [],
      "text/plain": [
       "<IPython.core.display.Javascript object>"
      ]
     },
     "metadata": {},
     "output_type": "display_data"
    },
    {
     "data": {
      "application/javascript": [],
      "text/plain": [
       "<IPython.core.display.Javascript object>"
      ]
     },
     "metadata": {},
     "output_type": "display_data"
    },
    {
     "data": {
      "application/javascript": [],
      "text/plain": [
       "<IPython.core.display.Javascript object>"
      ]
     },
     "metadata": {},
     "output_type": "display_data"
    },
    {
     "data": {
      "application/javascript": [],
      "text/plain": [
       "<IPython.core.display.Javascript object>"
      ]
     },
     "metadata": {},
     "output_type": "display_data"
    },
    {
     "data": {
      "application/javascript": [],
      "text/plain": [
       "<IPython.core.display.Javascript object>"
      ]
     },
     "metadata": {},
     "output_type": "display_data"
    },
    {
     "data": {
      "application/javascript": [],
      "text/plain": [
       "<IPython.core.display.Javascript object>"
      ]
     },
     "metadata": {},
     "output_type": "display_data"
    },
    {
     "data": {
      "application/javascript": [],
      "text/plain": [
       "<IPython.core.display.Javascript object>"
      ]
     },
     "metadata": {},
     "output_type": "display_data"
    },
    {
     "data": {
      "application/javascript": [],
      "text/plain": [
       "<IPython.core.display.Javascript object>"
      ]
     },
     "metadata": {},
     "output_type": "display_data"
    },
    {
     "data": {
      "application/javascript": [],
      "text/plain": [
       "<IPython.core.display.Javascript object>"
      ]
     },
     "metadata": {},
     "output_type": "display_data"
    },
    {
     "data": {
      "application/javascript": [],
      "text/plain": [
       "<IPython.core.display.Javascript object>"
      ]
     },
     "metadata": {},
     "output_type": "display_data"
    },
    {
     "data": {
      "application/javascript": [],
      "text/plain": [
       "<IPython.core.display.Javascript object>"
      ]
     },
     "metadata": {},
     "output_type": "display_data"
    },
    {
     "data": {
      "application/javascript": [],
      "text/plain": [
       "<IPython.core.display.Javascript object>"
      ]
     },
     "metadata": {},
     "output_type": "display_data"
    },
    {
     "data": {
      "application/javascript": [],
      "text/plain": [
       "<IPython.core.display.Javascript object>"
      ]
     },
     "metadata": {},
     "output_type": "display_data"
    },
    {
     "data": {
      "application/javascript": [],
      "text/plain": [
       "<IPython.core.display.Javascript object>"
      ]
     },
     "metadata": {},
     "output_type": "display_data"
    },
    {
     "data": {
      "application/javascript": [],
      "text/plain": [
       "<IPython.core.display.Javascript object>"
      ]
     },
     "metadata": {},
     "output_type": "display_data"
    },
    {
     "data": {
      "application/javascript": [],
      "text/plain": [
       "<IPython.core.display.Javascript object>"
      ]
     },
     "metadata": {},
     "output_type": "display_data"
    },
    {
     "data": {
      "application/javascript": [],
      "text/plain": [
       "<IPython.core.display.Javascript object>"
      ]
     },
     "metadata": {},
     "output_type": "display_data"
    },
    {
     "data": {
      "application/javascript": [],
      "text/plain": [
       "<IPython.core.display.Javascript object>"
      ]
     },
     "metadata": {},
     "output_type": "display_data"
    },
    {
     "data": {
      "application/javascript": [],
      "text/plain": [
       "<IPython.core.display.Javascript object>"
      ]
     },
     "metadata": {},
     "output_type": "display_data"
    },
    {
     "data": {
      "application/javascript": [],
      "text/plain": [
       "<IPython.core.display.Javascript object>"
      ]
     },
     "metadata": {},
     "output_type": "display_data"
    },
    {
     "data": {
      "application/javascript": [],
      "text/plain": [
       "<IPython.core.display.Javascript object>"
      ]
     },
     "metadata": {},
     "output_type": "display_data"
    },
    {
     "data": {
      "application/javascript": [],
      "text/plain": [
       "<IPython.core.display.Javascript object>"
      ]
     },
     "metadata": {},
     "output_type": "display_data"
    },
    {
     "data": {
      "application/javascript": [],
      "text/plain": [
       "<IPython.core.display.Javascript object>"
      ]
     },
     "metadata": {},
     "output_type": "display_data"
    },
    {
     "data": {
      "application/javascript": [],
      "text/plain": [
       "<IPython.core.display.Javascript object>"
      ]
     },
     "metadata": {},
     "output_type": "display_data"
    },
    {
     "data": {
      "application/javascript": [],
      "text/plain": [
       "<IPython.core.display.Javascript object>"
      ]
     },
     "metadata": {},
     "output_type": "display_data"
    },
    {
     "data": {
      "application/javascript": [],
      "text/plain": [
       "<IPython.core.display.Javascript object>"
      ]
     },
     "metadata": {},
     "output_type": "display_data"
    },
    {
     "data": {
      "application/javascript": [],
      "text/plain": [
       "<IPython.core.display.Javascript object>"
      ]
     },
     "metadata": {},
     "output_type": "display_data"
    },
    {
     "data": {
      "application/javascript": [],
      "text/plain": [
       "<IPython.core.display.Javascript object>"
      ]
     },
     "metadata": {},
     "output_type": "display_data"
    },
    {
     "data": {
      "application/javascript": [],
      "text/plain": [
       "<IPython.core.display.Javascript object>"
      ]
     },
     "metadata": {},
     "output_type": "display_data"
    },
    {
     "data": {
      "application/javascript": [],
      "text/plain": [
       "<IPython.core.display.Javascript object>"
      ]
     },
     "metadata": {},
     "output_type": "display_data"
    },
    {
     "data": {
      "application/javascript": [],
      "text/plain": [
       "<IPython.core.display.Javascript object>"
      ]
     },
     "metadata": {},
     "output_type": "display_data"
    },
    {
     "data": {
      "application/javascript": [],
      "text/plain": [
       "<IPython.core.display.Javascript object>"
      ]
     },
     "metadata": {},
     "output_type": "display_data"
    },
    {
     "data": {
      "application/javascript": [],
      "text/plain": [
       "<IPython.core.display.Javascript object>"
      ]
     },
     "metadata": {},
     "output_type": "display_data"
    },
    {
     "data": {
      "application/javascript": [],
      "text/plain": [
       "<IPython.core.display.Javascript object>"
      ]
     },
     "metadata": {},
     "output_type": "display_data"
    },
    {
     "data": {
      "application/javascript": [],
      "text/plain": [
       "<IPython.core.display.Javascript object>"
      ]
     },
     "metadata": {},
     "output_type": "display_data"
    },
    {
     "data": {
      "application/javascript": [],
      "text/plain": [
       "<IPython.core.display.Javascript object>"
      ]
     },
     "metadata": {},
     "output_type": "display_data"
    },
    {
     "data": {
      "application/javascript": [],
      "text/plain": [
       "<IPython.core.display.Javascript object>"
      ]
     },
     "metadata": {},
     "output_type": "display_data"
    },
    {
     "data": {
      "application/javascript": [],
      "text/plain": [
       "<IPython.core.display.Javascript object>"
      ]
     },
     "metadata": {},
     "output_type": "display_data"
    },
    {
     "data": {
      "application/javascript": [],
      "text/plain": [
       "<IPython.core.display.Javascript object>"
      ]
     },
     "metadata": {},
     "output_type": "display_data"
    },
    {
     "data": {
      "application/javascript": [],
      "text/plain": [
       "<IPython.core.display.Javascript object>"
      ]
     },
     "metadata": {},
     "output_type": "display_data"
    },
    {
     "data": {
      "application/javascript": [],
      "text/plain": [
       "<IPython.core.display.Javascript object>"
      ]
     },
     "metadata": {},
     "output_type": "display_data"
    },
    {
     "data": {
      "application/javascript": [],
      "text/plain": [
       "<IPython.core.display.Javascript object>"
      ]
     },
     "metadata": {},
     "output_type": "display_data"
    },
    {
     "data": {
      "application/javascript": [],
      "text/plain": [
       "<IPython.core.display.Javascript object>"
      ]
     },
     "metadata": {},
     "output_type": "display_data"
    },
    {
     "data": {
      "application/javascript": [],
      "text/plain": [
       "<IPython.core.display.Javascript object>"
      ]
     },
     "metadata": {},
     "output_type": "display_data"
    },
    {
     "data": {
      "application/javascript": [],
      "text/plain": [
       "<IPython.core.display.Javascript object>"
      ]
     },
     "metadata": {},
     "output_type": "display_data"
    },
    {
     "data": {
      "application/javascript": [],
      "text/plain": [
       "<IPython.core.display.Javascript object>"
      ]
     },
     "metadata": {},
     "output_type": "display_data"
    },
    {
     "data": {
      "application/javascript": [],
      "text/plain": [
       "<IPython.core.display.Javascript object>"
      ]
     },
     "metadata": {},
     "output_type": "display_data"
    },
    {
     "data": {
      "application/javascript": [],
      "text/plain": [
       "<IPython.core.display.Javascript object>"
      ]
     },
     "metadata": {},
     "output_type": "display_data"
    },
    {
     "data": {
      "application/javascript": [],
      "text/plain": [
       "<IPython.core.display.Javascript object>"
      ]
     },
     "metadata": {},
     "output_type": "display_data"
    },
    {
     "data": {
      "application/javascript": [],
      "text/plain": [
       "<IPython.core.display.Javascript object>"
      ]
     },
     "metadata": {},
     "output_type": "display_data"
    }
   ],
   "source": [
    "# %%fr \n",
    "# Download an image of a cat, resize to 250 on long side, then very briefly describe it in the style of Jeremy Howard"
   ]
  },
  {
   "cell_type": "markdown",
   "metadata": {},
   "source": [
    "Certainly! I'll download an image of a cat, resize it, and then describe it briefly in Jeremy Howard's style. Let's break this down into steps:\n",
    "\n",
    "<details><summary style=\"display: list-item\">🧠</summary>\n",
    "1. We'll use the requests library to download an image.\n",
    "2. We'll use PIL (Python Imaging Library) to process and resize the image.\n",
    "3. After resizing, we'll display the image.\n",
    "4. Then, I'll provide a brief description in Jeremy Howard's style.\n",
    "</details>"
   ]
  },
  {
   "cell_type": "code",
   "execution_count": null,
   "metadata": {},
   "outputs": [
    {
     "data": {
      "image/jpeg": "[encoded data removed]",
      "image/png": "[encoded data removed]",
      "text/plain": [
       "<PIL.Image.Image image mode=RGB size=187x250>"
      ]
     },
     "execution_count": null,
     "metadata": {},
     "output_type": "execute_result"
    }
   ],
   "source": [
    "#| eval: false\n",
    "# %%fr +2 reply\n",
    "import requests\n",
    "from PIL import Image\n",
    "from io import BytesIO\n",
    "\n",
    "# Download an image of a cat\n",
    "url = \"https://cataas.com/cat\"\n",
    "response = requests.get(url)\n",
    "img = Image.open(BytesIO(response.content))\n",
    "\n",
    "# Resize the image\n",
    "max_size = 250\n",
    "ratio = max_size / max(img.size)\n",
    "new_size = tuple([int(x*ratio) for x in img.size])\n",
    "resized_img = img.resize(new_size, Image.LANCZOS)\n",
    "\n",
    "# Display the resized image\n",
    "resized_img"
   ]
  },
  {
   "cell_type": "markdown",
   "metadata": {},
   "source": [
    "<details><summary style=\"display: list-item\">🧠</summary>Now that we have the image, I'll describe it briefly in Jeremy Howard's style.</details>\n",
    "\n",
    "Alright, let's take a quick gander at this furry feline! We've got a rather fluffy customer here, sprawled out in classic cat fashion. It's giving us a proper display of what I like to call \"maximum relaxation mode\". The cat's got this luxurious, long fur that's practically begging for a good brush. And would you look at that pose? It's the epitome of feline nonchalance, as if to say, \"Yes, I'm fabulous, and I know it.\" This, folks, is what we in the biz call \"peak cat\". Absolutely brilliant!"
   ]
  }
 ],
 "metadata": {
  "kernelspec": {
   "display_name": "python3",
   "language": "python",
   "name": "python3"
  }
 },
 "nbformat": 4,
 "nbformat_minor": 4
}
