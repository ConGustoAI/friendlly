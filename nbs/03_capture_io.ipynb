{
 "cells": [
  {
   "cell_type": "markdown",
   "metadata": {},
   "source": [
    "## Capture stdout/stderr outputs"
   ]
  },
  {
   "cell_type": "code",
   "execution_count": null,
   "metadata": {},
   "outputs": [],
   "source": [
    "#| default_exp capture_io"
   ]
  },
  {
   "cell_type": "code",
   "execution_count": null,
   "metadata": {},
   "outputs": [],
   "source": [
    "#| export\n",
    "from io import StringIO"
   ]
  },
  {
   "cell_type": "code",
   "execution_count": null,
   "metadata": {},
   "outputs": [],
   "source": [
    "#| export\n",
    "class TeeIO:\n",
    "    \"\"\"\n",
    "    OutStream that and also passes it to the original stream.\n",
    "    \"\"\"\n",
    "    def __init__(self, stream):\n",
    "        self._io = StringIO()\n",
    "        self._stream = stream\n",
    "        self._call_log = []\n",
    "\n",
    "    def write(self, s):\n",
    "        self._io.write(s)\n",
    "        return self._stream.write(s)\n",
    "\n",
    "    def getvalue(self):\n",
    "        return self._io.getvalue()\n",
    "\n",
    "    # ipykernel's OutStream class defined some other things, pass them to the parent.\n",
    "    def __getattr__(self, name):\n",
    "        if name in ['_stream', '_io', '_call_log']:\n",
    "            # This will call object.__getattr__ on self, returning the real self.value\n",
    "            return super().__getattr__(name)\n",
    "        self._call_log.append((\"getattr\", name))\n",
    "        return getattr(self._stream, name)\n",
    "\n",
    "    def __setattr__(self, name, value):\n",
    "        if name in ['_stream', '_io', '_call_log']:\n",
    "            super().__setattr__(name, value)\n",
    "        else:\n",
    "            self._call_log.append((\"setattr\", name, value))\n",
    "            setattr(self._stdout, name, value)"
   ]
  },
  {
   "cell_type": "code",
   "execution_count": null,
   "metadata": {},
   "outputs": [],
   "source": [
    "import sys"
   ]
  },
  {
   "cell_type": "code",
   "execution_count": null,
   "metadata": {},
   "outputs": [
    {
     "name": "stdout",
     "output_type": "stream",
     "text": [
      "Hello, world!\n",
      "but then I changed my mind.\n"
     ]
    },
    {
     "name": "stderr",
     "output_type": "stream",
     "text": [
      "This is a test of the emergency broadcast system.\n"
     ]
    }
   ],
   "source": [
    "stdout_tee = TeeIO(sys.stdout)\n",
    "stderr_tee = TeeIO(sys.stderr)\n",
    "\n",
    "sys.stdout = stdout_tee\n",
    "sys.stderr = stderr_tee\n",
    "\n",
    "print(\"Hello, world!\")\n",
    "print(\"This is a test of the emergency broadcast system.\", file=sys.stderr)\n",
    "print(\"I wanted to write someting\\rbut then I changed my mind.\")\n",
    "\n",
    "sys.stdout = stdout_tee._stream\n",
    "sys.stderr = stderr_tee._stream"
   ]
  },
  {
   "cell_type": "code",
   "execution_count": null,
   "metadata": {},
   "outputs": [
    {
     "data": {
      "text/plain": [
       "('I wanted to write sometingbut then I changed my mind.\\n',\n",
       " 'This is a test of the emergency broadcast system.\\n')"
      ]
     },
     "execution_count": null,
     "metadata": {},
     "output_type": "execute_result"
    }
   ],
   "source": [
    "stdout_tee.getvalue(), stderr_tee.getvalue()"
   ]
  }
 ],
 "metadata": {
  "kernelspec": {
   "display_name": "python3",
   "language": "python",
   "name": "python3"
  }
 },
 "nbformat": 4,
 "nbformat_minor": 2
}
