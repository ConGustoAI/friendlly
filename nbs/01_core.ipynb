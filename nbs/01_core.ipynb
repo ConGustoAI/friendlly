{
 "cells": [
  {
   "cell_type": "markdown",
   "metadata": {},
   "source": [
    "## Core"
   ]
  },
  {
   "cell_type": "code",
   "execution_count": null,
   "metadata": {},
   "outputs": [],
   "source": [
    "#jupyter-nbclassic --NotebookApp.disable_extension='*' --ServerApp.autoreload=True  --ServerApp.open_browser=False --Application.log_level=0 --ServerApp.log_level=0 --NotebookApp.dev_mode=True --NotebookApp.ignore_minified_js=True"
   ]
  },
  {
   "cell_type": "code",
   "execution_count": null,
   "metadata": {},
   "outputs": [],
   "source": [
    "#| default_exp core"
   ]
  },
  {
   "cell_type": "code",
   "execution_count": null,
   "metadata": {},
   "outputs": [],
   "source": [
    "#| hide\n",
    "%load_ext autoreload\n",
    "%autoreload 2"
   ]
  },
  {
   "cell_type": "code",
   "execution_count": null,
   "metadata": {},
   "outputs": [],
   "source": [
    "#| hide\n",
    "from dotenv import load_dotenv"
   ]
  },
  {
   "cell_type": "code",
   "execution_count": null,
   "metadata": {},
   "outputs": [],
   "source": [
    "#| hide\n",
    "load_dotenv();"
   ]
  },
  {
   "cell_type": "code",
   "execution_count": null,
   "metadata": {},
   "outputs": [],
   "source": [
    "#| exporti\n",
    "from typing import List, Dict, Tuple\n",
    "import textwrap\n",
    "from claudette import Client\n",
    "from IPython import get_ipython\n",
    "from IPython.display import display, clear_output, Markdown, Javascript"
   ]
  },
  {
   "cell_type": "code",
   "execution_count": null,
   "metadata": {},
   "outputs": [],
   "source": [
    "#| export\n",
    "\n",
    "# A single cell can contain multiple messages.\n",
    "# A message is either a user message (starts with %fr) or a bot message (starts with #).\n",
    "# Both can be multiline.\n",
    "def parse_cell(\n",
    "    cell: str # The raw body of the cell\n",
    ") -> Tuple[List[Dict[str, str]], int]:\n",
    "    \"\"\"\n",
    "    A single cell can contain multiple messages.\n",
    "    A message is either a user message (starts with %fr) or a bot message (starts with #).\n",
    "    Both can be multiline.\n",
    "\n",
    "    Returns: a list of messages (with 'role' and 'content') and the number of %fr magics in the cell\n",
    "    \"\"\"\n",
    "    parsed_lines = []\n",
    "    num_magic = 0\n",
    "    for line in cell.split('\\n'):\n",
    "        if line.startswith('%fr'):\n",
    "            message = {'role': 'user', 'content': line[3:].strip()}\n",
    "            num_magic += 1\n",
    "        elif line.strip().startswith('#'):\n",
    "            message = {'role': 'assistant', 'content': line[1:].strip()}\n",
    "        else: continue\n",
    "\n",
    "        if not parsed_lines or parsed_lines[-1]['role'] != message['role']:\n",
    "            parsed_lines.append(message)\n",
    "        else:\n",
    "            parsed_lines[-1]['content'] += (\"\\n\" + message['content'])\n",
    "\n",
    "    return parsed_lines, num_magic"
   ]
  },
  {
   "cell_type": "code",
   "execution_count": null,
   "metadata": {},
   "outputs": [],
   "source": [
    "#| exporti\n",
    "#| hide\n",
    "models = [\n",
    "    'claude-3-opus-20240229',\n",
    "    'claude-3-5-sonnet-20240620',\n",
    "    'claude-3-haiku-20240307',\n",
    "]\n",
    "chat_client = Client(model=models[1])\n",
    "\n",
    "magic_count = 0\n",
    "messages = []"
   ]
  },
  {
   "cell_type": "code",
   "execution_count": null,
   "metadata": {},
   "outputs": [],
   "source": [
    "#| export\n",
    "def fr_line(line: str):\n",
    "    \"\"\"The magic function for the %fr magic command.\"\"\"\n",
    "    global magic_count, messages\n",
    "    ip = get_ipython()\n",
    "    # raw_cell = ip.history_manager.input_hist_raw[-1]\n",
    "    raw_cell = ip.get_parent()[\"content\"][\"code\"]\n",
    "\n",
    "    # The cell might have multiple %lm magics, but we only want to process the last one.\n",
    "    # Presumably, the previous ones would have been processed already.\n",
    "    if magic_count <= 0:\n",
    "        messages, magic_count = parse_cell(raw_cell)\n",
    "\n",
    "\n",
    "    # This is the last %lm magic invocation of the cell.\n",
    "    # But we ignore cells that don't have a user message as the last message.\n",
    "    if magic_count == 1 and len(messages) > 0 and messages[-1]['role'] == 'user' and messages[-1]['content'].strip():\n",
    "        reply = \"\"\n",
    "        display_id = display(Markdown(\"🚀...\"), display_id=True)\n",
    "        try:\n",
    "            r = chat_client([m['content'] for m in messages], stream=True)\n",
    "            for token in r:\n",
    "                reply += token\n",
    "                display_id.update(Markdown(reply))\n",
    "\n",
    "            if reply:\n",
    "                reply = textwrap.fill(text=reply, width=100, initial_indent=\"# \", subsequent_indent=\"# \")\n",
    "                raw_cell += f\"\\n{reply}\\n\\n%fr\"\n",
    "                ip.set_next_input(raw_cell, replace=True)\n",
    "\n",
    "            clear_output()\n",
    "\n",
    "        except BaseException as e:\n",
    "            display_id.update(Markdown(f\"🚫 {repr(e)}\"))\n",
    "\n",
    "\n",
    "    magic_count -= 1"
   ]
  },
  {
   "cell_type": "markdown",
   "metadata": {},
   "source": [
    "## Friend**LL**y"
   ]
  },
  {
   "cell_type": "code",
   "execution_count": null,
   "metadata": {},
   "outputs": [],
   "source": [
    "#| eval: False\n",
    "ip = get_ipython()\n",
    "ip.register_magic_function(fr_line, 'line', magic_name='fr')"
   ]
  },
  {
   "cell_type": "code",
   "execution_count": null,
   "metadata": {},
   "outputs": [],
   "source": [
    "# %fr Hello there! My name is Alex.\n",
    "# # Hello Alex! It's nice to meet you. I'm an AI assistant created by Anthropic to be helpful,\n",
    "# # harmless, and honest. How can I help you today?\n",
    "\n",
    "# %fr"
   ]
  },
  {
   "cell_type": "code",
   "execution_count": null,
   "metadata": {},
   "outputs": [],
   "source": [
    "#| export\n",
    "\n",
    "def load_ipython_extension(ipython):\n",
    "    ipython.register_magic_function(fr_line, 'line', magic_name='fr')\n",
    "\n",
    "def unload_ipython_extension(ipython):\n",
    "    pass"
   ]
  },
  {
   "cell_type": "code",
   "execution_count": null,
   "metadata": {},
   "outputs": [],
   "source": [
    "#| export\n",
    "\n",
    "from time import sleep\n",
    "\n",
    "def inject_js(js:str):\n",
    "    \"\"\"Inject some javascript into the notebook and clear the output to prevent it from running on reload\"\"\"\n",
    "    display(Javascript(js))\n",
    "    # wait=True seems to be crucial here. Without it, if I run all cells, jupyter\n",
    "    # still uses the original CodeCell.execute(), which is weird, because I see the\n",
    "    # injected js code executed immediately.\n",
    "    clear_output(wait=True)\n",
    "#     clear_output()"
   ]
  },
  {
   "cell_type": "code",
   "execution_count": null,
   "metadata": {},
   "outputs": [
    {
     "data": {
      "application/javascript": [
       "\n",
       "    Jupyter.CodeCell.prototype.execute = function (stop_on_error) {\n",
       "        if (!this.kernel) {\n",
       "            console.log(i18n.msg._(\"Can't execute cell since kernel is not set.\"));\n",
       "            return;\n",
       "        }\n",
       "\n",
       "        if (stop_on_error === undefined) {\n",
       "            if (this.metadata !== undefined &&\n",
       "                    this.metadata.tags !== undefined) {\n",
       "                if (this.metadata.tags.indexOf('raises-exception') !== -1) {\n",
       "                    stop_on_error = false;\n",
       "                } else {\n",
       "                    stop_on_error = true;\n",
       "                }\n",
       "            } else {\n",
       "               stop_on_error = true;\n",
       "            }\n",
       "        }\n",
       "\n",
       "        this.clear_output(false, true);\n",
       "        var old_msg_id = this.last_msg_id;\n",
       "        if (old_msg_id) {\n",
       "            this.kernel.clear_callbacks_for_msg(old_msg_id);\n",
       "            delete Jupyter.CodeCell.msg_cells[old_msg_id];\n",
       "            this.last_msg_id = null;\n",
       "        }\n",
       "        if (this.get_text().trim().length === 0) {\n",
       "            // nothing to do\n",
       "            this.set_input_prompt(null);\n",
       "            return;\n",
       "        }\n",
       "        this.set_input_prompt('*');\n",
       "        this.element.addClass(\"running\");\n",
       "        var callbacks = this.get_callbacks();\n",
       "\n",
       "\n",
       "        const cell_index = Jupyter.notebook.find_cell_index(this)\n",
       "        const cell_id = this.id\n",
       "        let extras = {\n",
       "            cell_index :cell_index,\n",
       "            current_id: cell_id\n",
       "        }\n",
       "        if (this.get_text().trim().startsWith(\"##fr\")) {\n",
       "            extras = {\n",
       "                all_cells: Jupyter.notebook.get_cells(),\n",
       "                ...extras\n",
       "            }\n",
       "        }\n",
       "\n",
       "        this.last_msg_id = this.kernel.execute(\n",
       "            this.get_text(),\n",
       "            callbacks,\n",
       "            {silent: false, store_history: true, stop_on_error : stop_on_error, ...extras });\n",
       "        Jupyter.CodeCell.msg_cells[this.last_msg_id] = this;\n",
       "        this.render();\n",
       "        this.events.trigger('execute.CodeCell', {cell: this});\n",
       "        var that = this;\n",
       "        function handleFinished(evt, data) {\n",
       "            if (that.kernel.id === data.kernel.id && that.last_msg_id === data.msg_id) {\n",
       "                    that.events.trigger('finished_execute.CodeCell', {cell: that});\n",
       "                that.events.off('finished_iopub.Kernel', handleFinished);\n",
       "              }\n",
       "        }\n",
       "        this.events.on('finished_iopub.Kernel', handleFinished);\n",
       "    };\n",
       "    Jupyter.notebook.events.trigger('set_dirty.Notebook', {value: true});\n",
       "\n",
       "    "
      ],
      "text/plain": [
       "<IPython.core.display.Javascript object>"
      ]
     },
     "metadata": {},
     "output_type": "display_data"
    }
   ],
   "source": [
    "\n",
    "def patch_kernel():\n",
    "    payload = \"\"\"\n",
    "    Jupyter.CodeCell.prototype.execute = function (stop_on_error) {\n",
    "        if (!this.kernel) {\n",
    "            console.log(i18n.msg._(\"Can't execute cell since kernel is not set.\"));\n",
    "            return;\n",
    "        }\n",
    "\n",
    "        if (stop_on_error === undefined) {\n",
    "            if (this.metadata !== undefined &&\n",
    "                    this.metadata.tags !== undefined) {\n",
    "                if (this.metadata.tags.indexOf('raises-exception') !== -1) {\n",
    "                    stop_on_error = false;\n",
    "                } else {\n",
    "                    stop_on_error = true;\n",
    "                }\n",
    "            } else {\n",
    "               stop_on_error = true;\n",
    "            }\n",
    "        }\n",
    "\n",
    "        this.clear_output(false, true);\n",
    "        var old_msg_id = this.last_msg_id;\n",
    "        if (old_msg_id) {\n",
    "            this.kernel.clear_callbacks_for_msg(old_msg_id);\n",
    "            delete Jupyter.CodeCell.msg_cells[old_msg_id];\n",
    "            this.last_msg_id = null;\n",
    "        }\n",
    "        if (this.get_text().trim().length === 0) {\n",
    "            // nothing to do\n",
    "            this.set_input_prompt(null);\n",
    "            return;\n",
    "        }\n",
    "        this.set_input_prompt('*');\n",
    "        this.element.addClass(\"running\");\n",
    "        var callbacks = this.get_callbacks();\n",
    "\n",
    "\n",
    "        const cell_index = Jupyter.notebook.find_cell_index(this)\n",
    "        const cell_id = this.id\n",
    "        let extras = {\n",
    "            cell_index :cell_index,\n",
    "            current_id: cell_id\n",
    "        }\n",
    "        if (this.get_text().trim().startsWith(\"##fr\")) {\n",
    "            extras = {\n",
    "                all_cells: Jupyter.notebook.get_cells(),\n",
    "                ...extras\n",
    "            }\n",
    "        }\n",
    "\n",
    "        this.last_msg_id = this.kernel.execute(\n",
    "            this.get_text(),\n",
    "            callbacks,\n",
    "            {silent: false, store_history: true, stop_on_error : stop_on_error, ...extras });\n",
    "        Jupyter.CodeCell.msg_cells[this.last_msg_id] = this;\n",
    "        this.render();\n",
    "        this.events.trigger('execute.CodeCell', {cell: this});\n",
    "        var that = this;\n",
    "        function handleFinished(evt, data) {\n",
    "            if (that.kernel.id === data.kernel.id && that.last_msg_id === data.msg_id) {\n",
    "                    that.events.trigger('finished_execute.CodeCell', {cell: that});\n",
    "                that.events.off('finished_iopub.Kernel', handleFinished);\n",
    "              }\n",
    "        }\n",
    "        this.events.on('finished_iopub.Kernel', handleFinished);\n",
    "    };\n",
    "    Jupyter.notebook.events.trigger('set_dirty.Notebook', {value: true});\n",
    "\n",
    "    \"\"\"\n",
    "    inject_js(payload)\n",
    "\n",
    "patch_kernel()"
   ]
  },
  {
   "cell_type": "code",
   "execution_count": null,
   "metadata": {},
   "outputs": [],
   "source": [
    "#| export\n",
    "def add_cell(\n",
    "        idx:int = None, # Index of the cell to add. If none, add the cell under the selected one.\n",
    "        cell_type:str = \"code\" # Type of cell to add. Can be \"code\", \"markdown\", \"raw\"\n",
    "    ):\n",
    "    \"\"\"\n",
    "    Add a new notebook cell.\n",
    "    \"\"\"\n",
    "    if not idx:\n",
    "        index_payload = \"let index = Jupyter.notebook.get_selected_index()+1;\"\n",
    "    else:\n",
    "        index_payload = f\"let index = {idx}\"\n",
    "\n",
    "    payload = f\"\"\"\n",
    "    {index_payload}\n",
    "\n",
    "    //console.log(\"add cell start, ncell=\", Jupyter.notebook.ncells())\n",
    "    Jupyter.notebook.insert_cell_at_index(\"{cell_type}\", index)\n",
    "    //Jupyter.notebook.insert_cell_below();\n",
    "    //Jupyter.notebook.events.trigger('set_dirty.Notebook', {{value: true}});\n",
    "    let cell = Jupyter.notebook.get_cell(index);\n",
    "    //cell.set_text(`add_cell(${{index + 1}})\\\\nexecute_cell(${{index+1}})`)\n",
    "    cell.events.trigger('set_dirty.Notebook', {{value: true}});\n",
    "    //console.log(\"add cell end ncell=\", Jupyter.notebook.ncells())\n",
    "    \"\"\"\n",
    "\n",
    "    inject_js(payload)"
   ]
  },
  {
   "cell_type": "code",
   "execution_count": null,
   "metadata": {},
   "outputs": [],
   "source": [
    "#| export\n",
    "def update_cell(\n",
    "    idx:int, # Index of the cell to update. None to update the current cell\n",
    "    text:str, # Text to set in the cell\n",
    "    flush:bool = True # Notify Jupyter that the cell has been updated.\n",
    "    ):\n",
    "\n",
    "    def escape_for_js(text):\n",
    "        # Use json.dumps to escape the string for JavaScript\n",
    "        escaped = json.dumps(text)\n",
    "        # Remove the surrounding quotes added by json.dumps\n",
    "        escaped = escaped[1:-1]\n",
    "        # Escape backticks and ${} sequences\n",
    "        return escaped.replace('`', '\\\\`').replace('${', '\\\\${')\n",
    "\n",
    "    payload = f\"\"\"\n",
    "    let cell = Jupyter.notebook.get_cell({idx})\n",
    "    cell.set_text(`{escape_for_js(text)}`)\n",
    "    //cell.events.trigger('set_dirty.Notebook', {{value: true}});\n",
    "    \"\"\"\n",
    "#     print(payload)\n",
    "    if flush:\n",
    "         patyload = payload + \"\\nJupyter.notebook.events.trigger('set_dirty.Notebook', {{value: true}});\"\n",
    "    inject_js(payload)"
   ]
  },
  {
   "cell_type": "code",
   "execution_count": null,
   "metadata": {},
   "outputs": [],
   "source": [
    "#| export\n",
    "\n",
    "def execute_cell(\n",
    "        idx:int # Index of the cell to execute. They start at 0\n",
    "    ):\n",
    "    payload = f\"\"\"\n",
    "    console.log(\"execute_cell\", {idx});\n",
    "    Jupyter.notebook.events.trigger('set_dirty.Notebook', {{value: true}});\n",
    "    let cell = Jupyter.notebook.get_cell({idx})\n",
    "    cell.execute()\n",
    "    //Jupyter.notebook.execute_cell_range({idx, idx+1})\n",
    "    //Jupyter.notebook.events.trigger('set_dirty.Notebook', {{value: true}});\n",
    "    \"\"\"\n",
    "    # tt = display(f\"About to run the cell {idx}...\", display_id=True)\n",
    "    inject_js(payload)"
   ]
  },
  {
   "cell_type": "code",
   "execution_count": null,
   "metadata": {},
   "outputs": [],
   "source": [
    "def render_cell(\n",
    "    idx:int # Cell to render.\n",
    "    ):\n",
    "    \"\"\"Render a markdown cell\"\"\"\n",
    "    payload = f\"\"\"\n",
    "    let cell = Jupyter.notebook.get_cell({idx})\n",
    "    cell.unrender()\n",
    "    Jupyter.notebook.events.trigger('set_dirty.Notebook', {{value: true}});\n",
    "\n",
    "    cell.render()\n",
    "\n",
    "    \"\"\"\n",
    "\n",
    "    inject_js(payload)\n"
   ]
  },
  {
   "cell_type": "code",
   "execution_count": null,
   "metadata": {},
   "outputs": [],
   "source": [
    "from friendlly.display import PassthroughCapturer"
   ]
  },
  {
   "cell_type": "code",
   "execution_count": null,
   "metadata": {},
   "outputs": [],
   "source": [
    "class ExecCBs:\n",
    "    capture = None\n",
    "    def __init__(self, chat):\n",
    "        self.chat = chat\n",
    "\n",
    "    def pre_callback(self, info=None):\n",
    "        self.capture = PassthroughCapturer()\n",
    "        self.capture.start()\n",
    "        print(\"# pre\", info)\n",
    "\n",
    "    def post_callback(self, result):\n",
    "        print(\"# post\", result)\n",
    "        if self.capture: self.capture.stop()\n",
    "#         self.unregister()\n",
    "            \n",
    "    def register(self):\n",
    "        ip = get_ipython()\n",
    "        ip.events.register(\"pre_execute\", self.pre_callback)\n",
    "        ip.events.register(\"post_run_cell\", self.post_callback)\n",
    "\n",
    "    def unregister(self):\n",
    "        ip.events.unregister(\"pre_execute\", self.pre_callback)\n",
    "        ip.events.unregister(\"post_run_cell\", self.post_callback)\n",
    "        "
   ]
  },
  {
   "cell_type": "code",
   "execution_count": null,
   "metadata": {},
   "outputs": [
    {
     "name": "stdout",
     "output_type": "stream",
     "text": [
      "# post <ExecutionResult object at 70dae4d50470, execution_count=21 error_before_exec=None error_in_exec=None info=<ExecutionInfo object at 70dae4d50560, raw_cell=\"\n",
      "in_the_loop = True\n",
      "import json\n",
      "\n",
      "def get_index():\n",
      "..\" store_history=True silent=False shell_futures=True cell_id=None> result=None>\n"
     ]
    }
   ],
   "source": [
    "\n",
    "in_the_loop = True\n",
    "import json\n",
    "\n",
    "def get_index():\n",
    "    return ip.parent_header[\"content\"].get(\"cell_index\", -1)\n",
    "\n",
    "class CellChat():\n",
    "    \n",
    "    sp=\"\"\"\n",
    "You are an ai research assistant. Your reply will be rendered as markdown cells.\n",
    "You have access to a Jupyter notebook environment with python 3.10+ and many packages installed.\n",
    "Use <code> to add a new code cell. The cell will be executed after </code>, which will end your message.\n",
    "The last value placed on the cell output and anythong displayed will be provided in the user message on the next iteration.\n",
    "You can use display, update or plt.show(), but don't use them if the cell is expected to produce a single result.\n",
    "For example:\n",
    "Calculate square root of pi:\n",
    "<code>\n",
    "import math\n",
    "math.sqrt(math.pi)\n",
    "</code>\n",
    "Display cat.jpg:\n",
    "<code>\n",
    "from PIL import Image\n",
    "Image.open(\"cat.jpg\")\n",
    "</code>\n",
    "Write consise, compressed code in the style of Jeremy Howard. Don't add extra newlines before the code cell.\n",
    "Use advanced python features when appropriate.\n",
    "All necessary packages are already installed.\n",
    "\"\"\"\n",
    "    history = list()\n",
    "    def __init__(self, sp=None):\n",
    "        if sp is not None: self.sp = sp\n",
    "        self.exec_cbs = ExecCBs(self)\n",
    "    \n",
    "    def _update_markdown(self, idx, text):\n",
    "        update_cell(idx, text)\n",
    "        render_cell(idx)\n",
    "\n",
    "    def _update_code(self, idx, code):\n",
    "        update_cell(idx, code)\n",
    "        \n",
    "    def go(self, idx, user_messages):\n",
    "        assert idx >= 0\n",
    "        self.history.append(user_messages)\n",
    "        md_idx = idx+1\n",
    "        code_idx = md_idx+1\n",
    "        tokens = []\n",
    "        try:\n",
    "            md_reply = \"\"\n",
    "            code_reply = None\n",
    "            r = chat_client([self.history], sp=self.sp, stream=True, stop=\"</code>\")\n",
    "            add_cell(md_idx, \"markdown\")\n",
    "            for token in r:\n",
    "                tokens.append(token)\n",
    "                if code_reply is not None:\n",
    "                    code_reply += token\n",
    "                    self._update_code(code_idx, code_reply)\n",
    "                else:\n",
    "                    md_reply += token\n",
    "                    if \"<code>\" in md_reply:\n",
    "                        md_reply, code_reply = md_reply.split(\"<code>\")\n",
    "                        add_cell(code_idx, \"code\")\n",
    "                    self._update_markdown(md_idx, md_reply)\n",
    "                    \n",
    "            if code_reply is not None:\n",
    "                assert chat_client.stop_reason == \"stop_sequence\"\n",
    "                # This schedules the cell for execution once this one is done.\n",
    "                execute_cell(code_idx)\n",
    "                self.exec_cbs.register()\n",
    "#             self.history.append()\n",
    "        except BaseException as e:\n",
    "            display(Markdown(f\"🚫 {repr(e)}\"))\n",
    "\n",
    "#         display(\"\".join(tokens))\n",
    "#         display(md_reply)\n",
    "#         display(code_reply)\n",
    "            \n",
    "\n",
    "chat = CellChat()\n",
    "# def fr_cell(line=None, cell=None):  \n",
    "#     chat.go(get_index(), cell)\n",
    "\n",
    "chat.exec_cbs.register()\n",
    "\n",
    "# ip = get_ipython()\n",
    "# ip.register_magic_function(fr_cell, 'cell', magic_name='fr')\n"
   ]
  },
  {
   "cell_type": "markdown",
   "metadata": {},
   "source": [
    "# FriendLLy AI overlords"
   ]
  },
  {
   "cell_type": "code",
   "execution_count": null,
   "metadata": {},
   "outputs": [],
   "source": [
    "%%fr\n",
    "calculate the square root of pi"
   ]
  },
  {
   "cell_type": "markdown",
   "metadata": {},
   "source": [
    "Certainly! Let's calculate the square root of pi using Python's math module.\n",
    "\n"
   ]
  },
  {
   "cell_type": "code",
   "execution_count": null,
   "metadata": {},
   "outputs": [
    {
     "name": "stdout",
     "output_type": "stream",
     "text": [
      "starting passthrough:  124085596841520 124085321192208\n",
      "# pre None\n"
     ]
    },
    {
     "data": {
      "text/plain": [
       "'Hello!'"
      ]
     },
     "metadata": {},
     "output_type": "display_data"
    },
    {
     "data": {
      "text/plain": [
       "[{'data': {'text/plain': \"'Hello!'\"},\n",
       "  'metadata': {},\n",
       "  'transient': None,\n",
       "  'update': False}]"
      ]
     },
     "execution_count": null,
     "metadata": {},
     "output_type": "execute_result"
    },
    {
     "name": "stdout",
     "output_type": "stream",
     "text": [
      "# post <ExecutionResult object at 70dadd7dc380, execution_count=23 error_before_exec=None error_in_exec=None info=<ExecutionInfo object at 70dadd7dc4a0, raw_cell=\"\n",
      "import math\n",
      "math.sqrt(math.pi)\n",
      "display(\"Hello!\")\n",
      "..\" store_history=True silent=False shell_futures=True cell_id=None> result=[{'data': {'text/plain': \"'Hello!'\"}, 'metadata': {}, 'transient': None, 'update': False}]>\n"
     ]
    }
   ],
   "source": [
    "\n",
    "import math\n",
    "math.sqrt(math.pi)\n",
    "display(\"Hello!\")\n",
    "chat.exec_cbs.capture.outputs"
   ]
  },
  {
   "cell_type": "markdown",
   "metadata": {},
   "source": [
    "Certainly! Let's calculate the square root of pi using Python's math module.\n",
    "\n"
   ]
  },
  {
   "cell_type": "code",
   "execution_count": null,
   "metadata": {},
   "outputs": [],
   "source": [
    "chat.exec_cbs.capture.outputs"
   ]
  },
  {
   "cell_type": "code",
   "execution_count": null,
   "metadata": {},
   "outputs": [],
   "source": [
    "\n",
    "import math\n",
    "math.sqrt(math.pi)\n"
   ]
  },
  {
   "cell_type": "markdown",
   "metadata": {},
   "source": [
    "Certainly! Let's calculate the square root of pi using Python's math module.\n",
    "\n"
   ]
  },
  {
   "cell_type": "code",
   "execution_count": null,
   "metadata": {},
   "outputs": [],
   "source": [
    "\n",
    "import math\n",
    "math.sqrt(math.pi)\n",
    "display(\"hello!\")"
   ]
  },
  {
   "cell_type": "markdown",
   "metadata": {},
   "source": [
    "Certainly! Let's calculate the square root of pi using Python's math module.\n",
    "\n"
   ]
  },
  {
   "cell_type": "code",
   "execution_count": null,
   "metadata": {},
   "outputs": [],
   "source": [
    "\n",
    "import math\n",
    "math.sqrt(math.pi)\n"
   ]
  },
  {
   "cell_type": "markdown",
   "metadata": {},
   "source": [
    "Certainly! Let's calculate the square root of pi using Python's math module.\n",
    "\n"
   ]
  },
  {
   "cell_type": "code",
   "execution_count": null,
   "metadata": {},
   "outputs": [],
   "source": [
    "\n",
    "import math\n",
    "math.sqrt(math.pi)\n"
   ]
  },
  {
   "cell_type": "markdown",
   "metadata": {},
   "source": [
    "Certainly! Let's calculate the square root of pi using Python's math module.\n",
    "\n"
   ]
  },
  {
   "cell_type": "code",
   "execution_count": null,
   "metadata": {},
   "outputs": [],
   "source": [
    "\n",
    "import math\n",
    "math.sqrt(math.pi)\n",
    "display(\"hello!\")\n"
   ]
  },
  {
   "cell_type": "markdown",
   "metadata": {},
   "source": [
    "Certainly! Let's calculate the square root of pi using Python's math module.\n",
    "\n"
   ]
  },
  {
   "cell_type": "markdown",
   "metadata": {},
   "source": [
    "Certainly! Let's calculate the square root of pi using Python's math module.\n",
    "\n"
   ]
  },
  {
   "cell_type": "code",
   "execution_count": null,
   "metadata": {},
   "outputs": [],
   "source": [
    "chat.exec_cbs.capture.get_outputs()"
   ]
  },
  {
   "cell_type": "code",
   "execution_count": null,
   "metadata": {},
   "outputs": [],
   "source": [
    "\n",
    "import math\n",
    "math.sqrt(math.pi)\n"
   ]
  },
  {
   "cell_type": "markdown",
   "metadata": {},
   "source": [
    "Certainly! Let's calculate the square root of pi using Python's math module.\n",
    "\n"
   ]
  },
  {
   "cell_type": "code",
   "execution_count": null,
   "metadata": {},
   "outputs": [],
   "source": [
    "\n",
    "import math\n",
    "math.sqrt(math.pi)\n"
   ]
  },
  {
   "cell_type": "markdown",
   "metadata": {},
   "source": [
    "Certainly! Let's calculate the square root of pi using Python's math module.\n",
    "\n"
   ]
  },
  {
   "cell_type": "code",
   "execution_count": null,
   "metadata": {},
   "outputs": [],
   "source": [
    "\n",
    "import math\n",
    "math.sqrt(math.pi)\n"
   ]
  },
  {
   "cell_type": "markdown",
   "metadata": {},
   "source": [
    "Certainly! Let's calculate the square root of pi using Python's math module.\n",
    "\n"
   ]
  },
  {
   "cell_type": "code",
   "execution_count": null,
   "metadata": {},
   "outputs": [],
   "source": [
    "\n",
    "import math\n",
    "math.sqrt(math.pi)\n"
   ]
  },
  {
   "cell_type": "markdown",
   "metadata": {},
   "source": [
    "Certainly! Let's calculate the square root of pi using Python's math module.\n",
    "\n"
   ]
  },
  {
   "cell_type": "code",
   "execution_count": null,
   "metadata": {},
   "outputs": [],
   "source": [
    "\n",
    "import math\n",
    "math.sqrt(math.pi)\n"
   ]
  },
  {
   "cell_type": "markdown",
   "metadata": {},
   "source": [
    "Certainly! Let's calculate the square root of pi using Python's math module.\n",
    "\n"
   ]
  },
  {
   "cell_type": "code",
   "execution_count": null,
   "metadata": {},
   "outputs": [],
   "source": [
    "\n",
    "import math\n",
    "math.sqrt(math.pi)\n"
   ]
  },
  {
   "cell_type": "markdown",
   "metadata": {},
   "source": [
    "Certainly! Let's calculate the square root of pi using Python's math module.\n",
    "\n"
   ]
  },
  {
   "cell_type": "code",
   "execution_count": null,
   "metadata": {},
   "outputs": [],
   "source": [
    "\n",
    "import math\n",
    "math.sqrt(math.pi)\n"
   ]
  },
  {
   "cell_type": "markdown",
   "metadata": {},
   "source": [
    "Certainly! Let's calculate the square root of pi using Python's math module. Here's a concise way to do it:\n",
    "\n"
   ]
  },
  {
   "cell_type": "code",
   "execution_count": null,
   "metadata": {},
   "outputs": [],
   "source": [
    "\n",
    "import math\n",
    "math.sqrt(math.pi)\n"
   ]
  },
  {
   "cell_type": "markdown",
   "metadata": {},
   "source": []
  },
  {
   "cell_type": "markdown",
   "metadata": {},
   "source": []
  },
  {
   "cell_type": "markdown",
   "metadata": {},
   "source": []
  },
  {
   "cell_type": "markdown",
   "metadata": {},
   "source": [
    "Certainly! Let's calculate the square root of pi using Python's math module. Here's a concise way to do it:\n",
    "\n",
    " math\n",
    "math.sqrt(math.pi)\n"
   ]
  },
  {
   "cell_type": "code",
   "execution_count": null,
   "metadata": {},
   "outputs": [],
   "source": [
    "\n",
    "import"
   ]
  },
  {
   "cell_type": "markdown",
   "metadata": {},
   "source": [
    "Certainly! Let's calculate the square root of pi using Python's math module. Here's a concise way to do it:\n",
    "\n",
    " math\n",
    "math.sqrt(math.pi)\n"
   ]
  },
  {
   "cell_type": "code",
   "execution_count": null,
   "metadata": {},
   "outputs": [],
   "source": [
    "\n",
    "import"
   ]
  },
  {
   "cell_type": "markdown",
   "metadata": {},
   "source": [
    "Certainly! Let's calculate the square root of pi using Python's math module. Here's a concise way to do it:\n",
    "\n",
    " math\n",
    "math.sqrt(math.pi)\n"
   ]
  },
  {
   "cell_type": "code",
   "execution_count": null,
   "metadata": {},
   "outputs": [],
   "source": [
    "\n",
    "import"
   ]
  },
  {
   "cell_type": "markdown",
   "metadata": {},
   "source": [
    "Certainly! Let's calculate the square root of pi using Python's math module. Here's a concise way to do it:\n",
    "\n",
    " math\n",
    "math.sqrt(math.pi)\n"
   ]
  },
  {
   "cell_type": "code",
   "execution_count": null,
   "metadata": {},
   "outputs": [],
   "source": [
    "\n",
    "import"
   ]
  },
  {
   "cell_type": "markdown",
   "metadata": {},
   "source": [
    "Certainly! Let's calculate the square root of pi using Python's math module. Here's a concise way to do it:\n",
    "\n"
   ]
  },
  {
   "cell_type": "markdown",
   "metadata": {},
   "source": [
    "Certainly! Let's calculate the square root of pi using Python's math module. Here's a concise way to do it:\n",
    "\n"
   ]
  },
  {
   "cell_type": "markdown",
   "metadata": {},
   "source": [
    "Certainly! Let's calculate the square root of pi using Python's math module. Here's a concise way to do it:\n",
    "\n"
   ]
  },
  {
   "cell_type": "markdown",
   "metadata": {},
   "source": []
  },
  {
   "cell_type": "markdown",
   "metadata": {},
   "source": []
  },
  {
   "cell_type": "markdown",
   "metadata": {},
   "source": [
    "Certainly! I'll provide a code snippet to download and display the first image from the Wikipedia article on cats. Here's how we can do that using Python:\n",
    "\n"
   ]
  },
  {
   "cell_type": "code",
   "execution_count": null,
   "metadata": {},
   "outputs": [],
   "source": [
    "import requests\n",
    "from bs4 import BeautifulSoup\n",
    "from IPython.display import Image, display\n",
    "\n",
    "# Fetch the Wikipedia page on cats\n",
    "url = \"https://en.wikipedia.org/wiki/Cat\"\n",
    "response = requests.get(url)\n",
    "soup = BeautifulSoup(response.content, 'html.parser')\n",
    "\n",
    "# Find the first image in the article\n",
    "img_tag = soup.find('img')\n",
    "img_url = f\"https:{img_tag['src']}\"\n",
    "\n",
    "# Download and display the image\n",
    "display(Image(url=img_url))\n"
   ]
  },
  {
   "cell_type": "markdown",
   "metadata": {},
   "source": [
    "Certainly! I'll provide you with a code snippet to download and display the first image from the Wikipedia article on cats. However, please note that we should be cautious about copyright issues. Instead of directly downloading and displaying the image, I'll show you how to retrieve the image URL and display it using IPython.display. This way, we're not reproducing the image itself, but rather linking to it.\n",
    "\n",
    "Here's the code to accomplish this:\n",
    "\n"
   ]
  },
  {
   "cell_type": "code",
   "execution_count": null,
   "metadata": {},
   "outputs": [],
   "source": [
    "import requests\n",
    "from bs4 import BeautifulSoup\n",
    "from IPython.display import Image, display\n",
    "\n",
    "# Fetch the Wikipedia page on cats\n",
    "url = \"https://en.wikipedia.org/wiki/Cat\"\n",
    "response = requests.get(url)\n",
    "soup = BeautifulSoup(response.content, 'html.parser')\n",
    "\n",
    "# Find the first image in the article\n",
    "first_image = soup.find('table', class_='infobox').find('img')\n",
    "\n",
    "# Get the source URL of the image\n",
    "image_url = f\"https:{first_image['src']}\"\n",
    "\n",
    "# Display the image\n",
    "display(Image(url=image_url))\n"
   ]
  },
  {
   "cell_type": "code",
   "execution_count": null,
   "metadata": {},
   "outputs": [],
   "source": []
  },
  {
   "cell_type": "code",
   "execution_count": null,
   "metadata": {},
   "outputs": [],
   "source": []
  },
  {
   "cell_type": "code",
   "execution_count": null,
   "metadata": {},
   "outputs": [],
   "source": []
  },
  {
   "cell_type": "code",
   "execution_count": null,
   "metadata": {},
   "outputs": [],
   "source": []
  },
  {
   "cell_type": "code",
   "execution_count": null,
   "metadata": {},
   "outputs": [],
   "source": []
  },
  {
   "cell_type": "code",
   "execution_count": null,
   "metadata": {},
   "outputs": [],
   "source": []
  },
  {
   "cell_type": "code",
   "execution_count": null,
   "metadata": {},
   "outputs": [],
   "source": []
  },
  {
   "cell_type": "code",
   "execution_count": null,
   "metadata": {},
   "outputs": [],
   "source": []
  },
  {
   "cell_type": "code",
   "execution_count": null,
   "metadata": {},
   "outputs": [],
   "source": []
  },
  {
   "cell_type": "code",
   "execution_count": null,
   "metadata": {},
   "outputs": [],
   "source": []
  },
  {
   "cell_type": "code",
   "execution_count": null,
   "metadata": {},
   "outputs": [],
   "source": []
  },
  {
   "cell_type": "code",
   "execution_count": null,
   "metadata": {},
   "outputs": [],
   "source": []
  },
  {
   "cell_type": "code",
   "execution_count": null,
   "metadata": {},
   "outputs": [],
   "source": []
  }
 ],
 "metadata": {
  "kernelspec": {
   "display_name": "python3",
   "language": "python",
   "name": "python3"
  }
 },
 "nbformat": 4,
 "nbformat_minor": 4
}
