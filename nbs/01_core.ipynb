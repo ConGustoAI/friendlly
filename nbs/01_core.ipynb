{
 "cells": [
  {
   "cell_type": "markdown",
   "metadata": {},
   "source": [
    "## Core"
   ]
  },
  {
   "cell_type": "code",
   "execution_count": null,
   "metadata": {},
   "outputs": [],
   "source": [
    "#| default_exp core"
   ]
  },
  {
   "cell_type": "code",
   "execution_count": null,
   "metadata": {},
   "outputs": [],
   "source": [
    "#| hide\n",
    "%load_ext autoreload\n",
    "%autoreload 2"
   ]
  },
  {
   "cell_type": "code",
   "execution_count": null,
   "metadata": {},
   "outputs": [],
   "source": [
    "#| hide\n",
    "from dotenv import load_dotenv\n",
    "import os"
   ]
  },
  {
   "cell_type": "code",
   "execution_count": null,
   "metadata": {},
   "outputs": [],
   "source": [
    "#| hide\n",
    "load_dotenv();"
   ]
  },
  {
   "cell_type": "code",
   "execution_count": null,
   "metadata": {},
   "outputs": [],
   "source": [
    "#| export\n",
    "import json\n",
    "from typing import List, Dict, Tuple\n",
    "import textwrap\n",
    "import claudette\n",
    "from IPython import get_ipython\n",
    "from IPython.display import display, clear_output, Markdown, Javascript\n",
    "from friendlly.utils import ExecCBs"
   ]
  },
  {
   "cell_type": "code",
   "execution_count": null,
   "metadata": {},
   "outputs": [],
   "source": [
    "#| export\n",
    "\n",
    "# A single cell can contain multiple messages.\n",
    "# A message is either a user message (starts with %fr) or a bot message (starts with #).\n",
    "# Both can be multiline.\n",
    "def parse_cell(\n",
    "    cell: str # The raw body of the cell\n",
    ") -> Tuple[List[Dict[str, str]], int]:\n",
    "    \"\"\"\n",
    "    A single cell can contain multiple messages.\n",
    "    A message is either a user message (starts with %fr) or a bot message (starts with #).\n",
    "    Both can be multiline.\n",
    "\n",
    "    Returns: a list of messages (with 'role' and 'content') and the number of %fr magics in the cell\n",
    "    \"\"\"\n",
    "    parsed_lines = []\n",
    "    num_magic = 0\n",
    "    for line in cell.split('\\n'):\n",
    "        if line.startswith('%fr'):\n",
    "            message = {'role': 'user', 'content': line[3:].strip()}\n",
    "            num_magic += 1\n",
    "        elif line.strip().startswith('#'):\n",
    "            message = {'role': 'assistant', 'content': line[1:].strip()}\n",
    "        else: continue\n",
    "\n",
    "        if not parsed_lines or parsed_lines[-1]['role'] != message['role']:\n",
    "            parsed_lines.append(message)\n",
    "        else:\n",
    "            parsed_lines[-1]['content'] += (\"\\n\" + message['content'])\n",
    "\n",
    "    return parsed_lines, num_magic"
   ]
  },
  {
   "cell_type": "code",
   "execution_count": null,
   "metadata": {},
   "outputs": [],
   "source": [
    "#| exporti\n",
    "#| hide\n",
    "\n",
    "models = [\n",
    "    'claude-3-opus-20240229',\n",
    "    'claude-3-5-sonnet-20240620',\n",
    "    'claude-3-haiku-20240307',\n",
    "]\n",
    "chat_client = claudette.Client(model=models[1])\n",
    "\n",
    "magic_count = 0\n",
    "messages = []"
   ]
  },
  {
   "cell_type": "code",
   "execution_count": null,
   "metadata": {},
   "outputs": [],
   "source": [
    "#| export\n",
    "def fr_line(line: str):\n",
    "    \"\"\"The magic function for the %fr magic command.\"\"\"\n",
    "    global magic_count, messages\n",
    "    ip = get_ipython()\n",
    "    # raw_cell = ip.history_manager.input_hist_raw[-1]\n",
    "    raw_cell = ip.get_parent()[\"content\"][\"code\"]\n",
    "\n",
    "    # The cell might have multiple %lm magics, but we only want to process the last one.\n",
    "    # Presumably, the previous ones would have been processed already.\n",
    "    if magic_count <= 0:\n",
    "        messages, magic_count = parse_cell(raw_cell)\n",
    "\n",
    "    # This is the last %lm magic invocation of the cell.\n",
    "    # But we ignore cells that don't have a user message as the last message.\n",
    "    if magic_count == 1 and len(messages) > 0 and messages[-1]['role'] == 'user' and messages[-1]['content'].strip():\n",
    "        reply = \"\"\n",
    "        display_id = display(Markdown(\"🚀...\"), display_id=True)\n",
    "        try:\n",
    "            r = chat_client([m['content'] for m in messages], stream=True)\n",
    "            for token in r:\n",
    "                reply += token\n",
    "                display_id.update(Markdown(reply))\n",
    "\n",
    "            if reply:\n",
    "                reply = textwrap.fill(text=reply, width=100, initial_indent=\"# \", subsequent_indent=\"# \")\n",
    "                raw_cell += f\"\\n{reply}\\n\\n%fr \"\n",
    "                ip.set_next_input(raw_cell, replace=True)\n",
    "\n",
    "            clear_output()\n",
    "\n",
    "        except BaseException as e:\n",
    "            display_id.update(Markdown(f\"🚫 {repr(e)}\"))\n",
    "\n",
    "\n",
    "    magic_count -= 1"
   ]
  },
  {
   "cell_type": "markdown",
   "metadata": {},
   "source": [
    "## Friend**LL**y"
   ]
  },
  {
   "cell_type": "code",
   "execution_count": null,
   "metadata": {},
   "outputs": [],
   "source": [
    "#| eval: False\n",
    "ip = get_ipython()\n",
    "ip.register_magic_function(fr_line, 'line', magic_name='fr')"
   ]
  },
  {
   "cell_type": "code",
   "execution_count": null,
   "metadata": {},
   "outputs": [],
   "source": [
    "%fr Hello there! My name is Alex.\n",
    "\n",
    "# Hello Alex! It's nice to meet you. How can I assist you today? Is there anything specific you'd\n",
    "# like to talk about or any questions you have?\n",
    "\n",
    "%fr"
   ]
  },
  {
   "cell_type": "code",
   "execution_count": null,
   "metadata": {},
   "outputs": [],
   "source": [
    "from friendlly.utils.nbclassic import patch_kernel, add_cell, update_cell, render_cell, execute_cell, get_index"
   ]
  },
  {
   "cell_type": "code",
   "execution_count": null,
   "metadata": {},
   "outputs": [],
   "source": [
    "#| export\n",
    "\n",
    "sp=\"\"\"\n",
    "You are ConGusto, a very knowledgeable and intelligent research assistant.\n",
    "Fulfill simple requests right away.\n",
    "Use <thought>, it's not shown to the user. You can use <thought> multiple times.\n",
    "\n",
    "When appropriate, use Jupyter notebook. It has python 3.10+ and many packages installed.\n",
    "Use <code> to add a new code cell.\n",
    "Use <run> to execute the added cell. You will receive all its output on the next turn.\n",
    "\n",
    "Avoid putting too much in one cell. Prefer short cells that can be tested quickly.\n",
    "This way you will be able to check that the cell works as intended and continue. \n",
    "\n",
    "You can use the usual display(), print(), or just place the value on the last line of the cell.\n",
    "Make sure to not add anything after that value, as it won't be retuerned if it's not on the last line.\n",
    "Only output a result once with one method.\n",
    "Avid using .show() and close matplot figures before the end of the cell - use an explicit display().\n",
    "\n",
    "After code execution, if the request has been fullfilled, reply only with <done>, do not explain the obvious.\n",
    "The user will ask follow-up questions if needed. They want you to do only what they asked for.\n",
    "You should also end your text with <done> if there is no need to run code.\n",
    "\n",
    "To show an example in python without running the code, use\n",
    "```python\n",
    "python code here\n",
    "```\n",
    "\n",
    "For example:\n",
    "User: Calculate square root of pi\n",
    "Assistant: <code>\n",
    "import math\n",
    "math.sqrt(math.pi)\n",
    "</code><run>\n",
    "User: <stdio>1.7724538509055159<stdio>\n",
    "Assistand: <done>\n",
    "\n",
    "User: Display cat.jpg\n",
    "Assistant: <thought>I can use the PIL library for this.</thought><code>\n",
    "from PIL import Image\n",
    "Image.open(\"cat.jpg\")\n",
    "</code><run>\n",
    "User: <PIL.PngImagePlugin.PngImageFile image mode=RGBA size=128x127>\n",
    "User: <image message>\n",
    "Assistant: <done>\n",
    "\n",
    "When writing code, use advanced python features.\n",
    "Assume all packages are instlled.\n",
    "Don't forget to import modules before using them.\n",
    "If you realize that you need to use a module that is not imported, import in in place.\n",
    "\"\"\"\n"
   ]
  },
  {
   "cell_type": "code",
   "execution_count": null,
   "metadata": {},
   "outputs": [],
   "source": [
    "# from PIL import Image\n",
    "# from pathlib import Path\n",
    "# fn = Path(\"cat.jpg\")\n",
    "import cairosvg\n",
    "import xml.etree.ElementTree as ET\n",
    "from io import BytesIO\n",
    "import base64\n",
    "\n",
    "def svg_to_png(svg_content, max_size):\n",
    "    root = ET.fromstring(svg_content)\n",
    "\n",
    "    \n",
    "    def parse_dimension(value):\n",
    "        if value.endswith('%'):\n",
    "            return float(value[:-1]) / 100 * max_size\n",
    "        return float(re.findall(r'[\\d.]+', value)[0])\n",
    "\n",
    "    width = parse_dimension(root.attrib.get('width', str(max_size)))\n",
    "    height = parse_dimension(root.attrib.get('height', str(max_size)))\n",
    "    \n",
    "    viewBox = root.attrib.get('viewBox')\n",
    "    if viewBox:\n",
    "        _, _, vb_width, vb_height = map(float, viewBox.split())\n",
    "        if width == max_size:\n",
    "            width = vb_width\n",
    "        if height == max_size:\n",
    "            height = vb_height\n",
    "\n",
    "    scale = min(max_size / width, max_size / height)\n",
    "    new_width = int(width * scale)\n",
    "    new_height = int(height * scale)\n",
    "\n",
    "    # Render PNG\n",
    "    png =  cairosvg.svg2png(bytestring=svg_content, output_width=new_width, output_height=new_height)\n",
    "    return base64.b64encode(png)\n",
    "\n",
    "def display_to_messages(dsp):\n",
    "    plain_text = dsp.get(\"text/plain\")\n",
    "    text = list(filter(lambda x:x[1], [\n",
    "        (\"text-html\", dsp.get(\"text/html\")),\n",
    "        (\"latex\", dsp.get(\"text/latex\")),\n",
    "        (\"markdown\", dsp.get(\"text/markdown\")),\n",
    "        (\"json\", dsp.get(\"application/json\")),\n",
    "        (\"js\", dsp.get(\"application/javascript\"))\n",
    "    ]))\n",
    "    \n",
    "    images = list(filter(lambda x:x, [ dsp.get(\"image/png\"), dsp.get(\"image/jpeg\") ]))\n",
    "    svg = dsp.get(\"image/svg+xml\")\n",
    "    if svg: images.append(svg_to_png(svg, 256))\n",
    "  \n",
    "    messages = [f\"<{t[0]}>{t[1]}</{t[0]}>\" for t in text]\n",
    "    \n",
    "    if not len(messages):\n",
    "        messages = [plain_text]\n",
    "        \n",
    "    claudette_msgs = [claudette.text_msg(m) for m in messages]\n",
    "    if images:\n",
    "        claudette_msgs.append(claudette.img_msg(base64.b64decode(images[0]))) # Grab only one image\n",
    "\n",
    "    return claudette_msgs\n"
   ]
  },
  {
   "cell_type": "code",
   "execution_count": null,
   "metadata": {},
   "outputs": [],
   "source": [
    "#| export\n",
    "\n",
    "class CellChat():\n",
    "    def __init__(self, model=\"claude-3-5-sonnet-20240620\", sp=None):\n",
    "        if sp is not None: self.sp = sp\n",
    "        self.history = []\n",
    "        self.client = claudette.Client(model=model)\n",
    "\n",
    "\n",
    "    def update_markdown(self, text):\n",
    "        if self.md_idx is None:\n",
    "            self.md_idx = self.idx+1\n",
    "            add_cell(self.md_idx, \"markdown\")\n",
    "        update_cell(self.md_idx, text)\n",
    "        render_cell(self.md_idx)\n",
    "\n",
    "    def update_code(self, code):\n",
    "        if self.code_idx is None:\n",
    "            self.code_idx = self.md_idx+1 if (self.md_idx is not None) else self.idx+1\n",
    "            add_cell(self.code_idx, \"code\")\n",
    "        update_cell(self.code_idx, code)\n",
    "\n",
    "    def go(self, idx, message, autorun=True):\n",
    "        assert idx >= 0\n",
    "        self.idx = idx\n",
    "        self.md_idx = self.code_idx = None\n",
    "        self.history.append(message)\n",
    "        \n",
    "        tokens = []\n",
    "        try:\n",
    "            md_reply = \"\"\n",
    "            code_reply = None\n",
    "            add_md_cell = True\n",
    "            r = self.client(claudette.mk_msgs(self.history),\n",
    "                            sp=self.sp,\n",
    "                            stream=True,\n",
    "                            stop=[\"<done>\", \"<run>\"])\n",
    "            for token in r:\n",
    "                tokens.append(token)\n",
    "                \n",
    "                md_reply += token\n",
    "                if \"<code>\" in md_reply:\n",
    "                    md_reply, code_reply = md_reply.split(\"<code>\")\n",
    "\n",
    "                if md_reply != \"\":\n",
    "                    self.update_markdown(md_reply.strip())\n",
    "                if code_reply is not None:\n",
    "                    break\n",
    "\n",
    "            if code_reply is not None:\n",
    "                for token in r:\n",
    "                    tokens.append(token)\n",
    "                    code_reply += token\n",
    "                    self.update_code(code_reply.strip())\n",
    "                \n",
    "            if self.client.stop_reason == \"stop_sequence\":\n",
    "                tokens += self.client.stop_sequence\n",
    "            self.history.append(claudette.mk_msg(\"\".join(tokens), role=\"assistant\"))\n",
    "            \n",
    "            if autorun and self.code_idx is not None:\n",
    "                # This schedules the cell for execution once this one is finished.\n",
    "                execute_cell(self.code_idx)\n",
    "                return True\n",
    "            \n",
    "        except BaseException as e:\n",
    "            self.display_handle.update(Markdown(f\"🚫 {repr(e)}\"))\n",
    "            get_ipython().showtraceback()\n",
    "\n"
   ]
  },
  {
   "cell_type": "code",
   "execution_count": null,
   "metadata": {},
   "outputs": [],
   "source": [
    "chat = None\n",
    "cbs = None\n",
    "\n",
    "\n",
    "import cairosvg\n",
    "from io import BytesIO\n",
    "\n",
    "def followup(stdout, stderr, dsp, result, tracebacks):\n",
    "    text_message = \"\"\n",
    "    \n",
    "    assert len(tracebacks) <= 1\n",
    "    if result.error_before_exec:\n",
    "        text_message += \"<error_before_exec>\" + tracebacks[0][\"stb\"] + \"</error_before_exec>\"\n",
    "    \n",
    "    if result.error_in_exec:\n",
    "        text_message += \"<error_in_exec>\" + tracebacks[0][\"stb\"] + \"</error_in_exec>\"\n",
    "    \n",
    "    if stdout: text_message += f\"<stdout>{stdout}</stdout>\"\n",
    "    if stderr: text_message += f\"<stderr>{stderr}</stderr>\"\n",
    "        \n",
    "    if dsp is None: dsp = []\n",
    "    display_messages = []\n",
    "    for d in dsp:\n",
    "        msgs = display_to_messages(d)\n",
    "        for msg in msgs:\n",
    "            display_messages.append(msg)\n",
    "\n",
    "        \n",
    "    result_message = []\n",
    "    if result.result:\n",
    "        formatted, _ = get_ipython().display_formatter.format(result.result)\n",
    "        for key in (\"image/jpg\", \"image/png\"):\n",
    "            if key in formatted: formatted[key] = base64.b64encode(formatted[key]).decode(\"ascii\")\n",
    "\n",
    "        result_message = display_to_messages(formatted)\n",
    "        \n",
    "    combined_messages = []\n",
    "    if text_message: combined_messages += [claudette.text_msg(text_message)]\n",
    "    if display_messages: combined_messages += display_messages\n",
    "    if result_message: combined_messages += result_message\n",
    "#     raise ValueError\n",
    "    message = claudette.mk_msg(combined_messages)\n",
    "    \n",
    "#     raise \"hello\"\n",
    "    to_exec = chat.go(get_index(), message)\n",
    "    if to_exec:\n",
    "            cbs = ExecCBs(followup)\n",
    "            cbs.register()\n",
    "\n",
    "def fr_cell(line=None, cell=None):\n",
    "    global cbs\n",
    "    global chat\n",
    "    chat = CellChat(sp=sp)\n",
    "\n",
    "    to_exec = chat.go(get_index(), claudette.mk_msg(cell, role=\"user\"))\n",
    "    if to_exec:\n",
    "        cbs = ExecCBs(followup)\n",
    "        cbs.register()\n",
    "\n",
    "get_ipython().register_magic_function(fr_cell, 'cell', magic_name='fr')"
   ]
  },
  {
   "cell_type": "code",
   "execution_count": null,
   "metadata": {},
   "outputs": [],
   "source": [
    "#| export\n",
    "\n",
    "# def load_ipython_extension(ipython):\n",
    "#     patch_kernel()\n",
    "#     ipython.register_magic_function(fr_line, 'line', magic_name='fr')\n",
    "#     ipython.register_magic_function(fr_cell, 'cell', magic_name='fr')\n",
    "\n",
    "# def unload_ipython_extension(ipython):\n",
    "#     if cbs: cbs.unregister()"
   ]
  },
  {
   "cell_type": "code",
   "execution_count": null,
   "metadata": {},
   "outputs": [],
   "source": [
    "#| eval: false\n",
    "# load_ipython_extension(get_ipython())"
   ]
  },
  {
   "cell_type": "code",
   "execution_count": null,
   "metadata": {},
   "outputs": [
    {
     "data": {
      "application/javascript": [],
      "text/plain": [
       "<IPython.core.display.Javascript object>"
      ]
     },
     "metadata": {},
     "output_type": "display_data"
    },
    {
     "data": {
      "application/javascript": [],
      "text/plain": [
       "<IPython.core.display.Javascript object>"
      ]
     },
     "metadata": {},
     "output_type": "display_data"
    },
    {
     "data": {
      "application/javascript": [],
      "text/plain": [
       "<IPython.core.display.Javascript object>"
      ]
     },
     "metadata": {},
     "output_type": "display_data"
    },
    {
     "data": {
      "application/javascript": [],
      "text/plain": [
       "<IPython.core.display.Javascript object>"
      ]
     },
     "metadata": {},
     "output_type": "display_data"
    },
    {
     "data": {
      "application/javascript": [],
      "text/plain": [
       "<IPython.core.display.Javascript object>"
      ]
     },
     "metadata": {},
     "output_type": "display_data"
    },
    {
     "data": {
      "application/javascript": [],
      "text/plain": [
       "<IPython.core.display.Javascript object>"
      ]
     },
     "metadata": {},
     "output_type": "display_data"
    },
    {
     "data": {
      "application/javascript": [],
      "text/plain": [
       "<IPython.core.display.Javascript object>"
      ]
     },
     "metadata": {},
     "output_type": "display_data"
    },
    {
     "data": {
      "application/javascript": [],
      "text/plain": [
       "<IPython.core.display.Javascript object>"
      ]
     },
     "metadata": {},
     "output_type": "display_data"
    },
    {
     "data": {
      "application/javascript": [],
      "text/plain": [
       "<IPython.core.display.Javascript object>"
      ]
     },
     "metadata": {},
     "output_type": "display_data"
    },
    {
     "data": {
      "application/javascript": [],
      "text/plain": [
       "<IPython.core.display.Javascript object>"
      ]
     },
     "metadata": {},
     "output_type": "display_data"
    },
    {
     "data": {
      "application/javascript": [],
      "text/plain": [
       "<IPython.core.display.Javascript object>"
      ]
     },
     "metadata": {},
     "output_type": "display_data"
    },
    {
     "data": {
      "application/javascript": [],
      "text/plain": [
       "<IPython.core.display.Javascript object>"
      ]
     },
     "metadata": {},
     "output_type": "display_data"
    },
    {
     "data": {
      "application/javascript": [],
      "text/plain": [
       "<IPython.core.display.Javascript object>"
      ]
     },
     "metadata": {},
     "output_type": "display_data"
    },
    {
     "data": {
      "application/javascript": [],
      "text/plain": [
       "<IPython.core.display.Javascript object>"
      ]
     },
     "metadata": {},
     "output_type": "display_data"
    },
    {
     "data": {
      "application/javascript": [],
      "text/plain": [
       "<IPython.core.display.Javascript object>"
      ]
     },
     "metadata": {},
     "output_type": "display_data"
    },
    {
     "data": {
      "application/javascript": [],
      "text/plain": [
       "<IPython.core.display.Javascript object>"
      ]
     },
     "metadata": {},
     "output_type": "display_data"
    },
    {
     "data": {
      "application/javascript": [],
      "text/plain": [
       "<IPython.core.display.Javascript object>"
      ]
     },
     "metadata": {},
     "output_type": "display_data"
    },
    {
     "data": {
      "application/javascript": [],
      "text/plain": [
       "<IPython.core.display.Javascript object>"
      ]
     },
     "metadata": {},
     "output_type": "display_data"
    },
    {
     "data": {
      "application/javascript": [],
      "text/plain": [
       "<IPython.core.display.Javascript object>"
      ]
     },
     "metadata": {},
     "output_type": "display_data"
    },
    {
     "data": {
      "application/javascript": [],
      "text/plain": [
       "<IPython.core.display.Javascript object>"
      ]
     },
     "metadata": {},
     "output_type": "display_data"
    },
    {
     "data": {
      "application/javascript": [],
      "text/plain": [
       "<IPython.core.display.Javascript object>"
      ]
     },
     "metadata": {},
     "output_type": "display_data"
    },
    {
     "data": {
      "application/javascript": [],
      "text/plain": [
       "<IPython.core.display.Javascript object>"
      ]
     },
     "metadata": {},
     "output_type": "display_data"
    },
    {
     "data": {
      "application/javascript": [],
      "text/plain": [
       "<IPython.core.display.Javascript object>"
      ]
     },
     "metadata": {},
     "output_type": "display_data"
    },
    {
     "data": {
      "application/javascript": [],
      "text/plain": [
       "<IPython.core.display.Javascript object>"
      ]
     },
     "metadata": {},
     "output_type": "display_data"
    },
    {
     "data": {
      "application/javascript": [],
      "text/plain": [
       "<IPython.core.display.Javascript object>"
      ]
     },
     "metadata": {},
     "output_type": "display_data"
    },
    {
     "data": {
      "application/javascript": [],
      "text/plain": [
       "<IPython.core.display.Javascript object>"
      ]
     },
     "metadata": {},
     "output_type": "display_data"
    },
    {
     "data": {
      "application/javascript": [],
      "text/plain": [
       "<IPython.core.display.Javascript object>"
      ]
     },
     "metadata": {},
     "output_type": "display_data"
    },
    {
     "data": {
      "application/javascript": [],
      "text/plain": [
       "<IPython.core.display.Javascript object>"
      ]
     },
     "metadata": {},
     "output_type": "display_data"
    },
    {
     "data": {
      "application/javascript": [],
      "text/plain": [
       "<IPython.core.display.Javascript object>"
      ]
     },
     "metadata": {},
     "output_type": "display_data"
    },
    {
     "data": {
      "application/javascript": [],
      "text/plain": [
       "<IPython.core.display.Javascript object>"
      ]
     },
     "metadata": {},
     "output_type": "display_data"
    },
    {
     "data": {
      "application/javascript": [],
      "text/plain": [
       "<IPython.core.display.Javascript object>"
      ]
     },
     "metadata": {},
     "output_type": "display_data"
    },
    {
     "data": {
      "application/javascript": [],
      "text/plain": [
       "<IPython.core.display.Javascript object>"
      ]
     },
     "metadata": {},
     "output_type": "display_data"
    },
    {
     "data": {
      "application/javascript": [],
      "text/plain": [
       "<IPython.core.display.Javascript object>"
      ]
     },
     "metadata": {},
     "output_type": "display_data"
    },
    {
     "data": {
      "application/javascript": [],
      "text/plain": [
       "<IPython.core.display.Javascript object>"
      ]
     },
     "metadata": {},
     "output_type": "display_data"
    },
    {
     "data": {
      "application/javascript": [],
      "text/plain": [
       "<IPython.core.display.Javascript object>"
      ]
     },
     "metadata": {},
     "output_type": "display_data"
    },
    {
     "data": {
      "application/javascript": [],
      "text/plain": [
       "<IPython.core.display.Javascript object>"
      ]
     },
     "metadata": {},
     "output_type": "display_data"
    },
    {
     "data": {
      "application/javascript": [],
      "text/plain": [
       "<IPython.core.display.Javascript object>"
      ]
     },
     "metadata": {},
     "output_type": "display_data"
    },
    {
     "data": {
      "application/javascript": [],
      "text/plain": [
       "<IPython.core.display.Javascript object>"
      ]
     },
     "metadata": {},
     "output_type": "display_data"
    },
    {
     "data": {
      "application/javascript": [],
      "text/plain": [
       "<IPython.core.display.Javascript object>"
      ]
     },
     "metadata": {},
     "output_type": "display_data"
    },
    {
     "data": {
      "application/javascript": [],
      "text/plain": [
       "<IPython.core.display.Javascript object>"
      ]
     },
     "metadata": {},
     "output_type": "display_data"
    },
    {
     "data": {
      "application/javascript": [],
      "text/plain": [
       "<IPython.core.display.Javascript object>"
      ]
     },
     "metadata": {},
     "output_type": "display_data"
    },
    {
     "data": {
      "application/javascript": [],
      "text/plain": [
       "<IPython.core.display.Javascript object>"
      ]
     },
     "metadata": {},
     "output_type": "display_data"
    },
    {
     "data": {
      "application/javascript": [],
      "text/plain": [
       "<IPython.core.display.Javascript object>"
      ]
     },
     "metadata": {},
     "output_type": "display_data"
    },
    {
     "data": {
      "application/javascript": [],
      "text/plain": [
       "<IPython.core.display.Javascript object>"
      ]
     },
     "metadata": {},
     "output_type": "display_data"
    },
    {
     "data": {
      "application/javascript": [],
      "text/plain": [
       "<IPython.core.display.Javascript object>"
      ]
     },
     "metadata": {},
     "output_type": "display_data"
    },
    {
     "data": {
      "application/javascript": [],
      "text/plain": [
       "<IPython.core.display.Javascript object>"
      ]
     },
     "metadata": {},
     "output_type": "display_data"
    },
    {
     "data": {
      "application/javascript": [],
      "text/plain": [
       "<IPython.core.display.Javascript object>"
      ]
     },
     "metadata": {},
     "output_type": "display_data"
    },
    {
     "data": {
      "application/javascript": [],
      "text/plain": [
       "<IPython.core.display.Javascript object>"
      ]
     },
     "metadata": {},
     "output_type": "display_data"
    },
    {
     "data": {
      "application/javascript": [],
      "text/plain": [
       "<IPython.core.display.Javascript object>"
      ]
     },
     "metadata": {},
     "output_type": "display_data"
    },
    {
     "data": {
      "application/javascript": [],
      "text/plain": [
       "<IPython.core.display.Javascript object>"
      ]
     },
     "metadata": {},
     "output_type": "display_data"
    },
    {
     "data": {
      "application/javascript": [],
      "text/plain": [
       "<IPython.core.display.Javascript object>"
      ]
     },
     "metadata": {},
     "output_type": "display_data"
    },
    {
     "data": {
      "application/javascript": [],
      "text/plain": [
       "<IPython.core.display.Javascript object>"
      ]
     },
     "metadata": {},
     "output_type": "display_data"
    },
    {
     "data": {
      "application/javascript": [],
      "text/plain": [
       "<IPython.core.display.Javascript object>"
      ]
     },
     "metadata": {},
     "output_type": "display_data"
    },
    {
     "data": {
      "application/javascript": [],
      "text/plain": [
       "<IPython.core.display.Javascript object>"
      ]
     },
     "metadata": {},
     "output_type": "display_data"
    },
    {
     "data": {
      "application/javascript": [],
      "text/plain": [
       "<IPython.core.display.Javascript object>"
      ]
     },
     "metadata": {},
     "output_type": "display_data"
    },
    {
     "data": {
      "application/javascript": [],
      "text/plain": [
       "<IPython.core.display.Javascript object>"
      ]
     },
     "metadata": {},
     "output_type": "display_data"
    },
    {
     "data": {
      "application/javascript": [],
      "text/plain": [
       "<IPython.core.display.Javascript object>"
      ]
     },
     "metadata": {},
     "output_type": "display_data"
    },
    {
     "data": {
      "application/javascript": [],
      "text/plain": [
       "<IPython.core.display.Javascript object>"
      ]
     },
     "metadata": {},
     "output_type": "display_data"
    },
    {
     "data": {
      "application/javascript": [],
      "text/plain": [
       "<IPython.core.display.Javascript object>"
      ]
     },
     "metadata": {},
     "output_type": "display_data"
    },
    {
     "data": {
      "application/javascript": [],
      "text/plain": [
       "<IPython.core.display.Javascript object>"
      ]
     },
     "metadata": {},
     "output_type": "display_data"
    },
    {
     "data": {
      "application/javascript": [],
      "text/plain": [
       "<IPython.core.display.Javascript object>"
      ]
     },
     "metadata": {},
     "output_type": "display_data"
    },
    {
     "data": {
      "application/javascript": [],
      "text/plain": [
       "<IPython.core.display.Javascript object>"
      ]
     },
     "metadata": {},
     "output_type": "display_data"
    }
   ],
   "source": [
    "%%fr\n",
    "Download an image of a cat and show it, describe what you see."
   ]
  },
  {
   "cell_type": "code",
   "execution_count": null,
   "metadata": {},
   "outputs": [
    {
     "name": "stdout",
     "output_type": "stream",
     "text": [
      "hello\n"
     ]
    }
   ],
   "source": [
    "print(\"hello\")"
   ]
  },
  {
   "cell_type": "markdown",
   "metadata": {},
   "source": [
    "sdfsf"
   ]
  }
 ],
 "metadata": {
  "kernelspec": {
   "display_name": "Python 3 (ipykernel)",
   "language": "python",
   "name": "python3"
  },
  "language_info": {
   "codemirror_mode": {
    "name": "ipython",
    "version": 3
   },
   "file_extension": ".py",
   "mimetype": "text/x-python",
   "name": "python",
   "nbconvert_exporter": "python",
   "pygments_lexer": "ipython3",
   "version": "3.12.4"
  }
 },
 "nbformat": 4,
 "nbformat_minor": 4
}
