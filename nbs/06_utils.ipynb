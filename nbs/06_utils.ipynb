{
 "cells": [
  {
   "cell_type": "code",
   "execution_count": null,
   "metadata": {},
   "outputs": [],
   "source": [
    "#| default_exp utils"
   ]
  },
  {
   "cell_type": "code",
   "execution_count": null,
   "metadata": {},
   "outputs": [],
   "source": [
    "#| export\n",
    "import pprint"
   ]
  },
  {
   "cell_type": "code",
   "execution_count": null,
   "metadata": {},
   "outputs": [],
   "source": [
    "# |export\n",
    "class nict(dict):\n",
    "    def __init__(self, d=dict(), /, **kwargs):\n",
    "        if d is None: d = {}\n",
    "        else:\n",
    "            assert isinstance(d, dict), f'expected dict, got {type(d)}'\n",
    "            d = d.copy()\n",
    "\n",
    "        d.update(kwargs)\n",
    "        for k,v  in d.items():\n",
    "            if isinstance(v, dict):\n",
    "                d[k] = nict(**v)\n",
    "            elif isinstance(v, list):\n",
    "                d[k] = [nict(**item) if isinstance(item, dict) else item for item in v]\n",
    "            elif isinstance(v, tuple):\n",
    "                d[k] = tuple(nict(**item) if isinstance(item, dict) else item for item in v)\n",
    "            else:\n",
    "                d[k] = v\n",
    "\n",
    "        super().__init__(**d)\n",
    "\n",
    "    def __getattr__(self, key):\n",
    "        return self[key] if key in self else super().__getattribute__(key)\n",
    "\n",
    "    def __setattr__(self, key, value):\n",
    "        self[key] = value\n",
    "\n",
    "    def __delattr__(self, key):\n",
    "        del self[key]\n",
    "\n",
    "    def __dir__(self):\n",
    "        return list(self.keys()) + dir(super())\n",
    "\n",
    "    def _to_dict(self):\n",
    "        return {k: v._to_dict() if isinstance(v, nict) else v for k, v in self.items()}"
   ]
  },
  {
   "cell_type": "code",
   "execution_count": null,
   "metadata": {},
   "outputs": [],
   "source": [
    "_test_dict = {'a':1, 'b': {'c':1, 'd':2}, 'c': {'c':1, 'd':2}, 'd': {'c':1, 'd':2},\n",
    "              'e': {'c':1, 'd':2}, 'f': {'c':1, 'd':2, 'e': 4, 'f':[1,2,3,4,5]}}"
   ]
  },
  {
   "cell_type": "markdown",
   "metadata": {},
   "source": [
    "It can take a dictionary, and optionally the keys you want to override."
   ]
  },
  {
   "cell_type": "code",
   "execution_count": null,
   "metadata": {},
   "outputs": [
    {
     "data": {
      "text/plain": [
       "{'a': 2,\n",
       " 'b': {'c': 2, 'd': 3},\n",
       " 'c': {'c': 1, 'd': 2},\n",
       " 'd': {'c': 1, 'd': 2},\n",
       " 'e': {'c': 1, 'd': 2},\n",
       " 'f': {'c': 1, 'd': 2, 'e': 4, 'f': [1, 2, 3, 4, 5]}}"
      ]
     },
     "execution_count": null,
     "metadata": {},
     "output_type": "execute_result"
    }
   ],
   "source": [
    "n = nict(_test_dict, a=2, b={'c':2, 'd':3})\n",
    "n"
   ]
  },
  {
   "cell_type": "markdown",
   "metadata": {},
   "source": [
    "Or you can expand a dictionary into it"
   ]
  },
  {
   "cell_type": "code",
   "execution_count": null,
   "metadata": {},
   "outputs": [
    {
     "data": {
      "text/plain": [
       "{'a': 1,\n",
       " 'b': {'c': 1, 'd': 2},\n",
       " 'c': {'c': 1, 'd': 2},\n",
       " 'd': {'c': 1, 'd': 2},\n",
       " 'e': {'c': 1, 'd': 2},\n",
       " 'f': {'c': 1, 'd': 2, 'e': 4, 'f': [1, 2, 3, 4, 5]}}"
      ]
     },
     "execution_count": null,
     "metadata": {},
     "output_type": "execute_result"
    }
   ],
   "source": [
    "n = nict(**_test_dict)\n",
    "n"
   ]
  },
  {
   "cell_type": "markdown",
   "metadata": {},
   "source": [
    "If for some reason you want to convert it back to a plain dict:"
   ]
  },
  {
   "cell_type": "code",
   "execution_count": null,
   "metadata": {},
   "outputs": [
    {
     "data": {
      "text/plain": [
       "dict"
      ]
     },
     "execution_count": null,
     "metadata": {},
     "output_type": "execute_result"
    }
   ],
   "source": [
    "type(n._to_dict()) # This converts recursively"
   ]
  },
  {
   "cell_type": "markdown",
   "metadata": {},
   "source": [
    "And of course the whole point is to be able to access elements with dot notation."
   ]
  },
  {
   "cell_type": "code",
   "execution_count": null,
   "metadata": {},
   "outputs": [
    {
     "data": {
      "text/plain": [
       "1"
      ]
     },
     "execution_count": null,
     "metadata": {},
     "output_type": "execute_result"
    }
   ],
   "source": [
    "n.a"
   ]
  },
  {
   "cell_type": "code",
   "execution_count": null,
   "metadata": {},
   "outputs": [
    {
     "data": {
      "text/plain": [
       "4"
      ]
     },
     "execution_count": null,
     "metadata": {},
     "output_type": "execute_result"
    }
   ],
   "source": [
    "n.f.e"
   ]
  },
  {
   "cell_type": "code",
   "execution_count": null,
   "metadata": {},
   "outputs": [],
   "source": [
    "#| export\n",
    "import json\n",
    "from datetime import datetime"
   ]
  },
  {
   "cell_type": "code",
   "execution_count": null,
   "metadata": {},
   "outputs": [],
   "source": [
    "#| export\n",
    "class GenericEncoder(json.JSONEncoder):\n",
    "    def default(self, obj):\n",
    "        if isinstance(obj, datetime):\n",
    "            return obj.isoformat()\n",
    "        try:\n",
    "            return obj.__dict__\n",
    "        except AttributeError:\n",
    "            try:\n",
    "                return str(obj)\n",
    "            except:\n",
    "                return f\"<{type(obj).__name__}>\""
   ]
  },
  {
   "cell_type": "code",
   "execution_count": null,
   "metadata": {},
   "outputs": [],
   "source": [
    "#| export\n",
    "def safe_int(s, default=0):\n",
    "    try:\n",
    "        return int(s)\n",
    "    except ValueError:\n",
    "        return default"
   ]
  },
  {
   "cell_type": "code",
   "execution_count": null,
   "metadata": {},
   "outputs": [],
   "source": [
    "#| export\n",
    "import re"
   ]
  },
  {
   "cell_type": "code",
   "execution_count": null,
   "metadata": {},
   "outputs": [],
   "source": [
    "#| export\n",
    "def strip_traceback_junk(text):\n",
    "    \"\"\"Strips colors and other junk from a traceback\"\"\"\n",
    "\n",
    "    # This line just easts up tokens. We don't need it.\n",
    "    text = text.replace(\"---------------------------------------------------------------------------\", \"\")\n",
    "    ansi_escape = re.compile(r'\\x1B(?:[@-Z\\\\-_]|\\[[0-?]*[ -/]*[@-~])')\n",
    "    return ansi_escape.sub('', text)"
   ]
  },
  {
   "cell_type": "code",
   "execution_count": null,
   "metadata": {},
   "outputs": [
    {
     "data": {
      "text/plain": [
       "'Lorem ipsum'"
      ]
     },
     "execution_count": null,
     "metadata": {},
     "output_type": "execute_result"
    }
   ],
   "source": [
    "strip_traceback_junk(\"\\033[38mLorem ipsum\\033[0m\")"
   ]
  },
  {
   "cell_type": "code",
   "execution_count": null,
   "metadata": {},
   "outputs": [],
   "source": [
    "#| export\n",
    "\n",
    "from claudette import text_msg, img_msg\n",
    "import base64"
   ]
  },
  {
   "cell_type": "code",
   "execution_count": null,
   "metadata": {},
   "outputs": [],
   "source": [
    "#| export\n",
    "def parse_cell_line(line):\n",
    "    num_cells, is_friendlly, is_reply, is_config = 0, False, False, False\n",
    "    if line.lstrip('# \\t').rstrip().startswith(\"%%fr\"):\n",
    "        is_friendlly = True\n",
    "        args = line.split()\n",
    "        for arg in args[1:]:\n",
    "            if \"+\" in arg: num_cells = safe_int(arg[1:])\n",
    "            if arg == \"reply\": is_reply = True\n",
    "            if arg == \"config\" : is_config = True\n",
    "\n",
    "    return num_cells, is_friendlly, is_reply, is_config"
   ]
  },
  {
   "cell_type": "code",
   "execution_count": null,
   "metadata": {},
   "outputs": [],
   "source": [
    "#| export\n",
    "import cairosvg\n",
    "import xml.etree.ElementTree as ET"
   ]
  },
  {
   "cell_type": "code",
   "execution_count": null,
   "metadata": {},
   "outputs": [],
   "source": [
    "#| export\n",
    "def svg_to_png(svg_content, max_size):\n",
    "    root = ET.fromstring(svg_content)\n",
    "\n",
    "    def parse_dimension(value):\n",
    "        if value.endswith('%'):\n",
    "            return float(value[:-1]) / 100 * max_size\n",
    "        return float(re.findall(r'[\\d.]+', value)[0])\n",
    "\n",
    "    width = parse_dimension(root.attrib.get('width', str(max_size)))\n",
    "    height = parse_dimension(root.attrib.get('height', str(max_size)))\n",
    "\n",
    "    viewBox = root.attrib.get('viewBox')\n",
    "    if viewBox:\n",
    "        _, _, vb_width, vb_height = map(float, viewBox.split())\n",
    "        if width == max_size:\n",
    "            width = vb_width\n",
    "        if height == max_size:\n",
    "            height = vb_height\n",
    "\n",
    "    scale = min(max_size / width, max_size / height)\n",
    "    new_width = int(width * scale)\n",
    "    new_height = int(height * scale)\n",
    "\n",
    "    # Render PNG\n",
    "    png =  cairosvg.svg2png(bytestring=svg_content, output_width=new_width, output_height=new_height)\n",
    "    return png"
   ]
  },
  {
   "cell_type": "code",
   "execution_count": null,
   "metadata": {},
   "outputs": [],
   "source": []
  },
  {
   "cell_type": "code",
   "execution_count": null,
   "metadata": {},
   "outputs": [],
   "source": [
    "#| export\n",
    "\n",
    "\n",
    "def maybe_array_to_string(a: str|list[str]):\n",
    "    if isinstance(a, list):\n",
    "        return \"\\n\".join(a)\n",
    "    return a\n",
    "\n",
    "\n",
    "def display_data_to_blocks(dsp):\n",
    "    \"\"\"\n",
    "    Converts a display_data (a dict of mime types to data) to a list of claudette messages (text, image, with xml tags)\n",
    "    \"\"\"\n",
    "\n",
    "    # The dsp for an svg might look like this:\n",
    "    # {\n",
    "    #     \"text/plain\": \"<SVG object>\",\n",
    "    #     \"image/svg+xml\": \"<svg>....</svg>\",\n",
    "    #     \"image/png\": \"<base64 image>\", # or binary string\n",
    "    #     \"image/jpeg\": \"<base64 image>\", # or binary string\n",
    "    # }\n",
    "    # Or for markdown:\n",
    "    # {\n",
    "    #     \"text/plain\": \"Markdown text\",\n",
    "    #     \"text/markdown\": \"## Markdown text\",\n",
    "    # }\n",
    "\n",
    "    # Note, in the notebook, the text-like elements are saves as an array of strings, not a single string.\n",
    "\n",
    "\n",
    "    plain_text = maybe_array_to_string(dsp.get(\"text/plain\"))\n",
    "\n",
    "    # Map mime types to their xml tags\n",
    "    text_types = list(filter(lambda x:x[1], [\n",
    "        (\"text-html\",   maybe_array_to_string(dsp.get(\"text/html\"))),\n",
    "        (\"latex\",       maybe_array_to_string(dsp.get(\"text/latex\"))),\n",
    "        (\"markdown\",    maybe_array_to_string(dsp.get(\"text/markdown\"))),\n",
    "        (\"json\",        maybe_array_to_string(dsp.get(\"application/json\"))),\n",
    "        (\"js\",          maybe_array_to_string(dsp.get(\"application/javascript\")))\n",
    "    ]))\n",
    "    messages = [f\"<{t[0]}>{t[1]}</{t[0]}>\" for t in text_types]\n",
    "\n",
    "    images = list(filter(lambda x:x, [ dsp.get(\"image/png\"), dsp.get(\"image/jpeg\") ]))\n",
    "    # Svg is usually rendered by ipython as an image, but let's handle unrendered svg as well\n",
    "    svg = dsp.get(\"image/svg+xml\")\n",
    "    if svg: images.append(svg_to_png(svg, 256))\n",
    "\n",
    "    # Different text typed outputs come with plain text.\n",
    "    # We only include the plain text if no other text type is present.\n",
    "    if not len(messages):\n",
    "        messages = [plain_text]\n",
    "\n",
    "    claudette_blocks = [text_msg(m) for m in messages]\n",
    "    if images:\n",
    "        image = images[0] # Grab only one image, they are ordered as png, jpeg, rendered svg\n",
    "        # If the image is a base64 string, convert it to binary\n",
    "        if isinstance(image, str):\n",
    "            image = base64.b64decode(image)\n",
    "        claudette_blocks.append(img_msg(image))\n",
    "\n",
    "    return claudette_blocks\n",
    "\n",
    "\n",
    "def cell_to_blocks(cell):\n",
    "    \"Converts a cell and its outputs to a list of claudette messages (text, image, with xml tags)\"\n",
    "\n",
    "    assert \"source\" in cell\n",
    "    if cell.cell_type != \"code\":\n",
    "        assert not \"outputs\" in cell or not len(cell.outputs), \"Got a non-code cell with outputs??\"\n",
    "        return False, False, text_msg(cell.source), []\n",
    "\n",
    "    is_reply = False\n",
    "    is_friendlly = False\n",
    "    output_blks = []\n",
    "\n",
    "    lines = cell.source.strip().splitlines()\n",
    "    if lines:\n",
    "        _, is_friendlly, is_reply, _ = parse_cell_line(lines[0])\n",
    "\n",
    "        # Remove the cell magic\n",
    "        if is_friendlly:\n",
    "            lines = lines[1:]\n",
    "        code_text = \"\\n\".join(lines)\n",
    "\n",
    "        outputs = cell.get(\"outputs\", [])\n",
    "        for o in outputs:\n",
    "            if o.output_type == \"stream\":\n",
    "                output_blks.append(text_msg(f\"<{o.name}>{o.text}</{o.name}>\"))\n",
    "            if o.output_type in (\"display_data\", \"execute_result\"):\n",
    "                # We produce a lot of empty JS outputs when running the chat in nbclassic mode,\n",
    "                # and they don't get cleaned up in time. Ignore them.\n",
    "                if \"application/javascript\" not in o.data or o.data[\"application/javascript\"]:\n",
    "                    output_blks += display_data_to_blocks(o.data)\n",
    "            if o.output_type == \"error\":\n",
    "                output_blks.append(text_msg(\"<error>\" + strip_traceback_junk(\"\\n\".join(o.traceback)) + \"</error>\"))\n",
    "\n",
    "        return is_friendlly, is_reply, code_text, output_blks\n",
    "    return False, False, None, []"
   ]
  },
  {
   "cell_type": "code",
   "execution_count": null,
   "metadata": {},
   "outputs": [],
   "source": [
    "#| export\n",
    "from IPython import get_ipython"
   ]
  },
  {
   "cell_type": "code",
   "execution_count": null,
   "metadata": {},
   "outputs": [],
   "source": [
    "#| export\n",
    "def make_cell_from_captured(source:str, res, stdout:str, stderr:str, displays, tracebacks):\n",
    "    ip = get_ipython()\n",
    "    cell = nict()\n",
    "    cell.metadata  = {}\n",
    "    cell.cell_type = \"code\"\n",
    "    cell.source    = source\n",
    "    cell.outputs   = []\n",
    "    if stdout: cell.outputs.append(nict(output_type=\"stream\", name=\"stdout\", text=stdout))\n",
    "    if stderr: cell.outputs.append(nict(output_type=\"stream\", name=\"stderr\", text=stderr))\n",
    "    for d in displays:\n",
    "        cell.outputs.append(nict(output_type=\"display_data\", data=d))\n",
    "    if res.result:\n",
    "        formatted, _ = ip.display_formatter.format(res.result)\n",
    "        cell.outputs.append(nict(output_type=\"execute_result\", data=formatted))\n",
    "    for t in tracebacks:\n",
    "        cell.outputs.append(nict(t, output_type=\"error\"))\n",
    "\n",
    "    return cell"
   ]
  },
  {
   "cell_type": "code",
   "execution_count": null,
   "metadata": {},
   "outputs": [],
   "source": [
    "#| export\n",
    "from typing import List\n",
    "import claudette"
   ]
  },
  {
   "cell_type": "code",
   "execution_count": null,
   "metadata": {},
   "outputs": [],
   "source": [
    "#| export\n",
    "\n",
    "def merge_messages(msgs: List[nict]):\n",
    "    \"\"\"\n",
    "    Takes a list of messages and merges them together, coalescing first by role,\n",
    "    and then also coalescing text blocks together.\n",
    "    \"\"\"\n",
    "\n",
    "    # first, merge by role\n",
    "    role_messages = []\n",
    "    prev_role = None\n",
    "\n",
    "    for m in msgs:\n",
    "        if prev_role == m.role: role_messages[-1].content += m.content\n",
    "        else:                   role_messages.append(m)\n",
    "        prev_role = m.role\n",
    "\n",
    "    # Then, for assistant, also coalesce messages together\n",
    "    for m in role_messages:\n",
    "        merged_content = []\n",
    "        for c in m.content:\n",
    "            if c.type == \"text\" and merged_content and merged_content[-1].type == \"text\":\n",
    "                merged_content[-1].text += (\"\\n\" + c.text)\n",
    "            else: merged_content.append(c)\n",
    "        m.content = merged_content\n",
    "    return role_messages\n"
   ]
  }
 ],
 "metadata": {
  "kernelspec": {
   "display_name": "python3",
   "language": "python",
   "name": "python3"
  }
 },
 "nbformat": 4,
 "nbformat_minor": 2
}
