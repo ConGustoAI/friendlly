{
 "cells": [
  {
   "cell_type": "code",
   "execution_count": null,
   "metadata": {},
   "outputs": [],
   "source": [
    "#| default_exp utils.misc"
   ]
  },
  {
   "cell_type": "code",
   "execution_count": null,
   "metadata": {},
   "outputs": [],
   "source": [
    "#| export\n",
    "import pprint"
   ]
  },
  {
   "cell_type": "code",
   "execution_count": null,
   "metadata": {},
   "outputs": [],
   "source": [
    "# |export\n",
    "class nict(dict):\n",
    "    def __init__(self, d=dict(), /, **kwargs):\n",
    "        if d is None: d = {}\n",
    "        else:\n",
    "            assert isinstance(d, dict), f'expected dict, got {type(d)}'\n",
    "            d = d.copy()\n",
    "\n",
    "        d.update(kwargs)\n",
    "        for k,v  in d.items():\n",
    "            if isinstance(v, dict):\n",
    "                d[k] = nict(**v)\n",
    "            elif isinstance(v, list):\n",
    "                d[k] = [nict(**item) if isinstance(item, dict) else item for item in v]\n",
    "            elif isinstance(v, tuple):\n",
    "                d[k] = tuple(nict(**item) if isinstance(item, dict) else item for item in v)\n",
    "            else:\n",
    "                d[k] = v\n",
    "\n",
    "        super().__init__(**d)\n",
    "\n",
    "    def __getattr__(self, key):\n",
    "        return self[key] if key in self else super().__getattribute__(key)\n",
    "\n",
    "    def __setattr__(self, key, value):\n",
    "        self[key] = value\n",
    "\n",
    "    def __delattr__(self, key):\n",
    "        del self[key]\n",
    "\n",
    "    def __dir__(self):\n",
    "        return list(self.keys()) + dir(super())\n",
    "\n",
    "    def _to_dict(self):\n",
    "        return {k: v._to_dict() if isinstance(v, nict) else v for k, v in self.items()}\n",
    "\n",
    "    def _repr_markdown_(self):\n",
    "        return f'```json\\n{pprint.pformat(self._to_dict(), indent=2)}\\n```'\n"
   ]
  },
  {
   "cell_type": "code",
   "execution_count": null,
   "metadata": {},
   "outputs": [],
   "source": [
    "_test_dict = {'a':1, 'b': {'c':1, 'd':2}, 'c': {'c':1, 'd':2}, 'd': {'c':1, 'd':2},\n",
    "              'e': {'c':1, 'd':2}, 'f': {'c':1, 'd':2, 'e': 4, 'f':[1,2,3,4,5]}}"
   ]
  },
  {
   "cell_type": "markdown",
   "metadata": {},
   "source": [
    "It can take a dictionary, and optionally the keys you want to override."
   ]
  },
  {
   "cell_type": "code",
   "execution_count": null,
   "metadata": {},
   "outputs": [
    {
     "data": {
      "text/markdown": [
       "```json\n",
       "{ 'a': 2,\n",
       "  'b': {'c': 2, 'd': 3},\n",
       "  'c': {'c': 1, 'd': 2},\n",
       "  'd': {'c': 1, 'd': 2},\n",
       "  'e': {'c': 1, 'd': 2},\n",
       "  'f': {'c': 1, 'd': 2, 'e': 4, 'f': [1, 2, 3, 4, 5]}}\n",
       "```"
      ],
      "text/plain": [
       "{'a': 2,\n",
       " 'b': {'c': 2, 'd': 3},\n",
       " 'c': {'c': 1, 'd': 2},\n",
       " 'd': {'c': 1, 'd': 2},\n",
       " 'e': {'c': 1, 'd': 2},\n",
       " 'f': {'c': 1, 'd': 2, 'e': 4, 'f': [1, 2, 3, 4, 5]}}"
      ]
     },
     "execution_count": null,
     "metadata": {},
     "output_type": "execute_result"
    }
   ],
   "source": [
    "n = nict(_test_dict, a=2, b={'c':2, 'd':3})\n",
    "n"
   ]
  },
  {
   "cell_type": "markdown",
   "metadata": {},
   "source": [
    "Or you can expand a dictionary into it"
   ]
  },
  {
   "cell_type": "code",
   "execution_count": null,
   "metadata": {},
   "outputs": [
    {
     "data": {
      "text/markdown": [
       "```json\n",
       "{ 'a': 1,\n",
       "  'b': {'c': 1, 'd': 2},\n",
       "  'c': {'c': 1, 'd': 2},\n",
       "  'd': {'c': 1, 'd': 2},\n",
       "  'e': {'c': 1, 'd': 2},\n",
       "  'f': {'c': 1, 'd': 2, 'e': 4, 'f': [1, 2, 3, 4, 5]}}\n",
       "```"
      ],
      "text/plain": [
       "{'a': 1,\n",
       " 'b': {'c': 1, 'd': 2},\n",
       " 'c': {'c': 1, 'd': 2},\n",
       " 'd': {'c': 1, 'd': 2},\n",
       " 'e': {'c': 1, 'd': 2},\n",
       " 'f': {'c': 1, 'd': 2, 'e': 4, 'f': [1, 2, 3, 4, 5]}}"
      ]
     },
     "execution_count": null,
     "metadata": {},
     "output_type": "execute_result"
    }
   ],
   "source": [
    "n = nict(**_test_dict)\n",
    "n"
   ]
  },
  {
   "cell_type": "markdown",
   "metadata": {},
   "source": [
    "If for some reason you want to convert it back to a plain dict:"
   ]
  },
  {
   "cell_type": "code",
   "execution_count": null,
   "metadata": {},
   "outputs": [
    {
     "data": {
      "text/plain": [
       "dict"
      ]
     },
     "execution_count": null,
     "metadata": {},
     "output_type": "execute_result"
    }
   ],
   "source": [
    "type(n._to_dict()) # This converts recursively"
   ]
  },
  {
   "cell_type": "markdown",
   "metadata": {},
   "source": [
    "And of course the whole point is to be able to access elements with dot notation."
   ]
  },
  {
   "cell_type": "code",
   "execution_count": null,
   "metadata": {},
   "outputs": [
    {
     "data": {
      "text/plain": [
       "1"
      ]
     },
     "execution_count": null,
     "metadata": {},
     "output_type": "execute_result"
    }
   ],
   "source": [
    "n.a"
   ]
  },
  {
   "cell_type": "code",
   "execution_count": null,
   "metadata": {},
   "outputs": [
    {
     "data": {
      "text/plain": [
       "4"
      ]
     },
     "execution_count": null,
     "metadata": {},
     "output_type": "execute_result"
    }
   ],
   "source": [
    "n.f.e"
   ]
  }
 ],
 "metadata": {
  "kernelspec": {
   "display_name": "python3",
   "language": "python",
   "name": "python3"
  }
 },
 "nbformat": 4,
 "nbformat_minor": 2
}
