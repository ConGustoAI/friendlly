{
 "cells": [
  {
   "cell_type": "markdown",
   "metadata": {},
   "source": [
    "## Workign in cells in nbclassic (Jupyter 6)"
   ]
  },
  {
   "cell_type": "code",
   "execution_count": null,
   "metadata": {},
   "outputs": [],
   "source": [
    "#| default_exp notebook"
   ]
  },
  {
   "cell_type": "code",
   "execution_count": null,
   "metadata": {},
   "outputs": [
    {
     "data": {
      "application/javascript": "",
      "text/plain": [
       "<IPython.core.display.Javascript object>"
      ]
     },
     "metadata": {},
     "output_type": "display_data"
    }
   ],
   "source": [
    "#| export\n",
    "from IPython import get_ipython\n",
    "from IPython.display import display, clear_output, Markdown, Javascript\n",
    "import json\n",
    "import os\n",
    "import time\n",
    "import psutil\n",
    "from urllib.parse import urlparse\n",
    "import warnings\n",
    "from friendlly.utils import nict"
   ]
  },
  {
   "cell_type": "markdown",
   "metadata": {},
   "source": [
    "## Front-end independent functions"
   ]
  },
  {
   "cell_type": "code",
   "execution_count": null,
   "metadata": {},
   "outputs": [],
   "source": [
    "#| export\n",
    "def update_code_self(source:str):\n",
    "    \"\"\"\n",
    "    Updates the current cell with the contents of the cell passed as argument.\n",
    "\n",
    "    The update will take place after the cell has finished executing.\n",
    "    Works with all front-ennds.\n",
    "    \"\"\"\n",
    "\n",
    "    payload = dict(\n",
    "        source=\"set_next_input\",\n",
    "        text=source,\n",
    "        replace=True,\n",
    "        clear_output=False\n",
    "    )\n",
    "    # We have to call payload_manager directly because ip.set_next_input does not have a clear_output parameter\n",
    "    get_ipython().payload_manager.write_payload(payload, single=False)\n"
   ]
  },
  {
   "cell_type": "code",
   "execution_count": null,
   "metadata": {},
   "outputs": [],
   "source": [
    "#| export\n",
    "def update_code_next(source:str):\n",
    "    \"\"\"\n",
    "    Updates the next cell with the code passed as argument.\n",
    "\n",
    "    The update will take place after the cell has finished executing.\n",
    "    Works with all front-ennds.\n",
    "    \"\"\"\n",
    "    payload = dict(\n",
    "        source=\"set_next_input\",\n",
    "        text=source,\n",
    "        replace=False,\n",
    "        clear_output=False\n",
    "    )\n",
    "    # We have to call payload_manager directly because ip.set_next_input does not have a clear_output parameter\n",
    "    get_ipython().payload_manager.write_payload(payload, single=False)"
   ]
  },
  {
   "cell_type": "code",
   "execution_count": null,
   "metadata": {},
   "outputs": [],
   "source": [
    "#| export\n",
    "def detect_environment():\n",
    "    \"\"\"\n",
    "    Detects if we are running in vscode, Jupyter nbclassic, or Jupyter notebook 7 / Jupyter lab.\n",
    "    \"\"\"\n",
    "\n",
    "    parent_cmdline = psutil.Process(os.getppid()).cmdline()\n",
    "\n",
    "    for l in parent_cmdline:\n",
    "        # Vscode might have a different name (e,g, cursor), but it should have \"vscode\" somewhere in the command line.\n",
    "        if \"vscode\" in l.lower():\n",
    "            return \"vscode\"\n",
    "\n",
    "        # jupyter-nbclassic is the modern name of the \"old\" Jupyter notebook, as it was in Jupyter 6.\n",
    "        if \"jupyter-nbclassic\" in l:\n",
    "            return \"nbclassic\"\n",
    "\n",
    "        # jupyter-notebook is probably Jupyter notebook 7, which is a re-skin of Jupyter lab\n",
    "        if \"jupyter-lab\" in l or \"jupyter-notebook\" in l:\n",
    "            return \"jupyterlab\"\n",
    "\n",
    "    warnings.warn(\"Could not detect environment. Functionality might be limited.\")\n",
    "    return \"unknown\""
   ]
  },
  {
   "cell_type": "code",
   "execution_count": null,
   "metadata": {},
   "outputs": [],
   "source": [
    "#| exporti\n",
    "def inject_js(js:str):\n",
    "    \"\"\"Inject javascript into the notebook\n",
    "\n",
    "    Args:\n",
    "        js (str): The javascript code to be injected.\n",
    "\n",
    "    After the injection, it will be overwrittent with an empty string to avoid running it again on notebook load.\n",
    "    \"\"\"\n",
    "\n",
    "    display_handle = display(Javascript(js), display_id=True)\n",
    "    display_handle.update(Javascript(\"\"))"
   ]
  },
  {
   "cell_type": "markdown",
   "metadata": {},
   "source": [
    "## VSCode"
   ]
  },
  {
   "cell_type": "code",
   "execution_count": null,
   "metadata": {},
   "outputs": [],
   "source": [
    "#| export\n",
    "\n",
    "def vscode_extract_path():\n",
    "    \"\"\"\n",
    "    Extracts the filename from the parent_header of the current notebook.\n",
    "    \"\"\"\n",
    "    cellid = get_ipython().parent_header.get(\"metadata\", {}).get(\"cellId\", '')\n",
    "    url = urlparse(cellid)\n",
    "    return url.path\n",
    "\n",
    "def vscode_get_cells(num_cells):\n",
    "    path = vscode_extract_path()\n",
    "\n",
    "    def get_last_modified(path):\n",
    "        try: return os.path.getmtime(path)\n",
    "        except BaseException as e:\n",
    "            warnings.warn(f\"{e}: Could not get mtime for {path}\")\n",
    "            return 0\n",
    "\n",
    "    if path:\n",
    "        exec_cnt = get_ipython().execution_count\n",
    "        ts = time.time()\n",
    "\n",
    "        display(Javascript(\"\")) # Empty js to kick off autosave.\n",
    "        last_modified = get_last_modified(path)\n",
    "\n",
    "        # Wait for the file to be saved.\n",
    "        for i in range(50):\n",
    "            last_modified = get_last_modified(path)\n",
    "            if last_modified > ts:\n",
    "                break\n",
    "            time.sleep(0.1)\n",
    "        else:\n",
    "            warnings.warn(\"Make sure autosave is set to afterDelay in vscode settings, and the delay is less than a second!\")\n",
    "\n",
    "        for i in range(50):\n",
    "            try: # In case the file is being written to and is not parseable.\n",
    "                with open(path) as f:\n",
    "                    data = json.load(f)\n",
    "                    cells = data.get(\"cells\", [])\n",
    "                    for idx, cell in enumerate(cells):\n",
    "                        if cell.get(\"execution_count\") == exec_cnt:\n",
    "                            cells = [ nict(c) for c in cells[(max(0, idx-num_cells)):idx] ]\n",
    "                            # source is saved as an array of strings in ipynb.\n",
    "                            for c in cells: c.source = \"\\n\".join(c.source)\n",
    "                            return idx, cells\n",
    "            except: pass\n",
    "            time.sleep(0.1)\n",
    "\n",
    "        warnings.warn(f\"Could not find the cell data in {path} . The assistant won't be able to see previous cells.\")\n",
    "    else:\n",
    "        warnings.warn(\"VSCode did not send a cellId in the parent_header. The assistant won't be able to see previous cells.\")\n",
    "\n",
    "    return None, []"
   ]
  },
  {
   "cell_type": "code",
   "execution_count": null,
   "metadata": {},
   "outputs": [
    {
     "name": "stdout",
     "output_type": "stream",
     "text": [
      "Hello\n"
     ]
    }
   ],
   "source": [
    "print(\"Hello\")"
   ]
  },
  {
   "cell_type": "code",
   "execution_count": null,
   "metadata": {},
   "outputs": [],
   "source": [
    "if detect_environment() == \"vscode\":\n",
    "    path =vscode_extract_path()\n",
    "    idx, cells = vscode_get_cells(1)\n",
    "    clear_output()\n",
    "    print(\"NB file: \", path)\n",
    "    print(\"Current cell index: \", idx)\n",
    "    print(\"Previous cell: \", cells)"
   ]
  },
  {
   "cell_type": "markdown",
   "metadata": {},
   "source": [
    "## Nbclassic"
   ]
  },
  {
   "cell_type": "code",
   "execution_count": null,
   "metadata": {},
   "outputs": [],
   "source": [
    "#| export\n",
    "\n",
    "def nbclassic_patch_kernel():\n",
    "    \"\"\"\n",
    "    Overrides Codecell.execute to add cell_index cell_id,\n",
    "    and possibly cells_above to the extras passed to the kernel.\n",
    "\n",
    "    The execute() is based on the one in Jupyter nbclassic with the features added.\n",
    "    \"\"\"\n",
    "\n",
    "    payload = \"\"\"\n",
    "        console.log(\"patching nbclassic execute function...\")\n",
    "        Jupyter.CodeCell.prototype.execute = function (stop_on_error) {\n",
    "            if (!this.kernel) {\n",
    "                console.log(i18n.msg._(\"Can't execute cell since kernel is not set.\"));\n",
    "                return;\n",
    "            }\n",
    "\n",
    "            if (stop_on_error === undefined) {\n",
    "                if (this.metadata !== undefined &&\n",
    "                        this.metadata.tags !== undefined) {\n",
    "                    if (this.metadata.tags.indexOf('raises-exception') !== -1) {\n",
    "                        stop_on_error = false;\n",
    "                    } else {\n",
    "                        stop_on_error = true;\n",
    "                    }\n",
    "                } else {\n",
    "                stop_on_error = true;\n",
    "                }\n",
    "            }\n",
    "\n",
    "            this.clear_output(false, true);\n",
    "            var old_msg_id = this.last_msg_id;\n",
    "            if (old_msg_id) {\n",
    "                this.kernel.clear_callbacks_for_msg(old_msg_id);\n",
    "                delete Jupyter.CodeCell.msg_cells[old_msg_id];\n",
    "                this.last_msg_id = null;\n",
    "            }\n",
    "            if (this.get_text().trim().length === 0) {\n",
    "                // nothing to do\n",
    "                this.set_input_prompt(null);\n",
    "                return;\n",
    "            }\n",
    "            this.set_input_prompt('*');\n",
    "            this.element.addClass(\"running\");\n",
    "            var callbacks = this.get_callbacks();\n",
    "\n",
    "\n",
    "            const cell_index = Jupyter.notebook.find_cell_index(this)\n",
    "\n",
    "            let extras = {\n",
    "                cell_index : cell_index,\n",
    "                cell_id: this.id\n",
    "            }\n",
    "            let text = this.get_text().trim()\n",
    "            let firstLine = text.split('\\\\n')[0];\n",
    "\n",
    "            // Parse the magic command\n",
    "            if (firstLine.startsWith(\"%%fr\")) {\n",
    "                // Separate args by spaces or tabs\n",
    "                let parts = firstLine.split(/\\\\s+|\\\\t+/);\n",
    "                let magic = parts[0];\n",
    "                if (parts.length > 1) {\n",
    "                    let magic_args = parts.slice(1);\n",
    "                    let plusNArg = magic_args.find(arg => arg.startsWith('+') && !isNaN(parseInt(arg.slice(1))));\n",
    "                    if (plusNArg) {\n",
    "                        let n = parseInt(plusNArg.slice(1));\n",
    "                        let start_pos = Math.max(0, cell_index - n);\n",
    "                        cells = Jupyter.notebook.get_cells().slice(start_pos, cell_index);\n",
    "\n",
    "                        extras = {\n",
    "                            cells_above: cells,\n",
    "                            ...extras\n",
    "                        }\n",
    "                    }\n",
    "                }\n",
    "            }\n",
    "\n",
    "            this.last_msg_id = this.kernel.execute(\n",
    "                this.get_text(),\n",
    "                callbacks,\n",
    "                {silent: false, store_history: true, stop_on_error : stop_on_error, ...extras });\n",
    "            Jupyter.CodeCell.msg_cells[this.last_msg_id] = this;\n",
    "            this.render();\n",
    "            this.events.trigger('execute.CodeCell', {cell: this});\n",
    "            var that = this;\n",
    "            function handleFinished(evt, data) {\n",
    "                if (that.kernel.id === data.kernel.id && that.last_msg_id === data.msg_id) {\n",
    "                        that.events.trigger('finished_execute.CodeCell', {cell: that});\n",
    "                    that.events.off('finished_iopub.Kernel', handleFinished);\n",
    "                }\n",
    "            }\n",
    "            this.events.on('finished_iopub.Kernel', handleFinished);\n",
    "        };\n",
    "        Jupyter.notebook.events.trigger('set_dirty.Notebook', {value: true});\n",
    "        Jupyter.notebook._fully_patched = true;\n",
    "        console.log(\"Done.\")\n",
    "    \"\"\"\n",
    "    inject_js(payload)"
   ]
  },
  {
   "cell_type": "code",
   "execution_count": null,
   "metadata": {},
   "outputs": [],
   "source": [
    "#| export\n",
    "def nbclassic_add_cell(\n",
    "        idx:int = None,         # Index of the cell to add. If none, add the cell under the selected one.\n",
    "        cell_type:str = \"code\"  # Type of cell to add. Can be \"code\", \"markdown\", \"raw\"\n",
    "    ):\n",
    "    \"\"\"\n",
    "    Add a new notebook cell to an nbclassic notebook.\n",
    "    Uses nbclassic-specific JS injection.\n",
    "    \"\"\"\n",
    "    if not idx:\n",
    "        index_payload = \"let index = Jupyter.notebook.get_selected_index()+1;\"\n",
    "    else:\n",
    "        index_payload = f\"let index = {idx}\"\n",
    "\n",
    "    payload = f\"\"\"\n",
    "        {index_payload}\n",
    "\n",
    "        Jupyter.notebook.insert_cell_at_index(\"{cell_type}\", index)\n",
    "        let cell = Jupyter.notebook.get_cell(index);\n",
    "        cell.events.trigger('set_dirty.Notebook', {{value: true}});\n",
    "    \"\"\"\n",
    "\n",
    "    inject_js(payload)"
   ]
  },
  {
   "cell_type": "code",
   "execution_count": null,
   "metadata": {},
   "outputs": [],
   "source": [
    "#| export\n",
    "def nbclassic_update_cell(\n",
    "    idx:int, # Index of the cell to update. None to update the current cell\n",
    "    text:str, # Text to set in the cell\n",
    "    flush:bool = True # Notify Jupyter that the cell has been updated.\n",
    "    ):\n",
    "    \"\"\"\n",
    "    Update the text of a cell in an nbclassic notebook.\n",
    "    Uses nbclassic-specific JS injection.\n",
    "    \"\"\"\n",
    "\n",
    "    def escape_for_js(text):\n",
    "        # Use json.dumps to escape the string for JavaScript\n",
    "        escaped = json.dumps(text)\n",
    "        # Remove the surrounding quotes added by json.dumps\n",
    "        escaped = escaped[1:-1]\n",
    "        # Escape backticks and ${} sequences\n",
    "        return escaped.replace('`', '\\\\`').replace('${', '\\\\${')\n",
    "\n",
    "    payload = f\"\"\"\n",
    "        let cell = Jupyter.notebook.get_cell({idx})\n",
    "        cell.set_text(`{escape_for_js(text)}`)\n",
    "    \"\"\"\n",
    "    if flush:\n",
    "         payload = payload + \"\\nJupyter.notebook.events.trigger('set_dirty.Notebook', {value: true});\"\n",
    "    inject_js(payload)"
   ]
  },
  {
   "cell_type": "code",
   "execution_count": null,
   "metadata": {},
   "outputs": [],
   "source": [
    "#| export\n",
    "def nbclassic_execute_cell(\n",
    "        idx:int # Index of the cell to execute. They start at 0\n",
    "    ):\n",
    "    \"\"\"\n",
    "    Execute a cell in an nbclassic notebook.\n",
    "    Uses nbclassic-specific JS injection.\n",
    "    \"\"\"\n",
    "\n",
    "    payload = f\"\"\"\n",
    "        console.log(\"execute_cell\", {idx});\n",
    "        Jupyter.notebook.events.trigger('set_dirty.Notebook', {{value: true}});\n",
    "        let cell = Jupyter.notebook.get_cell({idx})\n",
    "        cell.execute()\n",
    "    \"\"\"\n",
    "    # tt = display(f\"About to run the cell {idx}...\", display_id=True)\n",
    "    inject_js(payload)"
   ]
  },
  {
   "cell_type": "code",
   "execution_count": null,
   "metadata": {},
   "outputs": [],
   "source": [
    "#| export\n",
    "def nbclassic_render_cell(idx:int): # Cell to render.\n",
    "    \"\"\"\n",
    "    Re-render a cell in an nbclassic notebook.\n",
    "    Uses nbclassic-specific JS injection.\n",
    "    \"\"\"\n",
    "\n",
    "    payload = f\"\"\"\n",
    "        let cell = Jupyter.notebook.get_cell({idx})\n",
    "        cell.unrender()\n",
    "        Jupyter.notebook.events.trigger('set_dirty.Notebook', {{value: true}});\n",
    "\n",
    "        cell.render()\n",
    "    \"\"\"\n",
    "\n",
    "    inject_js(payload)"
   ]
  },
  {
   "cell_type": "code",
   "execution_count": null,
   "metadata": {},
   "outputs": [],
   "source": [
    "#| export\n",
    "def nbclassic_delete_cell(idx:int): # Cell to delete.\n",
    "    \"\"\"\n",
    "    Delete a cell in an nbclassic notebook.\n",
    "    Uses nbclassic-specific JS injection.\n",
    "    \"\"\"\n",
    "\n",
    "    payload = f\"\"\"\n",
    "        console.log(\"deleting cell\", {idx});\n",
    "        Jupyter.notebook.delete_cell({idx});\n",
    "        Jupyter.notebook.events.trigger('set_dirty.Notebook', {{value: true}});\n",
    "    \"\"\"\n",
    "\n",
    "    inject_js(payload)"
   ]
  },
  {
   "cell_type": "code",
   "execution_count": null,
   "metadata": {},
   "outputs": [],
   "source": [
    "#| export\n",
    "def nbclassic_get_cells(num_cells:int):\n",
    "    \"\"\"\n",
    "    Get the cells in an nbclassic notebook.\n",
    "    The notebook should have been patched with nbclassic_patch_kernel.\n",
    "    \"\"\"\n",
    "\n",
    "    header = nict(get_ipython().parent_header)\n",
    "\n",
    "    cell_index = header.get(\"content\", {}).get(\"cell_index\", None)\n",
    "    if cell_index is None:\n",
    "        warnings.warn(\"Jupyter did not send the cell index. Has it been patched with nbclassic_patch_kernel?\")\n",
    "\n",
    "    expected_num_cells = min(cell_index, num_cells)\n",
    "    cells = header.get(\"content\", {}).get(\"cells_above\", [])\n",
    "    if len(cells) < expected_num_cells:\n",
    "        warnings.warn(f\"Expected {expected_num_cells} cells, but got {len(cells)}\")\n",
    "\n",
    "    return cell_index, cells"
   ]
  },
  {
   "cell_type": "code",
   "execution_count": null,
   "metadata": {},
   "outputs": [
    {
     "data": {
      "application/javascript": "",
      "text/plain": [
       "<IPython.core.display.Javascript object>"
      ]
     },
     "metadata": {},
     "output_type": "display_data"
    }
   ],
   "source": [
    "# Patch should occur in a separate cell.\n",
    "# It should not be run with \"run all cells\", as the cell data is sent immediatelly,\n",
    "# before the kernel is patched.\n",
    "if detect_environment() == \"nbclassic\":\n",
    "    nbclassic_patch_kernel()\n",
    "    def fr(line, cell):\n",
    "        get_ipython().run_cell(cell)\n",
    "    get_ipython().register_magic_function(fr, 'cell', magic_name='fr')"
   ]
  },
  {
   "cell_type": "code",
   "execution_count": null,
   "metadata": {},
   "outputs": [
    {
     "name": "stdout",
     "output_type": "stream",
     "text": [
      "Hello\n"
     ]
    }
   ],
   "source": [
    "print(\"Hello\")"
   ]
  },
  {
   "cell_type": "code",
   "execution_count": null,
   "metadata": {},
   "outputs": [
    {
     "name": "stdout",
     "output_type": "stream",
     "text": [
      "Current cell index:  22\n",
      "Above cell: {'metadata': {'trusted': True}, 'cell_type': 'code', 'source': 'print(\"Hello\")', 'execution_count': 18, 'outputs': [{'output_type': 'stream', 'text': 'Hello\\n', 'name': 'stdout'}]}\n"
     ]
    }
   ],
   "source": [
    "%%fr +1\n",
    "if detect_environment() == \"nbclassic\":\n",
    "    idx, cells = nbclassic_get_cells(1)\n",
    "    print(\"Current cell index: \", idx)\n",
    "    print(\"Above cell:\", cells[0])"
   ]
  }
 ],
 "metadata": {
  "kernelspec": {
   "display_name": "python3",
   "language": "python",
   "name": "python3"
  }
 },
 "nbformat": 4,
 "nbformat_minor": 2
}
