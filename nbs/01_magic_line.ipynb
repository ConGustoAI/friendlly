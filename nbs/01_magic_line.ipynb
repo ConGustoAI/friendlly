{
 "cells": [
  {
   "cell_type": "markdown",
   "metadata": {},
   "source": [
    "## Core"
   ]
  },
  {
   "cell_type": "code",
   "execution_count": null,
   "metadata": {},
   "outputs": [],
   "source": [
    "#| default_exp magic_line"
   ]
  },
  {
   "cell_type": "code",
   "execution_count": null,
   "metadata": {},
   "outputs": [],
   "source": [
    "#| hide\n",
    "%load_ext autoreload\n",
    "%autoreload 2"
   ]
  },
  {
   "cell_type": "code",
   "execution_count": null,
   "metadata": {},
   "outputs": [],
   "source": [
    "#| hide\n",
    "from dotenv import load_dotenv\n",
    "import os"
   ]
  },
  {
   "cell_type": "code",
   "execution_count": null,
   "metadata": {},
   "outputs": [],
   "source": [
    "#| hide\n",
    "load_dotenv();"
   ]
  },
  {
   "cell_type": "code",
   "execution_count": null,
   "metadata": {},
   "outputs": [],
   "source": [
    "#| export\n",
    "import json\n",
    "from typing import List, Dict, Tuple\n",
    "import textwrap\n",
    "import claudette\n",
    "from IPython import get_ipython\n",
    "from IPython.display import display, clear_output, Markdown, Javascript\n",
    "from friendlly.utils import ExecCBs"
   ]
  },
  {
   "cell_type": "code",
   "execution_count": null,
   "metadata": {},
   "outputs": [],
   "source": [
    "#| export\n",
    "\n",
    "# A single cell can contain multiple messages.\n",
    "# A message is either a user message (starts with %fr) or a bot message (starts with #).\n",
    "# Both can be multiline.\n",
    "def parse_cell(\n",
    "    cell: str # The raw body of the cell\n",
    ") -> Tuple[List[Dict[str, str]], int]:\n",
    "    \"\"\"\n",
    "    A single cell can contain multiple messages.\n",
    "    A message is either a user message (starts with %fr) or a bot message (starts with #).\n",
    "    Both can be multiline.\n",
    "\n",
    "    Returns: a list of messages (with 'role' and 'content') and the number of %fr magics in the cell\n",
    "    \"\"\"\n",
    "    parsed_lines = []\n",
    "    num_magic = 0\n",
    "    for line in cell.split('\\n'):\n",
    "        if line.startswith('%fr'):\n",
    "            message = {'role': 'user', 'content': line[3:].strip()}\n",
    "            num_magic += 1\n",
    "        elif line.strip().startswith('#'):\n",
    "            message = {'role': 'assistant', 'content': line[1:].strip()}\n",
    "        else: continue\n",
    "\n",
    "        if not parsed_lines or parsed_lines[-1]['role'] != message['role']:\n",
    "            parsed_lines.append(message)\n",
    "        else:\n",
    "            parsed_lines[-1]['content'] += (\"\\n\" + message['content'])\n",
    "\n",
    "    return parsed_lines, num_magic"
   ]
  },
  {
   "cell_type": "code",
   "execution_count": null,
   "metadata": {},
   "outputs": [],
   "source": [
    "#| exporti\n",
    "#| hide\n",
    "\n",
    "models = [\n",
    "    'claude-3-opus-20240229',\n",
    "    'claude-3-5-sonnet-20240620',\n",
    "    'claude-3-haiku-20240307',\n",
    "]\n",
    "chat_client = claudette.Client(model=models[1])\n",
    "\n",
    "magic_count = 0\n",
    "messages = []"
   ]
  },
  {
   "cell_type": "code",
   "execution_count": null,
   "metadata": {},
   "outputs": [],
   "source": [
    "#| export\n",
    "def fr_line(line: str):\n",
    "    \"\"\"The magic function for the %fr magic command.\"\"\"\n",
    "    global magic_count, messages\n",
    "    ip = get_ipython()\n",
    "    # raw_cell = ip.history_manager.input_hist_raw[-1]\n",
    "    raw_cell = ip.get_parent()[\"content\"][\"code\"]\n",
    "\n",
    "    # The cell might have multiple %lm magics, but we only want to process the last one.\n",
    "    # Presumably, the previous ones would have been processed already.\n",
    "    if magic_count <= 0:\n",
    "        messages, magic_count = parse_cell(raw_cell)\n",
    "\n",
    "    # This is the last %lm magic invocation of the cell.\n",
    "    # But we ignore cells that don't have a user message as the last message.\n",
    "    if magic_count == 1 and len(messages) > 0 and messages[-1]['role'] == 'user' and messages[-1]['content'].strip():\n",
    "        reply = \"\"\n",
    "        display_id = display(Markdown(\"🚀...\"), display_id=True)\n",
    "        try:\n",
    "            r = chat_client([m['content'] for m in messages], stream=True)\n",
    "            for token in r:\n",
    "                reply += token\n",
    "                display_id.update(Markdown(reply))\n",
    "\n",
    "            if reply:\n",
    "                reply = textwrap.fill(text=reply, width=100, initial_indent=\"# \", subsequent_indent=\"# \")\n",
    "                raw_cell += f\"\\n{reply}\\n\\n%fr \"\n",
    "                ip.set_next_input(raw_cell, replace=True)\n",
    "\n",
    "            clear_output()\n",
    "\n",
    "        except BaseException as e:\n",
    "            display_id.update(Markdown(f\"🚫 {repr(e)}\"))\n",
    "\n",
    "\n",
    "    magic_count -= 1"
   ]
  },
  {
   "cell_type": "markdown",
   "metadata": {},
   "source": [
    "## Friend**LL**y"
   ]
  },
  {
   "cell_type": "code",
   "execution_count": null,
   "metadata": {},
   "outputs": [],
   "source": [
    "#| eval: False\n",
    "ip = get_ipython()\n",
    "ip.register_magic_function(fr_line, 'line', magic_name='fr')"
   ]
  },
  {
   "cell_type": "code",
   "execution_count": null,
   "metadata": {},
   "outputs": [],
   "source": [
    "%fr Hello there! My name is Alex.\n",
    "\n",
    "# Hello Alex! It's nice to meet you. How can I assist you today? Is there anything specific you'd\n",
    "# like to talk about or any questions you have?\n",
    "\n",
    "%fr"
   ]
  }
 ],
 "metadata": {
  "kernelspec": {
   "display_name": "python3",
   "language": "python",
   "name": "python3"
  }
 },
 "nbformat": 4,
 "nbformat_minor": 4
}
