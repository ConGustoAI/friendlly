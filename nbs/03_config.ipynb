{
 "cells": [
  {
   "cell_type": "code",
   "execution_count": null,
   "metadata": {},
   "outputs": [],
   "source": [
    "#| default_exp config"
   ]
  },
  {
   "cell_type": "code",
   "execution_count": null,
   "metadata": {},
   "outputs": [],
   "source": [
    "from friendlly.utils import nict\n",
    "from friendlly.notebook import detect_environment, update_code_self\n",
    "import warnings"
   ]
  },
  {
   "cell_type": "code",
   "execution_count": null,
   "metadata": {},
   "outputs": [],
   "source": [
    "#| export\n",
    "\n",
    "def strip_comments(source: str):\n",
    "    \"\"\"Strips Python # comments\"\"\"\n",
    "    lines = source.splitlines()\n",
    "    return \"\\n\".join([ l.split(\"#\")[0] for l in lines ]).strip()\n",
    "\n",
    "def handle_config(cell, global_config):\n",
    "\n",
    "    cell = strip_comments(cell)\n",
    "    # If the cell was empty, show the config\n",
    "    if not cell:\n",
    "        def value_to_str(v):\n",
    "            if isinstance(v, str) and \"\\n\" in v:\n",
    "                return f'\"\"\"{v}\"\"\"'\n",
    "            return str(v)\n",
    "\n",
    "        cell = \"\\n\".join([f\"{k}={value_to_str(v)}\" for k, v in global_config.items()])\n",
    "        update_code_self(\"%%fr config\\n\" + cell)\n",
    "    else:\n",
    "        new_config = {}\n",
    "        # Code, globals, locals. We want the locals\n",
    "        exec(cell, {}, new_config)\n",
    "        global_config.update(new_config)\n",
    "\n",
    "        if global_config.autorun and global_config.environment != \"nbclassic\":\n",
    "            warnings.warn(\"Autorun is only supported in nbclassic environment at the moment.\")\n",
    "\n",
    "        if global_config.md_cells and global_config.environment != \"nbclassic\":\n",
    "            warnings.warn(\"Inserting Markdown cells is only supported in nbclassic environment at the moment.\")\n",
    "        if global_config.api_key:\n",
    "            warnings.warn(\"FIY It's safer to set ANTHROPIC_API_KEY in the environment or even better .env file and use dotenv package to load it.\")"
   ]
  },
  {
   "cell_type": "code",
   "execution_count": null,
   "metadata": {},
   "outputs": [],
   "source": [
    "config = nict(\n",
    "    environment=\"vscode\",\n",
    "    autorun=False,\n",
    "    md_cells=False,\n",
    "    comment_after_run=True,\n",
    "    api_key=None,\n",
    "    model=\"claude-3-5-sonnet-20240620\",\n",
    "    system_prompt=\"You are a cat\",\n",
    ")"
   ]
  },
  {
   "cell_type": "code",
   "execution_count": null,
   "metadata": {},
   "outputs": [],
   "source": [
    "%%fr config\n",
    "environment=vscode\n",
    "autorun=False\n",
    "md_cells=False\n",
    "comment_after_run=True\n",
    "api_key=None\n",
    "model=claude-3-5-sonnet-20240620\n",
    "system_prompt=You are a cat"
   ]
  }
 ],
 "metadata": {
  "kernelspec": {
   "display_name": "python3",
   "language": "python",
   "name": "python3"
  }
 },
 "nbformat": 4,
 "nbformat_minor": 2
}
