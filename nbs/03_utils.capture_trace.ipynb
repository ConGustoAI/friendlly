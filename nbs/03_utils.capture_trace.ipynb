{
 "cells": [
  {
   "cell_type": "markdown",
   "metadata": {},
   "source": [
    "## Capture tracebacks in IPython/Jupyter"
   ]
  },
  {
   "cell_type": "code",
   "execution_count": null,
   "metadata": {},
   "outputs": [],
   "source": [
    "#| default_exp utils.capture_trace"
   ]
  },
  {
   "cell_type": "code",
   "execution_count": null,
   "metadata": {},
   "outputs": [],
   "source": [
    "#| export\n",
    "import re\n",
    "from IPython import get_ipython\n",
    "from friendlly.utils.misc import nict"
   ]
  },
  {
   "cell_type": "code",
   "execution_count": null,
   "metadata": {},
   "outputs": [],
   "source": [
    "#| export\n",
    "def strip_junk(text):\n",
    "    # This line just easts up tokens. We don't need it.\n",
    "    text = text.replace(\"---------------------------------------------------------------------------\", \"\")\n",
    "    ansi_escape = re.compile(r'\\x1B(?:[@-Z\\\\-_]|\\[[0-?]*[ -/]*[@-~])')\n",
    "    return ansi_escape.sub('', text)\n"
   ]
  },
  {
   "cell_type": "code",
   "execution_count": null,
   "metadata": {},
   "outputs": [
    {
     "data": {
      "text/plain": [
       "'Lorem ipsum'"
      ]
     },
     "execution_count": null,
     "metadata": {},
     "output_type": "execute_result"
    }
   ],
   "source": [
    "strip_junk(\"\\033[38mLorem ipsum\\033[0m\")"
   ]
  },
  {
   "cell_type": "code",
   "execution_count": null,
   "metadata": {},
   "outputs": [],
   "source": [
    "#| export\n",
    "class SaveTraceback:\n",
    "    def __init__(self, saved):\n",
    "        self._saved_showtraceback = saved\n",
    "        self.tracebacks = []\n",
    "\n",
    "    def _showtraceback(self, etype, value, stb):\n",
    "        self.tracebacks.append( nict(\n",
    "            ename=etype,\n",
    "            evalue=\", \".join(value.args),\n",
    "            traceback= stb # [\"\\n\".join([ strip_junk(s) for s in stb]) if isinstance(stb, list) else stb]\n",
    "        ))\n",
    "        self._saved_showtraceback(etype, value, stb)\n",
    "\n",
    "    def register(self):\n",
    "        get_ipython()._showtraceback = self._showtraceback\n",
    "\n",
    "    def unregister(self):\n",
    "        get_ipython()._showtraceback = self._saved_showtraceback\n"
   ]
  },
  {
   "cell_type": "code",
   "execution_count": null,
   "metadata": {},
   "outputs": [],
   "source": [
    "ip = get_ipython()\n",
    "saver = SaveTraceback(ip._showtraceback)\n",
    "# ip.SyntaxTB.color_scheme_table.set_active_scheme('NoColor')\n",
    "# ip.InteractiveTB.color_scheme_table.set_active_scheme(\"noColor\")\n",
    "ip._showtraceback = saver._showtraceback\n",
    "# ip.colors = 'NoColor'"
   ]
  },
  {
   "cell_type": "code",
   "execution_count": null,
   "metadata": {},
   "outputs": [
    {
     "ename": "ValueError",
     "evalue": "This is a nested exception",
     "output_type": "error",
     "traceback": [
      "\u001b[0;31m---------------------------------------------------------------------------\u001b[0m",
      "\u001b[0;31mZeroDivisionError\u001b[0m                         Traceback (most recent call last)",
      "Cell \u001b[0;32mIn[41], line 4\u001b[0m, in \u001b[0;36mouter_exception\u001b[0;34m()\u001b[0m\n\u001b[1;32m      3\u001b[0m \u001b[38;5;28;01mtry\u001b[39;00m:\n\u001b[0;32m----> 4\u001b[0m     \u001b[38;5;241;43m1\u001b[39;49m\u001b[43m \u001b[49m\u001b[38;5;241;43m/\u001b[39;49m\u001b[43m \u001b[49m\u001b[38;5;241;43m0\u001b[39;49m  \u001b[38;5;66;03m# Raises ZeroDivisionError\u001b[39;00m\n\u001b[1;32m      5\u001b[0m \u001b[38;5;28;01mexcept\u001b[39;00m \u001b[38;5;167;01mZeroDivisionError\u001b[39;00m:\n",
      "\u001b[0;31mZeroDivisionError\u001b[0m: division by zero",
      "\nDuring handling of the above exception, another exception occurred:\n",
      "\u001b[0;31mValueError\u001b[0m                                Traceback (most recent call last)",
      "Cell \u001b[0;32mIn[41], line 8\u001b[0m\n\u001b[1;32m      5\u001b[0m     \u001b[38;5;28;01mexcept\u001b[39;00m \u001b[38;5;167;01mZeroDivisionError\u001b[39;00m:\n\u001b[1;32m      6\u001b[0m         \u001b[38;5;28;01mraise\u001b[39;00m \u001b[38;5;167;01mValueError\u001b[39;00m(\u001b[38;5;124m\"\u001b[39m\u001b[38;5;124mThis is a nested exception\u001b[39m\u001b[38;5;124m\"\u001b[39m)\n\u001b[0;32m----> 8\u001b[0m \u001b[43mouter_exception\u001b[49m\u001b[43m(\u001b[49m\u001b[43m)\u001b[49m\n",
      "Cell \u001b[0;32mIn[41], line 6\u001b[0m, in \u001b[0;36mouter_exception\u001b[0;34m()\u001b[0m\n\u001b[1;32m      4\u001b[0m     \u001b[38;5;241m1\u001b[39m \u001b[38;5;241m/\u001b[39m \u001b[38;5;241m0\u001b[39m  \u001b[38;5;66;03m# Raises ZeroDivisionError\u001b[39;00m\n\u001b[1;32m      5\u001b[0m \u001b[38;5;28;01mexcept\u001b[39;00m \u001b[38;5;167;01mZeroDivisionError\u001b[39;00m:\n\u001b[0;32m----> 6\u001b[0m     \u001b[38;5;28;01mraise\u001b[39;00m \u001b[38;5;167;01mValueError\u001b[39;00m(\u001b[38;5;124m\"\u001b[39m\u001b[38;5;124mThis is a nested exception\u001b[39m\u001b[38;5;124m\"\u001b[39m)\n",
      "\u001b[0;31mValueError\u001b[0m: This is a nested exception"
     ]
    }
   ],
   "source": [
    "#| eval: false\n",
    "def outer_exception():\n",
    "    try:\n",
    "        1 / 0  # Raises ZeroDivisionError\n",
    "    except ZeroDivisionError:\n",
    "        raise ValueError(\"This is a nested exception\")\n",
    "\n",
    "outer_exception()"
   ]
  },
  {
   "cell_type": "code",
   "execution_count": null,
   "metadata": {},
   "outputs": [
    {
     "data": {
      "text/plain": [
       "[{'ename': 'ValueError',\n",
       "  'evalue': 'This is a nested exception',\n",
       "  'tracecbacks': ['\\nZeroDivisionError                         Traceback (most recent call last)\\nCell In[41], line 4, in outer_exception()\\n      3 try:\\n----> 4     1 / 0  # Raises ZeroDivisionError\\n      5 except ZeroDivisionError:\\n\\nZeroDivisionError: division by zero\\n\\nDuring handling of the above exception, another exception occurred:\\n\\nValueError                                Traceback (most recent call last)\\nCell In[41], line 8\\n      5     except ZeroDivisionError:\\n      6         raise ValueError(\"This is a nested exception\")\\n----> 8 outer_exception()\\n\\nCell In[41], line 6, in outer_exception()\\n      4     1 / 0  # Raises ZeroDivisionError\\n      5 except ZeroDivisionError:\\n----> 6     raise ValueError(\"This is a nested exception\")\\n\\nValueError: This is a nested exception']}]"
      ]
     },
     "execution_count": null,
     "metadata": {},
     "output_type": "execute_result"
    }
   ],
   "source": [
    "saver.tracebacks"
   ]
  }
 ],
 "metadata": {
  "kernelspec": {
   "display_name": "python3",
   "language": "python",
   "name": "python3"
  }
 },
 "nbformat": 4,
 "nbformat_minor": 2
}
