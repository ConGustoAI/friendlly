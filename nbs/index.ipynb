{
 "cells": [
  {
   "cell_type": "markdown",
   "metadata": {},
   "source": [
    "# FriendLLy\n",
    "\n",
    "> Your friendlly ai assistant"
   ]
  },
  {
   "cell_type": "markdown",
   "metadata": {},
   "source": [
    "## Install"
   ]
  },
  {
   "cell_type": "markdown",
   "metadata": {},
   "source": [
    "```sh\n",
    "pip install friendlly\n",
    "```"
   ]
  },
  {
   "cell_type": "markdown",
   "metadata": {},
   "source": [
    "## How to use"
   ]
  },
  {
   "cell_type": "code",
   "execution_count": null,
   "metadata": {},
   "outputs": [],
   "source": [
    "#| eval: false\n",
    "import os\n",
    "# os.environ['ANTHROPIC_API_KEY'] = 'your-very-secret-anthropic-api-key'\n",
    "\n",
    "# Or even better, use dotenv instead:\n",
    "# (assuming you have an .env file with 'ANTHROPIC_API_KEY=your-very-secret-anthropic-api-key' in it)\n",
    "import dotenv; dotenv.load_dotenv(\"../.env\");"
   ]
  },
  {
   "cell_type": "markdown",
   "metadata": {},
   "source": [
    "---"
   ]
  },
  {
   "cell_type": "markdown",
   "metadata": {},
   "source": [
    "```python\n",
    "%load_ext friendlly\n",
    "```"
   ]
  },
  {
   "cell_type": "markdown",
   "metadata": {},
   "source": [
    "```python\n",
    "%fr Hello there! My name is Alex.\n",
    "# Hello Alex! It's nice to meet you. I'm an AI assistant created by Anthropic to be helpful,\n",
    "# harmless, and honest. How can I help you today?\n",
    "\n",
    "%fr\n",
    "```"
   ]
  },
  {
   "cell_type": "code",
   "execution_count": null,
   "metadata": {},
   "outputs": [
    {
     "data": {
      "application/javascript": [
       "\n",
       "    Jupyter.CodeCell.prototype.execute = function (stop_on_error) {\n",
       "        if (!this.kernel) {\n",
       "            console.log(i18n.msg._(\"Can't execute cell since kernel is not set.\"));\n",
       "            return;\n",
       "        }\n",
       "\n",
       "        if (stop_on_error === undefined) {\n",
       "            if (this.metadata !== undefined &&\n",
       "                    this.metadata.tags !== undefined) {\n",
       "                if (this.metadata.tags.indexOf('raises-exception') !== -1) {\n",
       "                    stop_on_error = false;\n",
       "                } else {\n",
       "                    stop_on_error = true;\n",
       "                }\n",
       "            } else {\n",
       "               stop_on_error = true;\n",
       "            }\n",
       "        }\n",
       "\n",
       "        this.clear_output(false, true);\n",
       "        var old_msg_id = this.last_msg_id;\n",
       "        if (old_msg_id) {\n",
       "            this.kernel.clear_callbacks_for_msg(old_msg_id);\n",
       "            delete Jupyter.CodeCell.msg_cells[old_msg_id];\n",
       "            this.last_msg_id = null;\n",
       "        }\n",
       "        if (this.get_text().trim().length === 0) {\n",
       "            // nothing to do\n",
       "            this.set_input_prompt(null);\n",
       "            return;\n",
       "        }\n",
       "        this.set_input_prompt('*');\n",
       "        this.element.addClass(\"running\");\n",
       "        var callbacks = this.get_callbacks();\n",
       "\n",
       "\n",
       "        const cell_index = Jupyter.notebook.find_cell_index(this)\n",
       "        const cell_id = this.id\n",
       "        let extras = {\n",
       "            cell_index :cell_index,\n",
       "            current_id: cell_id\n",
       "        }\n",
       "        if (this.get_text().trim().startsWith(\"##fr\")) {\n",
       "            extras = {\n",
       "                all_cells: Jupyter.notebook.get_cells(),\n",
       "                ...extras\n",
       "            }\n",
       "        }\n",
       "\n",
       "        this.last_msg_id = this.kernel.execute(\n",
       "            this.get_text(),\n",
       "            callbacks,\n",
       "            {silent: false, store_history: true, stop_on_error : stop_on_error, ...extras });\n",
       "        Jupyter.CodeCell.msg_cells[this.last_msg_id] = this;\n",
       "        this.render();\n",
       "        this.events.trigger('execute.CodeCell', {cell: this});\n",
       "        var that = this;\n",
       "        function handleFinished(evt, data) {\n",
       "            if (that.kernel.id === data.kernel.id && that.last_msg_id === data.msg_id) {\n",
       "                    that.events.trigger('finished_execute.CodeCell', {cell: that});\n",
       "                that.events.off('finished_iopub.Kernel', handleFinished);\n",
       "              }\n",
       "        }\n",
       "        this.events.on('finished_iopub.Kernel', handleFinished);\n",
       "    };\n",
       "    Jupyter.notebook.events.trigger('set_dirty.Notebook', {value: true});\n",
       "\n",
       "    "
      ],
      "text/plain": [
       "<IPython.core.display.Javascript object>"
      ]
     },
     "metadata": {},
     "output_type": "display_data"
    }
   ],
   "source": [
    "%load_ext friendlly"
   ]
  },
  {
   "cell_type": "code",
   "execution_count": null,
   "metadata": {},
   "outputs": [],
   "source": [
    "# %fr test"
   ]
  },
  {
   "cell_type": "code",
   "execution_count": null,
   "metadata": {},
   "outputs": [],
   "source": [
    "# %%fr\n",
    "\n",
    "# Download an image of a cat and show it"
   ]
  }
 ],
 "metadata": {
  "kernelspec": {
   "display_name": "python3",
   "language": "python",
   "name": "python3"
  }
 },
 "nbformat": 4,
 "nbformat_minor": 4
}
